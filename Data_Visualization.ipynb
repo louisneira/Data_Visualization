{
 "cells": [
  {
   "cell_type": "code",
   "execution_count": 467,
   "metadata": {},
   "outputs": [],
   "source": [
    "import numpy as np\n",
    "import pandas as pd\n",
    "import matplotlib.pyplot as plt\n",
    "import seaborn as sns\n",
    "\n",
    "%matplotlib inline"
   ]
  },
  {
   "cell_type": "code",
   "execution_count": 468,
   "metadata": {},
   "outputs": [],
   "source": [
    "loan_data_raw = pd.read_csv('prosperLoanData.csv')"
   ]
  },
  {
   "cell_type": "code",
   "execution_count": 469,
   "metadata": {},
   "outputs": [
    {
     "data": {
      "text/html": [
       "<div>\n",
       "<style scoped>\n",
       "    .dataframe tbody tr th:only-of-type {\n",
       "        vertical-align: middle;\n",
       "    }\n",
       "\n",
       "    .dataframe tbody tr th {\n",
       "        vertical-align: top;\n",
       "    }\n",
       "\n",
       "    .dataframe thead th {\n",
       "        text-align: right;\n",
       "    }\n",
       "</style>\n",
       "<table border=\"1\" class=\"dataframe\">\n",
       "  <thead>\n",
       "    <tr style=\"text-align: right;\">\n",
       "      <th></th>\n",
       "      <th>ListingKey</th>\n",
       "      <th>ListingNumber</th>\n",
       "      <th>ListingCreationDate</th>\n",
       "      <th>CreditGrade</th>\n",
       "      <th>Term</th>\n",
       "      <th>LoanStatus</th>\n",
       "      <th>ClosedDate</th>\n",
       "      <th>BorrowerAPR</th>\n",
       "      <th>BorrowerRate</th>\n",
       "      <th>LenderYield</th>\n",
       "      <th>...</th>\n",
       "      <th>LP_ServiceFees</th>\n",
       "      <th>LP_CollectionFees</th>\n",
       "      <th>LP_GrossPrincipalLoss</th>\n",
       "      <th>LP_NetPrincipalLoss</th>\n",
       "      <th>LP_NonPrincipalRecoverypayments</th>\n",
       "      <th>PercentFunded</th>\n",
       "      <th>Recommendations</th>\n",
       "      <th>InvestmentFromFriendsCount</th>\n",
       "      <th>InvestmentFromFriendsAmount</th>\n",
       "      <th>Investors</th>\n",
       "    </tr>\n",
       "  </thead>\n",
       "  <tbody>\n",
       "    <tr>\n",
       "      <th>0</th>\n",
       "      <td>1021339766868145413AB3B</td>\n",
       "      <td>193129</td>\n",
       "      <td>2007-08-26 19:09:29.263000000</td>\n",
       "      <td>C</td>\n",
       "      <td>36</td>\n",
       "      <td>Completed</td>\n",
       "      <td>2009-08-14 00:00:00</td>\n",
       "      <td>0.16516</td>\n",
       "      <td>0.1580</td>\n",
       "      <td>0.1380</td>\n",
       "      <td>...</td>\n",
       "      <td>-133.18</td>\n",
       "      <td>0.0</td>\n",
       "      <td>0.0</td>\n",
       "      <td>0.0</td>\n",
       "      <td>0.0</td>\n",
       "      <td>1.0</td>\n",
       "      <td>0</td>\n",
       "      <td>0</td>\n",
       "      <td>0.0</td>\n",
       "      <td>258</td>\n",
       "    </tr>\n",
       "    <tr>\n",
       "      <th>1</th>\n",
       "      <td>10273602499503308B223C1</td>\n",
       "      <td>1209647</td>\n",
       "      <td>2014-02-27 08:28:07.900000000</td>\n",
       "      <td>NaN</td>\n",
       "      <td>36</td>\n",
       "      <td>Current</td>\n",
       "      <td>NaN</td>\n",
       "      <td>0.12016</td>\n",
       "      <td>0.0920</td>\n",
       "      <td>0.0820</td>\n",
       "      <td>...</td>\n",
       "      <td>0.00</td>\n",
       "      <td>0.0</td>\n",
       "      <td>0.0</td>\n",
       "      <td>0.0</td>\n",
       "      <td>0.0</td>\n",
       "      <td>1.0</td>\n",
       "      <td>0</td>\n",
       "      <td>0</td>\n",
       "      <td>0.0</td>\n",
       "      <td>1</td>\n",
       "    </tr>\n",
       "    <tr>\n",
       "      <th>2</th>\n",
       "      <td>0EE9337825851032864889A</td>\n",
       "      <td>81716</td>\n",
       "      <td>2007-01-05 15:00:47.090000000</td>\n",
       "      <td>HR</td>\n",
       "      <td>36</td>\n",
       "      <td>Completed</td>\n",
       "      <td>2009-12-17 00:00:00</td>\n",
       "      <td>0.28269</td>\n",
       "      <td>0.2750</td>\n",
       "      <td>0.2400</td>\n",
       "      <td>...</td>\n",
       "      <td>-24.20</td>\n",
       "      <td>0.0</td>\n",
       "      <td>0.0</td>\n",
       "      <td>0.0</td>\n",
       "      <td>0.0</td>\n",
       "      <td>1.0</td>\n",
       "      <td>0</td>\n",
       "      <td>0</td>\n",
       "      <td>0.0</td>\n",
       "      <td>41</td>\n",
       "    </tr>\n",
       "    <tr>\n",
       "      <th>3</th>\n",
       "      <td>0EF5356002482715299901A</td>\n",
       "      <td>658116</td>\n",
       "      <td>2012-10-22 11:02:35.010000000</td>\n",
       "      <td>NaN</td>\n",
       "      <td>36</td>\n",
       "      <td>Current</td>\n",
       "      <td>NaN</td>\n",
       "      <td>0.12528</td>\n",
       "      <td>0.0974</td>\n",
       "      <td>0.0874</td>\n",
       "      <td>...</td>\n",
       "      <td>-108.01</td>\n",
       "      <td>0.0</td>\n",
       "      <td>0.0</td>\n",
       "      <td>0.0</td>\n",
       "      <td>0.0</td>\n",
       "      <td>1.0</td>\n",
       "      <td>0</td>\n",
       "      <td>0</td>\n",
       "      <td>0.0</td>\n",
       "      <td>158</td>\n",
       "    </tr>\n",
       "    <tr>\n",
       "      <th>4</th>\n",
       "      <td>0F023589499656230C5E3E2</td>\n",
       "      <td>909464</td>\n",
       "      <td>2013-09-14 18:38:39.097000000</td>\n",
       "      <td>NaN</td>\n",
       "      <td>36</td>\n",
       "      <td>Current</td>\n",
       "      <td>NaN</td>\n",
       "      <td>0.24614</td>\n",
       "      <td>0.2085</td>\n",
       "      <td>0.1985</td>\n",
       "      <td>...</td>\n",
       "      <td>-60.27</td>\n",
       "      <td>0.0</td>\n",
       "      <td>0.0</td>\n",
       "      <td>0.0</td>\n",
       "      <td>0.0</td>\n",
       "      <td>1.0</td>\n",
       "      <td>0</td>\n",
       "      <td>0</td>\n",
       "      <td>0.0</td>\n",
       "      <td>20</td>\n",
       "    </tr>\n",
       "  </tbody>\n",
       "</table>\n",
       "<p>5 rows × 81 columns</p>\n",
       "</div>"
      ],
      "text/plain": [
       "                ListingKey  ListingNumber            ListingCreationDate  \\\n",
       "0  1021339766868145413AB3B         193129  2007-08-26 19:09:29.263000000   \n",
       "1  10273602499503308B223C1        1209647  2014-02-27 08:28:07.900000000   \n",
       "2  0EE9337825851032864889A          81716  2007-01-05 15:00:47.090000000   \n",
       "3  0EF5356002482715299901A         658116  2012-10-22 11:02:35.010000000   \n",
       "4  0F023589499656230C5E3E2         909464  2013-09-14 18:38:39.097000000   \n",
       "\n",
       "  CreditGrade  Term LoanStatus           ClosedDate  BorrowerAPR  \\\n",
       "0           C    36  Completed  2009-08-14 00:00:00      0.16516   \n",
       "1         NaN    36    Current                  NaN      0.12016   \n",
       "2          HR    36  Completed  2009-12-17 00:00:00      0.28269   \n",
       "3         NaN    36    Current                  NaN      0.12528   \n",
       "4         NaN    36    Current                  NaN      0.24614   \n",
       "\n",
       "   BorrowerRate  LenderYield  ...  LP_ServiceFees  LP_CollectionFees  \\\n",
       "0        0.1580       0.1380  ...         -133.18                0.0   \n",
       "1        0.0920       0.0820  ...            0.00                0.0   \n",
       "2        0.2750       0.2400  ...          -24.20                0.0   \n",
       "3        0.0974       0.0874  ...         -108.01                0.0   \n",
       "4        0.2085       0.1985  ...          -60.27                0.0   \n",
       "\n",
       "   LP_GrossPrincipalLoss  LP_NetPrincipalLoss LP_NonPrincipalRecoverypayments  \\\n",
       "0                    0.0                  0.0                             0.0   \n",
       "1                    0.0                  0.0                             0.0   \n",
       "2                    0.0                  0.0                             0.0   \n",
       "3                    0.0                  0.0                             0.0   \n",
       "4                    0.0                  0.0                             0.0   \n",
       "\n",
       "   PercentFunded  Recommendations InvestmentFromFriendsCount  \\\n",
       "0            1.0                0                          0   \n",
       "1            1.0                0                          0   \n",
       "2            1.0                0                          0   \n",
       "3            1.0                0                          0   \n",
       "4            1.0                0                          0   \n",
       "\n",
       "  InvestmentFromFriendsAmount Investors  \n",
       "0                         0.0       258  \n",
       "1                         0.0         1  \n",
       "2                         0.0        41  \n",
       "3                         0.0       158  \n",
       "4                         0.0        20  \n",
       "\n",
       "[5 rows x 81 columns]"
      ]
     },
     "execution_count": 469,
     "metadata": {},
     "output_type": "execute_result"
    }
   ],
   "source": [
    "loan_data_raw.head()"
   ]
  },
  {
   "cell_type": "code",
   "execution_count": 470,
   "metadata": {
    "scrolled": true
   },
   "outputs": [
    {
     "name": "stdout",
     "output_type": "stream",
     "text": [
      "<class 'pandas.core.frame.DataFrame'>\n",
      "RangeIndex: 113937 entries, 0 to 113936\n",
      "Data columns (total 81 columns):\n",
      "ListingKey                             113937 non-null object\n",
      "ListingNumber                          113937 non-null int64\n",
      "ListingCreationDate                    113937 non-null object\n",
      "CreditGrade                            28953 non-null object\n",
      "Term                                   113937 non-null int64\n",
      "LoanStatus                             113937 non-null object\n",
      "ClosedDate                             55089 non-null object\n",
      "BorrowerAPR                            113912 non-null float64\n",
      "BorrowerRate                           113937 non-null float64\n",
      "LenderYield                            113937 non-null float64\n",
      "EstimatedEffectiveYield                84853 non-null float64\n",
      "EstimatedLoss                          84853 non-null float64\n",
      "EstimatedReturn                        84853 non-null float64\n",
      "ProsperRating (numeric)                84853 non-null float64\n",
      "ProsperRating (Alpha)                  84853 non-null object\n",
      "ProsperScore                           84853 non-null float64\n",
      "ListingCategory (numeric)              113937 non-null int64\n",
      "BorrowerState                          108422 non-null object\n",
      "Occupation                             110349 non-null object\n",
      "EmploymentStatus                       111682 non-null object\n",
      "EmploymentStatusDuration               106312 non-null float64\n",
      "IsBorrowerHomeowner                    113937 non-null bool\n",
      "CurrentlyInGroup                       113937 non-null bool\n",
      "GroupKey                               13341 non-null object\n",
      "DateCreditPulled                       113937 non-null object\n",
      "CreditScoreRangeLower                  113346 non-null float64\n",
      "CreditScoreRangeUpper                  113346 non-null float64\n",
      "FirstRecordedCreditLine                113240 non-null object\n",
      "CurrentCreditLines                     106333 non-null float64\n",
      "OpenCreditLines                        106333 non-null float64\n",
      "TotalCreditLinespast7years             113240 non-null float64\n",
      "OpenRevolvingAccounts                  113937 non-null int64\n",
      "OpenRevolvingMonthlyPayment            113937 non-null float64\n",
      "InquiriesLast6Months                   113240 non-null float64\n",
      "TotalInquiries                         112778 non-null float64\n",
      "CurrentDelinquencies                   113240 non-null float64\n",
      "AmountDelinquent                       106315 non-null float64\n",
      "DelinquenciesLast7Years                112947 non-null float64\n",
      "PublicRecordsLast10Years               113240 non-null float64\n",
      "PublicRecordsLast12Months              106333 non-null float64\n",
      "RevolvingCreditBalance                 106333 non-null float64\n",
      "BankcardUtilization                    106333 non-null float64\n",
      "AvailableBankcardCredit                106393 non-null float64\n",
      "TotalTrades                            106393 non-null float64\n",
      "TradesNeverDelinquent (percentage)     106393 non-null float64\n",
      "TradesOpenedLast6Months                106393 non-null float64\n",
      "DebtToIncomeRatio                      105383 non-null float64\n",
      "IncomeRange                            113937 non-null object\n",
      "IncomeVerifiable                       113937 non-null bool\n",
      "StatedMonthlyIncome                    113937 non-null float64\n",
      "LoanKey                                113937 non-null object\n",
      "TotalProsperLoans                      22085 non-null float64\n",
      "TotalProsperPaymentsBilled             22085 non-null float64\n",
      "OnTimeProsperPayments                  22085 non-null float64\n",
      "ProsperPaymentsLessThanOneMonthLate    22085 non-null float64\n",
      "ProsperPaymentsOneMonthPlusLate        22085 non-null float64\n",
      "ProsperPrincipalBorrowed               22085 non-null float64\n",
      "ProsperPrincipalOutstanding            22085 non-null float64\n",
      "ScorexChangeAtTimeOfListing            18928 non-null float64\n",
      "LoanCurrentDaysDelinquent              113937 non-null int64\n",
      "LoanFirstDefaultedCycleNumber          16952 non-null float64\n",
      "LoanMonthsSinceOrigination             113937 non-null int64\n",
      "LoanNumber                             113937 non-null int64\n",
      "LoanOriginalAmount                     113937 non-null int64\n",
      "LoanOriginationDate                    113937 non-null object\n",
      "LoanOriginationQuarter                 113937 non-null object\n",
      "MemberKey                              113937 non-null object\n",
      "MonthlyLoanPayment                     113937 non-null float64\n",
      "LP_CustomerPayments                    113937 non-null float64\n",
      "LP_CustomerPrincipalPayments           113937 non-null float64\n",
      "LP_InterestandFees                     113937 non-null float64\n",
      "LP_ServiceFees                         113937 non-null float64\n",
      "LP_CollectionFees                      113937 non-null float64\n",
      "LP_GrossPrincipalLoss                  113937 non-null float64\n",
      "LP_NetPrincipalLoss                    113937 non-null float64\n",
      "LP_NonPrincipalRecoverypayments        113937 non-null float64\n",
      "PercentFunded                          113937 non-null float64\n",
      "Recommendations                        113937 non-null int64\n",
      "InvestmentFromFriendsCount             113937 non-null int64\n",
      "InvestmentFromFriendsAmount            113937 non-null float64\n",
      "Investors                              113937 non-null int64\n",
      "dtypes: bool(3), float64(50), int64(11), object(17)\n",
      "memory usage: 68.1+ MB\n"
     ]
    }
   ],
   "source": [
    "loan_data_raw.info()"
   ]
  },
  {
   "cell_type": "code",
   "execution_count": 471,
   "metadata": {},
   "outputs": [
    {
     "data": {
      "text/plain": [
       "count    84853.000000\n",
       "mean         0.080306\n",
       "std          0.046764\n",
       "min          0.004900\n",
       "25%          0.042400\n",
       "50%          0.072400\n",
       "75%          0.112000\n",
       "max          0.366000\n",
       "Name: EstimatedLoss, dtype: float64"
      ]
     },
     "execution_count": 471,
     "metadata": {},
     "output_type": "execute_result"
    }
   ],
   "source": [
    "loan_data_raw['EstimatedLoss'].describe()"
   ]
  },
  {
   "cell_type": "code",
   "execution_count": 472,
   "metadata": {},
   "outputs": [
    {
     "data": {
      "text/plain": [
       "0.0     21700\n",
       "1.0       185\n",
       "2.0        69\n",
       "3.0        49\n",
       "4.0        20\n",
       "7.0        16\n",
       "5.0        16\n",
       "6.0         9\n",
       "8.0         5\n",
       "11.0        3\n",
       "21.0        3\n",
       "19.0        3\n",
       "9.0         3\n",
       "12.0        1\n",
       "10.0        1\n",
       "18.0        1\n",
       "16.0        1\n",
       "Name: ProsperPaymentsOneMonthPlusLate, dtype: int64"
      ]
     },
     "execution_count": 472,
     "metadata": {},
     "output_type": "execute_result"
    }
   ],
   "source": [
    "loan_data_raw['ProsperPaymentsOneMonthPlusLate'].value_counts()"
   ]
  },
  {
   "cell_type": "code",
   "execution_count": 473,
   "metadata": {},
   "outputs": [
    {
     "data": {
      "text/plain": [
       "Other                                28617\n",
       "Professional                         13628\n",
       "Computer Programmer                   4478\n",
       "Executive                             4311\n",
       "Teacher                               3759\n",
       "Administrative Assistant              3688\n",
       "Analyst                               3602\n",
       "Sales - Commission                    3446\n",
       "Accountant/CPA                        3233\n",
       "Clerical                              3164\n",
       "Sales - Retail                        2797\n",
       "Skilled Labor                         2746\n",
       "Retail Management                     2602\n",
       "Nurse (RN)                            2489\n",
       "Construction                          1790\n",
       "Truck Driver                          1675\n",
       "Laborer                               1595\n",
       "Police Officer/Correction Officer     1578\n",
       "Civil Service                         1457\n",
       "Engineer - Mechanical                 1406\n",
       "Name: Occupation, dtype: int64"
      ]
     },
     "execution_count": 473,
     "metadata": {},
     "output_type": "execute_result"
    }
   ],
   "source": [
    "loan_data_raw['Occupation'].value_counts()[0:20]"
   ]
  },
  {
   "cell_type": "markdown",
   "metadata": {},
   "source": [
    "As there are 81 columns in this data set, a subset of the data will be copied for initial analysis. Assuming that 'EstimatedLoss' and 'EstimatedReturn' are dependent variables, the subset initially contains 17 independent variables and 2 dependent variables.\n",
    "\n",
    "Independent Variables:\n",
    "\n",
    "- AmountDelinquent\n",
    "- BorrowerAPR\n",
    "- BorrowerRate\n",
    "- CreditScoreRangeUpper\n",
    "- CreditScoreRangeLower\n",
    "- DebtToIncomeRatio\n",
    "- EmploymentStatus\n",
    "- EmploymentStatusDuration\n",
    "- IsBorrowerHomeowner\n",
    "- LoanOriginalAmount\n",
    "- Occupation\n",
    "- PercentFunded\n",
    "- ProserPaymentsLessThanOneMonthLate\n",
    "- ProsperPaymentsOneMonthPlusLate\n",
    "- ProsperPrincipalBorrowed\n",
    "- ProsperPrincipalOutstanding\n",
    "- ProsperRating (numeric)\n",
    "- StatedMonthlyIncome\n",
    "\n",
    "Dependent Variables:\n",
    "\n",
    "- EstimatedLoss\n",
    "- EstimatedReturn"
   ]
  },
  {
   "cell_type": "code",
   "execution_count": 474,
   "metadata": {},
   "outputs": [],
   "source": [
    "loan_data = loan_data_raw[['AmountDelinquent', 'BorrowerAPR', 'BorrowerRate', 'CreditScoreRangeUpper', 'CreditScoreRangeLower',\n",
    "                           'DebtToIncomeRatio', 'EmploymentStatus', 'EmploymentStatusDuration', \n",
    "                           'IsBorrowerHomeowner', 'LoanOriginalAmount', 'Occupation', 'PercentFunded', \n",
    "                           'ProsperPaymentsLessThanOneMonthLate', 'ProsperPaymentsOneMonthPlusLate', \n",
    "                           'ProsperPrincipalBorrowed', 'ProsperPrincipalOutstanding', \n",
    "                           'ProsperRating (numeric)', 'StatedMonthlyIncome', 'EstimatedLoss', 'EstimatedReturn']].copy()"
   ]
  },
  {
   "cell_type": "markdown",
   "metadata": {},
   "source": [
    "Based on an initial view of the columns, it appears that the columns 'CreditScoreRangeUpper' and 'CreditScoreRangeLower' contain very similar data, likely provide similar information, and likely have a similar impact on other variables of interest. As a result, it may be worthwhile to create another variable that captures information from both of these variables and use that for analysis instead. This is done by creating another variable 'CreditScoreRangeAvg' that is the average of these two variables. In this way, we capture information from both columns while only needing to use one column."
   ]
  },
  {
   "cell_type": "code",
   "execution_count": 475,
   "metadata": {},
   "outputs": [],
   "source": [
    "loan_data['CreditScoreRangeAvg'] = 0\n",
    "loan_data['CreditScoreRangeAvg'] = (loan_data['CreditScoreRangeUpper'] + loan_data['CreditScoreRangeLower']) / 2"
   ]
  },
  {
   "cell_type": "code",
   "execution_count": 476,
   "metadata": {},
   "outputs": [
    {
     "data": {
      "text/html": [
       "<div>\n",
       "<style scoped>\n",
       "    .dataframe tbody tr th:only-of-type {\n",
       "        vertical-align: middle;\n",
       "    }\n",
       "\n",
       "    .dataframe tbody tr th {\n",
       "        vertical-align: top;\n",
       "    }\n",
       "\n",
       "    .dataframe thead th {\n",
       "        text-align: right;\n",
       "    }\n",
       "</style>\n",
       "<table border=\"1\" class=\"dataframe\">\n",
       "  <thead>\n",
       "    <tr style=\"text-align: right;\">\n",
       "      <th></th>\n",
       "      <th>CreditScoreRangeAvg</th>\n",
       "      <th>CreditScoreRangeUpper</th>\n",
       "      <th>CreditScoreRangeLower</th>\n",
       "    </tr>\n",
       "  </thead>\n",
       "  <tbody>\n",
       "    <tr>\n",
       "      <th>count</th>\n",
       "      <td>113346.000000</td>\n",
       "      <td>113346.000000</td>\n",
       "      <td>113346.000000</td>\n",
       "    </tr>\n",
       "    <tr>\n",
       "      <th>mean</th>\n",
       "      <td>695.067731</td>\n",
       "      <td>704.567731</td>\n",
       "      <td>685.567731</td>\n",
       "    </tr>\n",
       "    <tr>\n",
       "      <th>std</th>\n",
       "      <td>66.458275</td>\n",
       "      <td>66.458275</td>\n",
       "      <td>66.458275</td>\n",
       "    </tr>\n",
       "    <tr>\n",
       "      <th>min</th>\n",
       "      <td>9.500000</td>\n",
       "      <td>19.000000</td>\n",
       "      <td>0.000000</td>\n",
       "    </tr>\n",
       "    <tr>\n",
       "      <th>25%</th>\n",
       "      <td>669.500000</td>\n",
       "      <td>679.000000</td>\n",
       "      <td>660.000000</td>\n",
       "    </tr>\n",
       "    <tr>\n",
       "      <th>50%</th>\n",
       "      <td>689.500000</td>\n",
       "      <td>699.000000</td>\n",
       "      <td>680.000000</td>\n",
       "    </tr>\n",
       "    <tr>\n",
       "      <th>75%</th>\n",
       "      <td>729.500000</td>\n",
       "      <td>739.000000</td>\n",
       "      <td>720.000000</td>\n",
       "    </tr>\n",
       "    <tr>\n",
       "      <th>max</th>\n",
       "      <td>889.500000</td>\n",
       "      <td>899.000000</td>\n",
       "      <td>880.000000</td>\n",
       "    </tr>\n",
       "  </tbody>\n",
       "</table>\n",
       "</div>"
      ],
      "text/plain": [
       "       CreditScoreRangeAvg  CreditScoreRangeUpper  CreditScoreRangeLower\n",
       "count        113346.000000          113346.000000          113346.000000\n",
       "mean            695.067731             704.567731             685.567731\n",
       "std              66.458275              66.458275              66.458275\n",
       "min               9.500000              19.000000               0.000000\n",
       "25%             669.500000             679.000000             660.000000\n",
       "50%             689.500000             699.000000             680.000000\n",
       "75%             729.500000             739.000000             720.000000\n",
       "max             889.500000             899.000000             880.000000"
      ]
     },
     "execution_count": 476,
     "metadata": {},
     "output_type": "execute_result"
    }
   ],
   "source": [
    "loan_data[['CreditScoreRangeAvg', 'CreditScoreRangeUpper', 'CreditScoreRangeLower']].describe()"
   ]
  },
  {
   "cell_type": "code",
   "execution_count": 477,
   "metadata": {},
   "outputs": [],
   "source": [
    "loan_data.drop(columns=['CreditScoreRangeUpper', 'CreditScoreRangeLower'], inplace=True)"
   ]
  },
  {
   "cell_type": "code",
   "execution_count": 478,
   "metadata": {},
   "outputs": [
    {
     "name": "stdout",
     "output_type": "stream",
     "text": [
      "<class 'pandas.core.frame.DataFrame'>\n",
      "RangeIndex: 113937 entries, 0 to 113936\n",
      "Data columns (total 19 columns):\n",
      "AmountDelinquent                       106315 non-null float64\n",
      "BorrowerAPR                            113912 non-null float64\n",
      "BorrowerRate                           113937 non-null float64\n",
      "DebtToIncomeRatio                      105383 non-null float64\n",
      "EmploymentStatus                       111682 non-null object\n",
      "EmploymentStatusDuration               106312 non-null float64\n",
      "IsBorrowerHomeowner                    113937 non-null bool\n",
      "LoanOriginalAmount                     113937 non-null int64\n",
      "Occupation                             110349 non-null object\n",
      "PercentFunded                          113937 non-null float64\n",
      "ProsperPaymentsLessThanOneMonthLate    22085 non-null float64\n",
      "ProsperPaymentsOneMonthPlusLate        22085 non-null float64\n",
      "ProsperPrincipalBorrowed               22085 non-null float64\n",
      "ProsperPrincipalOutstanding            22085 non-null float64\n",
      "ProsperRating (numeric)                84853 non-null float64\n",
      "StatedMonthlyIncome                    113937 non-null float64\n",
      "EstimatedLoss                          84853 non-null float64\n",
      "EstimatedReturn                        84853 non-null float64\n",
      "CreditScoreRangeAvg                    113346 non-null float64\n",
      "dtypes: bool(1), float64(15), int64(1), object(2)\n",
      "memory usage: 15.8+ MB\n"
     ]
    }
   ],
   "source": [
    "loan_data.info()"
   ]
  },
  {
   "cell_type": "markdown",
   "metadata": {},
   "source": [
    "# 2. Data Exploration with Visuals"
   ]
  },
  {
   "cell_type": "markdown",
   "metadata": {},
   "source": [
    "## A. Plot Matrix\n",
    "\n",
    "To start this analysis, it may be helpful to have an overview of several different bivariate plots. The goal is to uncover any interesting bivariate relationships in data, view general distribution patterns, and observe any variables that contain similar information (as shown by a linear relationship) which is an indication of data that can and should be dropped. "
   ]
  },
  {
   "cell_type": "code",
   "execution_count": 479,
   "metadata": {},
   "outputs": [],
   "source": [
    "data_vars = ['AmountDelinquent', 'BorrowerAPR', 'BorrowerRate', 'CreditScoreRangeAvg',\n",
    "                           'DebtToIncomeRatio', 'EstimatedLoss', 'EstimatedReturn']"
   ]
  },
  {
   "cell_type": "code",
   "execution_count": 480,
   "metadata": {},
   "outputs": [],
   "source": [
    "#g = sns.PairGrid(data = loan_data, vars = data_vars)\n",
    "#g.map_diag(plt.hist)\n",
    "#g.map_offdiag(plt.scatter);"
   ]
  },
  {
   "cell_type": "markdown",
   "metadata": {},
   "source": [
    "Based on the plot matrix above, it appears that an abundance of data has made the plots difficult to read due to overlapping. As a result, data will be examined in further detail. However, one obvious trend is that the columns 'BorrowerAPR' and 'BorrowerRate' have a nearly linear slope, meaning that they contain very similar data. Because of this, one of the columns should be dropped. as APR typically encompasses all borrowing costs that are not necessarily reflected in a borrower's rate, it appears to be a more accurate measure of borrowing costs; therefore the 'BorrowerAPR' column will be kept. The 'BorrowerRate' column will be dropped."
   ]
  },
  {
   "cell_type": "code",
   "execution_count": 481,
   "metadata": {},
   "outputs": [],
   "source": [
    "loan_data.drop(columns='BorrowerRate', inplace=True)"
   ]
  },
  {
   "cell_type": "markdown",
   "metadata": {},
   "source": [
    "## B. Debt to Income Ratio"
   ]
  },
  {
   "cell_type": "code",
   "execution_count": 482,
   "metadata": {},
   "outputs": [
    {
     "data": {
      "text/plain": [
       "10.01    272\n",
       "1.02      12\n",
       "1.06      11\n",
       "1.01      11\n",
       "1.05      11\n",
       "        ... \n",
       "5.76       1\n",
       "3.86       1\n",
       "3.45       1\n",
       "2.31       1\n",
       "2.59       1\n",
       "Name: DebtToIncomeRatio, Length: 258, dtype: int64"
      ]
     },
     "execution_count": 482,
     "metadata": {},
     "output_type": "execute_result"
    }
   ],
   "source": [
    "loan_data[loan_data['DebtToIncomeRatio'] > 1]['DebtToIncomeRatio'].value_counts()"
   ]
  },
  {
   "cell_type": "code",
   "execution_count": 483,
   "metadata": {},
   "outputs": [
    {
     "name": "stdout",
     "output_type": "stream",
     "text": [
      "Number of loans and percent of loans with a Debt to Income Ratio greater than 1.0: 799, 0.01%\n"
     ]
    }
   ],
   "source": [
    "debt_ratio_greater_than_1_sum = loan_data[loan_data['DebtToIncomeRatio'] > 1]['DebtToIncomeRatio'].value_counts().sum() \n",
    "print('Number of loans and percent of loans with a Debt to Income Ratio greater than 1.0: ' + repr(debt_ratio_greater_than_1_sum) + ', ' + '{0:.2f}'.format(debt_ratio_greater_than_1_sum / loan_data.shape[0]) + '%')"
   ]
  },
  {
   "cell_type": "code",
   "execution_count": 484,
   "metadata": {},
   "outputs": [
    {
     "data": {
      "text/plain": [
       "0.18000    4132\n",
       "0.22000    3687\n",
       "0.17000    3616\n",
       "0.14000    3553\n",
       "0.20000    3481\n",
       "           ... \n",
       "0.13774       1\n",
       "0.04983       1\n",
       "0.15248       1\n",
       "0.19893       1\n",
       "0.06056       1\n",
       "Name: DebtToIncomeRatio, Length: 1207, dtype: int64"
      ]
     },
     "execution_count": 484,
     "metadata": {},
     "output_type": "execute_result"
    }
   ],
   "source": [
    "loan_data['DebtToIncomeRatio'].value_counts()"
   ]
  },
  {
   "cell_type": "code",
   "execution_count": 485,
   "metadata": {},
   "outputs": [
    {
     "data": {
      "text/plain": [
       "Text(0.5, 1.0, 'Figure 1. Number of Loans by Debt to Income Ratio (Complete Distribution)')"
      ]
     },
     "execution_count": 485,
     "metadata": {},
     "output_type": "execute_result"
    },
    {
     "data": {
      "image/png": "[encoded data removed]",
      "text/plain": [
       "<Figure size 432x288 with 1 Axes>"
      ]
     },
     "metadata": {
      "needs_background": "light"
     },
     "output_type": "display_data"
    }
   ],
   "source": [
    "loan_data['DebtToIncomeRatio'].hist();\n",
    "plt.title('Figure 1. Number of Loans by Debt to Income Ratio (Complete Distribution)')"
   ]
  },
  {
   "cell_type": "markdown",
   "metadata": {},
   "source": [
    "The above plot shows the histogram for debt to income ratio. It is apparent that the vast majority of the loans (over 100,000 based on the above plot out of 113,346 based on the info() call). Per the data description for the Debt to Income Ratio, any debt-to-income, any ratios over 10 are labeled 10.01, regardless of how high it is."
   ]
  },
  {
   "cell_type": "code",
   "execution_count": 486,
   "metadata": {},
   "outputs": [
    {
     "data": {
      "image/png": "[encoded data removed]",
      "text/plain": [
       "<Figure size 576x360 with 1 Axes>"
      ]
     },
     "metadata": {
      "needs_background": "light"
     },
     "output_type": "display_data"
    }
   ],
   "source": [
    "subplot = plt.figure(figsize = (8,5))\n",
    "\n",
    "bins = np.arange(0, 1.3, .05)\n",
    "\n",
    "ax = plt.subplot(1,1,1)\n",
    "\n",
    "ax = loan_data['DebtToIncomeRatio'].hist(bins = bins)\n",
    "bin_labels = [\"{:0.2f}\".format(i) for i in bins[::2]]\n",
    "ax.set_xticks(bins[::2]);\n",
    "ax.set_xticklabels(bin_labels)\n",
    "ax.set_title('Figure 2. Number of Loans by Debt to Income Ratio')\n",
    "ax.set_xlabel('Debt to Income Ratio');"
   ]
  },
  {
   "cell_type": "markdown",
   "metadata": {},
   "source": [
    "Based on the plot above, it appears that a significant amount of borrowers have a debt to income ratio between 0.10 and 0.30, with the amount of borrowers with higher ratios trailing off significantly after approximately 0.30. The distribution for debt to income ratio is right skew."
   ]
  },
  {
   "cell_type": "markdown",
   "metadata": {},
   "source": [
    "Based on the plot matrix, debt to income ratio appears to have an interesting relationship with the amount delinquent and is worth investigating with bivariate plots."
   ]
  },
  {
   "cell_type": "code",
   "execution_count": 487,
   "metadata": {},
   "outputs": [
    {
     "data": {
      "image/png": "[encoded data removed]",
      "text/plain": [
       "<Figure size 432x288 with 1 Axes>"
      ]
     },
     "metadata": {
      "needs_background": "light"
     },
     "output_type": "display_data"
    }
   ],
   "source": [
    "sns.regplot(data = loan_data, x = 'DebtToIncomeRatio', y = 'AmountDelinquent', fit_reg=False, scatter_kws = {'alpha': 0.15});"
   ]
  },
  {
   "cell_type": "markdown",
   "metadata": {},
   "source": [
    "The plot above shows that lower debt to income ratios tend to have lower delinquent amounts. This is a counterintuitive observation, so this relationship merits further analysis."
   ]
  },
  {
   "cell_type": "code",
   "execution_count": 488,
   "metadata": {},
   "outputs": [
    {
     "data": {
      "text/plain": [
       "(0, 0)"
      ]
     },
     "execution_count": 488,
     "metadata": {},
     "output_type": "execute_result"
    }
   ],
   "source": [
    "# Confirm that we do not have null or infinite data in the specified columns\n",
    "loan_data.dropna(subset=['DebtToIncomeRatio', 'AmountDelinquent'], inplace=True)\n",
    "(loan_data['DebtToIncomeRatio'].isin([np.inf, -np.inf])).sum(), loan_data['DebtToIncomeRatio'].isna().sum()"
   ]
  },
  {
   "cell_type": "code",
   "execution_count": 489,
   "metadata": {},
   "outputs": [
    {
     "data": {
      "text/plain": [
       "(0, 0)"
      ]
     },
     "execution_count": 489,
     "metadata": {},
     "output_type": "execute_result"
    }
   ],
   "source": [
    "(loan_data['AmountDelinquent'].isin([np.inf, -np.inf])).sum(), loan_data['AmountDelinquent'].isna().sum()"
   ]
  },
  {
   "cell_type": "code",
   "execution_count": 490,
   "metadata": {},
   "outputs": [
    {
     "data": {
      "text/plain": [
       "count    97905.000000\n",
       "mean         0.276037\n",
       "std          0.524517\n",
       "min          0.000000\n",
       "25%          0.150000\n",
       "50%          0.220000\n",
       "75%          0.320000\n",
       "max         10.010000\n",
       "Name: DebtToIncomeRatio, dtype: float64"
      ]
     },
     "execution_count": 490,
     "metadata": {},
     "output_type": "execute_result"
    }
   ],
   "source": [
    "loan_data['DebtToIncomeRatio'].describe()"
   ]
  },
  {
   "cell_type": "code",
   "execution_count": 491,
   "metadata": {},
   "outputs": [
    {
     "data": {
      "text/plain": [
       "(97905, 18)"
      ]
     },
     "execution_count": 491,
     "metadata": {},
     "output_type": "execute_result"
    }
   ],
   "source": [
    "loan_data.shape"
   ]
  },
  {
   "cell_type": "code",
   "execution_count": 492,
   "metadata": {},
   "outputs": [
    {
     "name": "stdout",
     "output_type": "stream",
     "text": [
      "<class 'pandas.core.frame.DataFrame'>\n",
      "Int64Index: 97905 entries, 0 to 113936\n",
      "Data columns (total 18 columns):\n",
      "AmountDelinquent                       97905 non-null float64\n",
      "BorrowerAPR                            97905 non-null float64\n",
      "DebtToIncomeRatio                      97905 non-null float64\n",
      "EmploymentStatus                       97905 non-null object\n",
      "EmploymentStatusDuration               97888 non-null float64\n",
      "IsBorrowerHomeowner                    97905 non-null bool\n",
      "LoanOriginalAmount                     97905 non-null int64\n",
      "Occupation                             96572 non-null object\n",
      "PercentFunded                          97905 non-null float64\n",
      "ProsperPaymentsLessThanOneMonthLate    19915 non-null float64\n",
      "ProsperPaymentsOneMonthPlusLate        19915 non-null float64\n",
      "ProsperPrincipalBorrowed               19915 non-null float64\n",
      "ProsperPrincipalOutstanding            19915 non-null float64\n",
      "ProsperRating (numeric)                77557 non-null float64\n",
      "StatedMonthlyIncome                    97905 non-null float64\n",
      "EstimatedLoss                          77557 non-null float64\n",
      "EstimatedReturn                        77557 non-null float64\n",
      "CreditScoreRangeAvg                    97905 non-null float64\n",
      "dtypes: bool(1), float64(14), int64(1), object(2)\n",
      "memory usage: 13.5+ MB\n"
     ]
    }
   ],
   "source": [
    "loan_data.info()"
   ]
  },
  {
   "cell_type": "code",
   "execution_count": 493,
   "metadata": {},
   "outputs": [
    {
     "data": {
      "text/plain": [
       "0    0.17\n",
       "1    0.18\n",
       "3    0.15\n",
       "4    0.26\n",
       "5    0.36\n",
       "Name: DebtToIncomeRatio, dtype: float64"
      ]
     },
     "execution_count": 493,
     "metadata": {},
     "output_type": "execute_result"
    }
   ],
   "source": [
    "loan_data['DebtToIncomeRatio'].head()"
   ]
  },
  {
   "cell_type": "code",
   "execution_count": 494,
   "metadata": {},
   "outputs": [
    {
     "data": {
      "text/plain": [
       "15525"
      ]
     },
     "execution_count": 494,
     "metadata": {},
     "output_type": "execute_result"
    }
   ],
   "source": [
    "loan_data[loan_data['AmountDelinquent'] > 0]['AmountDelinquent'].count()"
   ]
  },
  {
   "cell_type": "code",
   "execution_count": 495,
   "metadata": {},
   "outputs": [
    {
     "data": {
      "text/plain": [
       "count     97905.000000\n",
       "mean       1003.278556\n",
       "std        7154.286296\n",
       "min           0.000000\n",
       "25%           0.000000\n",
       "50%           0.000000\n",
       "75%           0.000000\n",
       "max      463881.000000\n",
       "Name: AmountDelinquent, dtype: float64"
      ]
     },
     "execution_count": 495,
     "metadata": {},
     "output_type": "execute_result"
    }
   ],
   "source": [
    "loan_data['AmountDelinquent'].describe()"
   ]
  },
  {
   "cell_type": "code",
   "execution_count": 496,
   "metadata": {},
   "outputs": [],
   "source": [
    "debt_ratio_step = 0.1\n",
    "amt_del_step = 50000"
   ]
  },
  {
   "cell_type": "code",
   "execution_count": 497,
   "metadata": {},
   "outputs": [],
   "source": [
    "debt_ratio_bins = np.arange(-0.1, loan_data['DebtToIncomeRatio'].max() + debt_ratio_step, debt_ratio_step)\n",
    "delinquent_bins = np.arange(-0.1, loan_data['AmountDelinquent'].max() + amt_del_step, amt_del_step)"
   ]
  },
  {
   "cell_type": "code",
   "execution_count": 498,
   "metadata": {},
   "outputs": [
    {
     "data": {
      "image/png": "[encoded data removed]",
      "text/plain": [
       "<Figure size 432x288 with 2 Axes>"
      ]
     },
     "metadata": {
      "needs_background": "light"
     },
     "output_type": "display_data"
    }
   ],
   "source": [
    "plt.hist2d(data = loan_data, x = 'DebtToIncomeRatio', y = 'AmountDelinquent', bins=[debt_ratio_bins, delinquent_bins], cmap='viridis_r');\n",
    "plt.colorbar();"
   ]
  },
  {
   "cell_type": "code",
   "execution_count": 499,
   "metadata": {},
   "outputs": [
    {
     "data": {
      "image/png": "[encoded data removed]",
      "text/plain": [
       "<Figure size 432x288 with 2 Axes>"
      ]
     },
     "metadata": {
      "needs_background": "light"
     },
     "output_type": "display_data"
    }
   ],
   "source": [
    "plt.hist2d(data = loan_data, x = 'DebtToIncomeRatio', y = 'AmountDelinquent', bins=[debt_ratio_bins, delinquent_bins], cmap='viridis_r', cmin=50);\n",
    "plt.colorbar();"
   ]
  },
  {
   "cell_type": "code",
   "execution_count": 500,
   "metadata": {},
   "outputs": [],
   "source": [
    "debt_ratio_bins = np.arange(-0.1, 1.5, 0.1)\n",
    "delinquent_bins = np.arange(-0.1, 10000, 500)"
   ]
  },
  {
   "cell_type": "code",
   "execution_count": 501,
   "metadata": {},
   "outputs": [
    {
     "data": {
      "image/png": "[encoded data removed]",
      "text/plain": [
       "<Figure size 432x288 with 2 Axes>"
      ]
     },
     "metadata": {
      "needs_background": "light"
     },
     "output_type": "display_data"
    }
   ],
   "source": [
    "plt.hist2d(data = loan_data, x = 'DebtToIncomeRatio', y = 'AmountDelinquent', bins=[debt_ratio_bins, delinquent_bins], cmap='viridis_r', cmin=1);\n",
    "plt.colorbar();"
   ]
  },
  {
   "cell_type": "code",
   "execution_count": 502,
   "metadata": {},
   "outputs": [],
   "source": [
    "debt_delinquent_data = loan_data.copy()"
   ]
  },
  {
   "cell_type": "code",
   "execution_count": 503,
   "metadata": {},
   "outputs": [],
   "source": [
    "debt_ratio_step = .5\n",
    "amt_del_step = 25000"
   ]
  },
  {
   "cell_type": "code",
   "execution_count": 504,
   "metadata": {},
   "outputs": [],
   "source": [
    "debt_ratio_bins = np.arange(-debt_ratio_step, loan_data['DebtToIncomeRatio'].max() + debt_ratio_step, debt_ratio_step)\n",
    "delinquent_bins = np.arange(-amt_del_step, loan_data['AmountDelinquent'].max() + amt_del_step, amt_del_step)"
   ]
  },
  {
   "cell_type": "code",
   "execution_count": 505,
   "metadata": {},
   "outputs": [
    {
     "data": {
      "text/plain": [
       "array([-0.5,  0. ,  0.5,  1. ,  1.5,  2. ,  2.5,  3. ,  3.5,  4. ,  4.5,\n",
       "        5. ,  5.5,  6. ,  6.5,  7. ,  7.5,  8. ,  8.5,  9. ,  9.5, 10. ,\n",
       "       10.5])"
      ]
     },
     "execution_count": 505,
     "metadata": {},
     "output_type": "execute_result"
    }
   ],
   "source": [
    "debt_ratio_bins"
   ]
  },
  {
   "cell_type": "code",
   "execution_count": 506,
   "metadata": {},
   "outputs": [
    {
     "data": {
      "text/plain": [
       "array([-25000.,      0.,  25000.,  50000.,  75000., 100000., 125000.,\n",
       "       150000., 175000., 200000., 225000., 250000., 275000., 300000.,\n",
       "       325000., 350000., 375000., 400000., 425000., 450000., 475000.])"
      ]
     },
     "execution_count": 506,
     "metadata": {},
     "output_type": "execute_result"
    }
   ],
   "source": [
    "delinquent_bins"
   ]
  },
  {
   "cell_type": "code",
   "execution_count": 507,
   "metadata": {},
   "outputs": [
    {
     "data": {
      "text/plain": [
       "(23, 21)"
      ]
     },
     "execution_count": 507,
     "metadata": {},
     "output_type": "execute_result"
    }
   ],
   "source": [
    "len(debt_ratio_bins), len(delinquent_bins)"
   ]
  },
  {
   "cell_type": "code",
   "execution_count": 508,
   "metadata": {},
   "outputs": [
    {
     "data": {
      "text/plain": [
       "463881.0"
      ]
     },
     "execution_count": 508,
     "metadata": {},
     "output_type": "execute_result"
    }
   ],
   "source": [
    "loan_data['AmountDelinquent'].max()"
   ]
  },
  {
   "cell_type": "code",
   "execution_count": 509,
   "metadata": {},
   "outputs": [],
   "source": [
    "debt_indices = pd.cut(debt_delinquent_data['DebtToIncomeRatio'], debt_ratio_bins, labels=False).astype(int)\n",
    "del_indices = pd.cut(debt_delinquent_data['AmountDelinquent'], delinquent_bins, labels=False).astype(int)"
   ]
  },
  {
   "cell_type": "code",
   "execution_count": 510,
   "metadata": {},
   "outputs": [
    {
     "data": {
      "text/plain": [
       "0         1\n",
       "1         0\n",
       "3         1\n",
       "4         0\n",
       "5         0\n",
       "         ..\n",
       "113932    0\n",
       "113933    1\n",
       "113934    0\n",
       "113935    0\n",
       "113936    1\n",
       "Name: AmountDelinquent, Length: 97905, dtype: int32"
      ]
     },
     "execution_count": 510,
     "metadata": {},
     "output_type": "execute_result"
    }
   ],
   "source": [
    "del_indices"
   ]
  },
  {
   "cell_type": "code",
   "execution_count": 511,
   "metadata": {},
   "outputs": [
    {
     "data": {
      "text/plain": [
       "(22, 16)"
      ]
     },
     "execution_count": 511,
     "metadata": {},
     "output_type": "execute_result"
    }
   ],
   "source": [
    "debt_del_grouped = debt_delinquent_data.groupby([debt_indices, del_indices]).size()\n",
    "debt_del_grouped = debt_del_grouped.reset_index()\n",
    "debt_del_grouped = debt_del_grouped.pivot(index = 'DebtToIncomeRatio', columns='AmountDelinquent').values\n",
    "#debt_del_grouped = debt_delinquent_data.groupby([debt_indices, del_indices])\n",
    "#x = debt_del_grouped.pivot(index=['DebtToIncomeRatio'], columns=['AmountDelinquent'])\n",
    "#x\n",
    "\n",
    "debt_del_grouped.shape"
   ]
  },
  {
   "cell_type": "code",
   "execution_count": 512,
   "metadata": {},
   "outputs": [],
   "source": [
    "weights = loan_data['AmountDelinquent']"
   ]
  },
  {
   "cell_type": "code",
   "execution_count": 513,
   "metadata": {},
   "outputs": [
    {
     "data": {
      "image/png": "[encoded data removed]",
      "text/plain": [
       "<Figure size 432x288 with 2 Axes>"
      ]
     },
     "metadata": {
      "needs_background": "light"
     },
     "output_type": "display_data"
    }
   ],
   "source": [
    "plt.hist2d(data = loan_data, x = 'DebtToIncomeRatio', y = 'AmountDelinquent', bins=[debt_ratio_bins, delinquent_bins], weights=weights, cmap='viridis_r', cmin=0.0001);\n",
    "plt.colorbar();"
   ]
  },
  {
   "cell_type": "code",
   "execution_count": 514,
   "metadata": {},
   "outputs": [
    {
     "data": {
      "text/plain": [
       "98225987.0"
      ]
     },
     "execution_count": 514,
     "metadata": {},
     "output_type": "execute_result"
    }
   ],
   "source": [
    "loan_data['AmountDelinquent'].sum()"
   ]
  },
  {
   "cell_type": "code",
   "execution_count": 515,
   "metadata": {},
   "outputs": [
    {
     "data": {
      "text/plain": [
       "54902"
      ]
     },
     "execution_count": 515,
     "metadata": {},
     "output_type": "execute_result"
    }
   ],
   "source": [
    "loan_data[(loan_data['AmountDelinquent'] < 25000) & (loan_data['DebtToIncomeRatio'] < .25)]['AmountDelinquent'].count()"
   ]
  },
  {
   "cell_type": "code",
   "execution_count": 516,
   "metadata": {},
   "outputs": [
    {
     "data": {
      "text/plain": [
       "80035367.0"
      ]
     },
     "execution_count": 516,
     "metadata": {},
     "output_type": "execute_result"
    }
   ],
   "source": [
    "loan_data[(loan_data['AmountDelinquent'] < 100000) & (loan_data['DebtToIncomeRatio'] < .50)]['AmountDelinquent'].sum()"
   ]
  },
  {
   "cell_type": "code",
   "execution_count": 517,
   "metadata": {},
   "outputs": [
    {
     "name": "stdout",
     "output_type": "stream",
     "text": [
      "<class 'pandas.core.frame.DataFrame'>\n",
      "Int64Index: 14922 entries, 0 to 113936\n",
      "Data columns (total 18 columns):\n",
      "AmountDelinquent                       14922 non-null float64\n",
      "BorrowerAPR                            14922 non-null float64\n",
      "DebtToIncomeRatio                      14922 non-null float64\n",
      "EmploymentStatus                       14922 non-null object\n",
      "EmploymentStatusDuration               14920 non-null float64\n",
      "IsBorrowerHomeowner                    14922 non-null bool\n",
      "LoanOriginalAmount                     14922 non-null int64\n",
      "Occupation                             14764 non-null object\n",
      "PercentFunded                          14922 non-null float64\n",
      "ProsperPaymentsLessThanOneMonthLate    3190 non-null float64\n",
      "ProsperPaymentsOneMonthPlusLate        3190 non-null float64\n",
      "ProsperPrincipalBorrowed               3190 non-null float64\n",
      "ProsperPrincipalOutstanding            3190 non-null float64\n",
      "ProsperRating (numeric)                9831 non-null float64\n",
      "StatedMonthlyIncome                    14922 non-null float64\n",
      "EstimatedLoss                          9831 non-null float64\n",
      "EstimatedReturn                        9831 non-null float64\n",
      "CreditScoreRangeAvg                    14922 non-null float64\n",
      "dtypes: bool(1), float64(14), int64(1), object(2)\n",
      "memory usage: 2.1+ MB\n"
     ]
    }
   ],
   "source": [
    "loan_data_delinquent = loan_data[(loan_data['AmountDelinquent'] > 0) & (loan_data['AmountDelinquent'] < 250001) & (loan_data['DebtToIncomeRatio'] > 0) & (loan_data['DebtToIncomeRatio'] < .51)].copy()\n",
    "loan_data_delinquent.info()"
   ]
  },
  {
   "cell_type": "code",
   "execution_count": 518,
   "metadata": {},
   "outputs": [
    {
     "data": {
      "text/plain": [
       "0.9561123778781678"
      ]
     },
     "execution_count": 518,
     "metadata": {},
     "output_type": "execute_result"
    }
   ],
   "source": [
    "loan_data_delinquent['AmountDelinquent'].sum() / loan_data['AmountDelinquent'].sum()"
   ]
  },
  {
   "cell_type": "code",
   "execution_count": 519,
   "metadata": {},
   "outputs": [],
   "source": [
    "debt_ratio_step = .1\n",
    "amt_del_step = 50000"
   ]
  },
  {
   "cell_type": "code",
   "execution_count": 531,
   "metadata": {},
   "outputs": [],
   "source": [
    "def create_bin_indices(df, columns, steps):\n",
    "    \n",
    "    bins = []\n",
    "    indices = []\n",
    "    \n",
    "    for s in range(0, len(steps)):\n",
    "        b = np.arange(-steps[s], df[columns[s]].max() + steps[s], steps[s])\n",
    "        bins.append(b)\n",
    "        \n",
    "        i = pd.cut(df[columns[s]], bins[s], labels=False).astype(int)\n",
    "        indices.append(i)\n",
    "        \n",
    "    return bins, indices"
   ]
  },
  {
   "cell_type": "code",
   "execution_count": 532,
   "metadata": {},
   "outputs": [],
   "source": [
    "bin_list, index_list = create_bin_indices(loan_data_delinquent, ['DebtToIncomeRatio', 'AmountDelinquent'], [debt_ratio_step, amt_del_step])"
   ]
  },
  {
   "cell_type": "code",
   "execution_count": 533,
   "metadata": {},
   "outputs": [],
   "source": [
    "def add_bins_to_dataframe(df, indices, operation, new_col_names):\n",
    "    \n",
    "    if (operation == 'sum'):\n",
    "        df_groupby = df.groupby(indices).sum()\n",
    "        \n",
    "    elif (operation == 'mean'):\n",
    "        df_groupby = df.groupby(indices).mean()\n",
    "        \n",
    "    else:\n",
    "        df_groupby = df.groupby(indices).count()\n",
    "\n",
    "    df_groupby.index.set_names(new_col_names, inplace=True)\n",
    "    df_groupby = df_groupby.reset_index()\n",
    "    \n",
    "    return df_groupby"
   ]
  },
  {
   "cell_type": "code",
   "execution_count": 534,
   "metadata": {},
   "outputs": [],
   "source": [
    "loan_data_del_sum = add_bins_to_dataframe(loan_data_delinquent, index_list, 'sum', ['DebtRatioBin', 'AmtDelinquentBin'])"
   ]
  },
  {
   "cell_type": "code",
   "execution_count": 535,
   "metadata": {},
   "outputs": [
    {
     "data": {
      "text/plain": [
       "93915082.0"
      ]
     },
     "execution_count": 535,
     "metadata": {},
     "output_type": "execute_result"
    }
   ],
   "source": [
    "loan_data_del_sum['AmountDelinquent'].sum()"
   ]
  },
  {
   "cell_type": "code",
   "execution_count": 536,
   "metadata": {},
   "outputs": [
    {
     "data": {
      "text/plain": [
       "count    22.000000\n",
       "mean      2.772727\n",
       "std       1.377777\n",
       "min       1.000000\n",
       "25%       2.000000\n",
       "50%       3.000000\n",
       "75%       4.000000\n",
       "max       5.000000\n",
       "Name: DebtRatioBin, dtype: float64"
      ]
     },
     "execution_count": 536,
     "metadata": {},
     "output_type": "execute_result"
    }
   ],
   "source": [
    "loan_data_del_sum['DebtRatioBin'].describe()"
   ]
  },
  {
   "cell_type": "code",
   "execution_count": 549,
   "metadata": {},
   "outputs": [],
   "source": [
    "def bivar_binned_barplot(df, x, hue, y, bins, chart_title, xlabel, ylabel, legend_title):\n",
    "    \n",
    "    plt.figure(figsize=(10,5))\n",
    "    \n",
    "    x_labels = []\n",
    "    legend_labels = []\n",
    "    \n",
    "    hue_order =  np.arange(loan_data_del_sum[hue].min(), loan_data_del_sum[hue].max() + 1)\n",
    "    \n",
    "    g = sns.barplot(data=df, x=x, hue=hue, y=y, ci=None);\n",
    "    g.legend(loc=1)\n",
    "    \n",
    "    # Create labels for Debt to Income Ratio ranges along x-axis\n",
    "    for i in range(df[x].min(), df[x].max() + 1):\n",
    "        \n",
    "        if i == df[x].min():\n",
    "            label_min = bins[0][i]\n",
    "        else:\n",
    "            label_min = bins[0][i] + 0.01\n",
    "            \n",
    "        label_max = bins[0][i + 1]\n",
    "        label = str('{0:.2f}'.format(label_min)) + ' - ' + str('{0:.2f}'.format(label_max))\n",
    "        x_labels.append(label)\n",
    "    \n",
    "    # Modify labels so they show commas and whole numbers\n",
    "    y_labels = ['{:,.0f}'.format(t) for t in g.get_yticks()]  \n",
    "    \n",
    "    # Create labels for Amount Delinquent ranges for legend (Hue variable)\n",
    "    for i in range(loan_data_del_sum[hue].min(), loan_data_del_sum[hue].max() + 1):\n",
    "        if i == loan_data_del_sum[hue].min():\n",
    "            label_min = bins[1][i]\n",
    "        else: \n",
    "            label_min = bins[1][i] + 1   \n",
    "        label_max = bins[1][i + 1]\n",
    "        label = str('{:,.0f}'.format(label_min)) + ' - ' + str('{:,.0f}'.format(label_max))\n",
    "        legend_labels.append(label)\n",
    "    \n",
    "    g.set(title=chart_title)\n",
    "    g.set(xticklabels=x_labels, yticklabels=y_labels)\n",
    "    g.set(xlabel=xlabel, ylabel=ylabel)\n",
    "    plt.legend(legend_labels, loc=1, title=legend_title);"
   ]
  },
  {
   "cell_type": "code",
   "execution_count": 550,
   "metadata": {},
   "outputs": [
    {
     "data": {
      "image/png": "[encoded data removed]",
      "text/plain": [
       "<Figure size 720x360 with 1 Axes>"
      ]
     },
     "metadata": {
      "needs_background": "light"
     },
     "output_type": "display_data"
    }
   ],
   "source": [
    "bivar_binned_barplot(loan_data_del_sum, 'DebtRatioBin', 'AmtDelinquentBin', 'AmountDelinquent', bin_list, \n",
    "                     'Delinquent Loan Amounts Based on Debt to Income Ratio', 'Debt to Income Ratio', \n",
    "                     'Total Amount Delinquent ($)', 'Amount Delinquent on Individual Loans ($)')"
   ]
  },
  {
   "cell_type": "code",
   "execution_count": 555,
   "metadata": {},
   "outputs": [
    {
     "data": {
      "image/png": "[encoded data removed]",
      "text/plain": [
       "<Figure size 720x360 with 1 Axes>"
      ]
     },
     "metadata": {
      "needs_background": "light"
     },
     "output_type": "display_data"
    }
   ],
   "source": [
    "loan_data_del_mean = add_bins_to_dataframe(loan_data_delinquent, index_list, 'mean', ['DebtRatioBin', 'AmtDelinquentBin'])\n",
    "bivar_binned_barplot(loan_data_del_mean, 'DebtRatioBin', 'AmtDelinquentBin', 'AmountDelinquent', bin_list, \n",
    "                     'Delinquent Loan Amount Averages Based on Debt to Income Ratio', 'Debt to Income Ratio', \n",
    "                     'Average Delinquent Loan Amount', 'Amount Delinquent on Individual Loans ($)')"
   ]
  },
  {
   "cell_type": "code",
   "execution_count": 551,
   "metadata": {},
   "outputs": [],
   "source": [
    "loan_data_del_count = add_bins_to_dataframe(loan_data_delinquent, index_list, 'count', ['DebtRatioBin', 'AmtDelinquentBin'])"
   ]
  },
  {
   "cell_type": "code",
   "execution_count": 553,
   "metadata": {},
   "outputs": [
    {
     "data": {
      "image/png": "[encoded data removed]",
      "text/plain": [
       "<Figure size 720x360 with 1 Axes>"
      ]
     },
     "metadata": {
      "needs_background": "light"
     },
     "output_type": "display_data"
    }
   ],
   "source": [
    "bivar_binned_barplot(loan_data_del_count, 'DebtRatioBin', 'AmtDelinquentBin', 'AmountDelinquent', bin_list, \n",
    "                     'Delinquent Loan Amount Averages Based on Debt to Income Ratio', 'Debt to Income Ratio', \n",
    "                     'Total Number of Delinquent Loans', 'Amount Delinquent on Individual Loans ($)')"
   ]
  },
  {
   "cell_type": "code",
   "execution_count": 419,
   "metadata": {},
   "outputs": [
    {
     "name": "stdout",
     "output_type": "stream",
     "text": [
      "27061957.0 8780.64795587281 3082\n",
      "36609493.0 6363.5482357031115 5753\n",
      "19979618.0 5466.37975376197 3655\n",
      "7454007.0 4211.303389830508 1770\n",
      "2810007.0 4244.723564954683 662\n"
     ]
    }
   ],
   "source": [
    "#Used as a sanity check to ensure that plots are consistent with data\n",
    "for i in range(1,6):\n",
    "    print(amt_delinquent_data(i)['sum'], amt_delinquent_data(i)['mean'], amt_delinquent_data(i)['count'])"
   ]
  },
  {
   "cell_type": "code",
   "execution_count": null,
   "metadata": {},
   "outputs": [],
   "source": [
    "debt_del_grouped.ffill()\n",
    "debt_del_grouped = debt_del_grouped.reindex(pd.RangeIndex(len(debt_ratio_bins) + 1))\n",
    "debt_del_grouped.fillna(0, inplace=True)\n",
    "debt_del_grouped.index\n",
    "#debt_del_grouped.drop(columns=['count'])"
   ]
  },
  {
   "cell_type": "code",
   "execution_count": null,
   "metadata": {},
   "outputs": [],
   "source": [
    "debt_indices.max()"
   ]
  },
  {
   "cell_type": "code",
   "execution_count": null,
   "metadata": {},
   "outputs": [],
   "source": [
    "debt_del_grouped.columns[-1][1]"
   ]
  },
  {
   "cell_type": "code",
   "execution_count": null,
   "metadata": {},
   "outputs": [],
   "source": [
    "s = debt_del_grouped['sum']\n",
    "s"
   ]
  },
  {
   "cell_type": "code",
   "execution_count": null,
   "metadata": {},
   "outputs": [],
   "source": [
    "for i in range(s.columns[-1] + 1, len(delinquent_bins) + 2):\n",
    "    s.loc[i] = 0"
   ]
  },
  {
   "cell_type": "code",
   "execution_count": null,
   "metadata": {},
   "outputs": [],
   "source": [
    "cols = np.arange(0, len(delinquent_bins) + 2)\n",
    "cols\n",
    "\n",
    "for c in cols:\n",
    "    if c not in(s.columns):\n",
    "        s.loc[c] = 0"
   ]
  },
  {
   "cell_type": "code",
   "execution_count": null,
   "metadata": {},
   "outputs": [],
   "source": [
    "s"
   ]
  },
  {
   "cell_type": "code",
   "execution_count": null,
   "metadata": {},
   "outputs": [],
   "source": [
    "s = s.sort_index(axis=1)\n",
    "s"
   ]
  },
  {
   "cell_type": "code",
   "execution_count": null,
   "metadata": {},
   "outputs": [],
   "source": [
    "debt_del_grouped['sum']"
   ]
  },
  {
   "cell_type": "code",
   "execution_count": null,
   "metadata": {},
   "outputs": [],
   "source": [
    "s = s.drop(s.loc[102])"
   ]
  },
  {
   "cell_type": "code",
   "execution_count": null,
   "metadata": {},
   "outputs": [],
   "source": [
    "s = s.drop(columns=13)"
   ]
  },
  {
   "cell_type": "code",
   "execution_count": null,
   "metadata": {},
   "outputs": [],
   "source": [
    "s"
   ]
  },
  {
   "cell_type": "code",
   "execution_count": null,
   "metadata": {},
   "outputs": [],
   "source": [
    "plt.hist2d(data = loan_data, x = 'AmountDelinquent', y = 'AmountDelinquent', bins=[debt_ratio_bins, delinquent_bins], cmap='viridis_r', cmin=1, weights=s);\n",
    "plt.colorbar();"
   ]
  },
  {
   "cell_type": "code",
   "execution_count": null,
   "metadata": {},
   "outputs": [],
   "source": [
    "d = debt_del_grouped.reset_index()\n",
    "d['sum']"
   ]
  },
  {
   "cell_type": "code",
   "execution_count": null,
   "metadata": {},
   "outputs": [],
   "source": [
    "plt.hist2d(data = loan_data, x = 'DebtToIncomeRatio', y = 'AmountDelinquent', bins=[debt_ratio_bins, delinquent_bins], weights='debt_del_grouped', cmap='viridis_r');\n",
    "plt.colorbar();"
   ]
  },
  {
   "cell_type": "code",
   "execution_count": null,
   "metadata": {},
   "outputs": [],
   "source": [
    "x = pd.pivot_table(debt_del_grouped, index = ['DebtToIncomeRatio', 'AmountDelinquent'], values='sum')\n",
    "x.reset_index()"
   ]
  },
  {
   "cell_type": "code",
   "execution_count": null,
   "metadata": {},
   "outputs": [],
   "source": [
    "loan_data['AmountDelinquent'].sum(), debt_delinquent_data['AmountDelinquent'].sum(), '{:0.2f}'.format(100 * (debt_delinquent_data['AmountDelinquent'].sum() / loan_data['AmountDelinquent'].sum()))"
   ]
  },
  {
   "cell_type": "code",
   "execution_count": null,
   "metadata": {},
   "outputs": [],
   "source": [
    "weights = np.zeros((len(debt_ratio_bins) + 1, len(delinquent_bins) + 1))\n",
    "weights.shape"
   ]
  },
  {
   "cell_type": "code",
   "execution_count": null,
   "metadata": {},
   "outputs": [],
   "source": [
    "type(debt_del_grouped)"
   ]
  },
  {
   "cell_type": "code",
   "execution_count": null,
   "metadata": {},
   "outputs": [],
   "source": [
    "for i in range(0, weights.shape[0]):\n",
    "    for j in range(0, weights.shape[1]):\n",
    "        \n",
    "        weights[i,j] = debt_del_grouped[(debt_del_grouped['DebtToIncomeRatio'] == i) & (debt_del_grouped['AmountDelinquent'] == j)]['sum']"
   ]
  },
  {
   "cell_type": "code",
   "execution_count": null,
   "metadata": {},
   "outputs": [],
   "source": [
    "debt_delinquent_data"
   ]
  },
  {
   "cell_type": "code",
   "execution_count": null,
   "metadata": {},
   "outputs": [],
   "source": [
    "plt.hist2d(data = loan_data, x = 'DebtToIncomeRatio', y = 'AmountDelinquent', bins=[debt_ratio_bins, delinquent_bins], cmap='viridis_r', cmin=1);\n",
    "plt.colorbar();"
   ]
  },
  {
   "cell_type": "code",
   "execution_count": null,
   "metadata": {},
   "outputs": [],
   "source": []
  },
  {
   "cell_type": "code",
   "execution_count": null,
   "metadata": {},
   "outputs": [],
   "source": [
    "debt_delinquent_data = loan_data.copy()\n",
    "\n",
    "drop_debt_idx = debt_delinquent_data[debt_delinquent_data['DebtToIncomeRatio'] > 1].index\n",
    "debt_delinquent_data.drop(drop_debt_idx, inplace=True)\n",
    "\n",
    "drop_delinquent_idx = debt_delinquent_data[debt_delinquent_data['AmountDelinquent'] > 4000].index\n",
    "debt_delinquent_data.drop(drop_delinquent_idx, inplace=True)\n",
    "\n",
    "debt_delinquent_data.info()"
   ]
  },
  {
   "cell_type": "code",
   "execution_count": null,
   "metadata": {},
   "outputs": [],
   "source": []
  },
  {
   "cell_type": "code",
   "execution_count": null,
   "metadata": {},
   "outputs": [],
   "source": [
    "#sns.countplot(data = debt_delinquent_data, x = 'DebtToIncomeRatio', hue='AmountDelinquent')"
   ]
  },
  {
   "cell_type": "code",
   "execution_count": null,
   "metadata": {},
   "outputs": [],
   "source": []
  },
  {
   "cell_type": "code",
   "execution_count": null,
   "metadata": {},
   "outputs": [],
   "source": [
    "debt_indices"
   ]
  },
  {
   "cell_type": "code",
   "execution_count": null,
   "metadata": {},
   "outputs": [],
   "source": []
  },
  {
   "cell_type": "code",
   "execution_count": null,
   "metadata": {},
   "outputs": [],
   "source": [
    "#debt_del_grouped = debt_del_grouped.pivot(index='DebtToIncomeRatio', columns='AmountDelinquent', values='Count').values"
   ]
  },
  {
   "cell_type": "code",
   "execution_count": null,
   "metadata": {},
   "outputs": [],
   "source": [
    "debt_del_grouped[0:5]"
   ]
  },
  {
   "cell_type": "code",
   "execution_count": null,
   "metadata": {},
   "outputs": [],
   "source": [
    "fig = plt.figure(figsize=(10,5))\n",
    "sns.barplot(data = debt_del_grouped, x = 'DebtToIncomeRatio', y = 'Count', hue = 'AmountDelinquent');"
   ]
  },
  {
   "cell_type": "code",
   "execution_count": null,
   "metadata": {},
   "outputs": [],
   "source": []
  },
  {
   "cell_type": "code",
   "execution_count": null,
   "metadata": {},
   "outputs": [],
   "source": [
    "loan_data['AmountDelinquent'].shape[0], debt_delinquent_data['AmountDelinquent'].shape[0]"
   ]
  },
  {
   "cell_type": "code",
   "execution_count": null,
   "metadata": {},
   "outputs": [],
   "source": [
    "loan_data_bin_counts = loan_data.groupby(bin_indices).size()\n",
    "loan_data_bin_counts.value_counts()\n",
    "#loan_data['EstimatedReturn'].isna().sum()"
   ]
  },
  {
   "cell_type": "code",
   "execution_count": null,
   "metadata": {},
   "outputs": [],
   "source": []
  },
  {
   "cell_type": "code",
   "execution_count": null,
   "metadata": {},
   "outputs": [],
   "source": [
    "drc = debt_ratio_counts.pivot(index = 'DebtToIncomeRatio', columns='AmountDelinquent', values=0)"
   ]
  },
  {
   "cell_type": "code",
   "execution_count": null,
   "metadata": {},
   "outputs": [],
   "source": [
    "drc.fillna(0, inplace=True)"
   ]
  },
  {
   "cell_type": "code",
   "execution_count": null,
   "metadata": {},
   "outputs": [],
   "source": [
    "drc"
   ]
  },
  {
   "cell_type": "code",
   "execution_count": null,
   "metadata": {},
   "outputs": [],
   "source": []
  },
  {
   "cell_type": "code",
   "execution_count": null,
   "metadata": {},
   "outputs": [],
   "source": []
  },
  {
   "cell_type": "code",
   "execution_count": null,
   "metadata": {},
   "outputs": [],
   "source": []
  },
  {
   "cell_type": "code",
   "execution_count": null,
   "metadata": {},
   "outputs": [],
   "source": []
  },
  {
   "cell_type": "code",
   "execution_count": null,
   "metadata": {},
   "outputs": [],
   "source": [
    "debt_ratio_counts = loan_data.groupby([bin_indices, del_indices]).size()"
   ]
  },
  {
   "cell_type": "code",
   "execution_count": null,
   "metadata": {},
   "outputs": [],
   "source": [
    "debt_ratio_counts.head()"
   ]
  },
  {
   "cell_type": "code",
   "execution_count": null,
   "metadata": {},
   "outputs": [],
   "source": []
  },
  {
   "cell_type": "code",
   "execution_count": null,
   "metadata": {},
   "outputs": [],
   "source": [
    "debt_ratio_counts = debt_ratio_counts.reset_index()\n",
    "debt_ratio_counts"
   ]
  },
  {
   "cell_type": "code",
   "execution_count": null,
   "metadata": {},
   "outputs": [],
   "source": []
  },
  {
   "cell_type": "code",
   "execution_count": null,
   "metadata": {},
   "outputs": [],
   "source": []
  },
  {
   "cell_type": "code",
   "execution_count": null,
   "metadata": {},
   "outputs": [],
   "source": [
    "loan_data_debt_"
   ]
  },
  {
   "cell_type": "code",
   "execution_count": null,
   "metadata": {},
   "outputs": [],
   "source": [
    "\n",
    "#cut_labels = ['{:0.2f}'.format(b) for b in cut_bins]\n",
    "bin_indices = pd.cut(loan_data['DebtToIncomeRatio'], debt_ratio_bins, labels=False).astype(int)\n",
    "del_indices = pd.cut(loan_data['AmountDelinquent'], delinquent_bins, labels=False).astype(int)\n",
    "\n",
    "debt_ratio_counts = loan_data.groupby([bin_indices, del_indices]).size()"
   ]
  },
  {
   "cell_type": "code",
   "execution_count": null,
   "metadata": {},
   "outputs": [],
   "source": [
    "bin_indices = pd.cut(loan_data['DebtToIncomeRatio'], debt_ratio_bins, labels=False).astype(int)\n",
    "del_indices = pd.cut(loan_data['AmountDelinquent'], delinquent_bins, labels=False).astype(int)\n",
    "\n",
    "#debt_ratio_counts = loan_data.groupby([bin_indices, del_indices]).size()"
   ]
  },
  {
   "cell_type": "code",
   "execution_count": null,
   "metadata": {},
   "outputs": [],
   "source": []
  }
 ],
 "metadata": {
  "kernelspec": {
   "display_name": "Python 3",
   "language": "python",
   "name": "python3"
  },
  "language_info": {
   "codemirror_mode": {
    "name": "ipython",
    "version": 3
   },
   "file_extension": ".py",
   "mimetype": "text/x-python",
   "name": "python",
   "nbconvert_exporter": "python",
   "pygments_lexer": "ipython3",
   "version": "3.7.5"
  }
 },
 "nbformat": 4,
 "nbformat_minor": 2
}
