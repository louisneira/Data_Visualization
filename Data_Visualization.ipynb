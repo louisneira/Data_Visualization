{
 "cells": [
  {
   "cell_type": "code",
   "execution_count": 1,
   "metadata": {
    "slideshow": {
     "slide_type": "skip"
    }
   },
   "outputs": [],
   "source": [
    "import numpy as np\n",
    "import pandas as pd\n",
    "import matplotlib.pyplot as plt\n",
    "import seaborn as sns\n",
    "import warnings\n",
    "\n",
    "%matplotlib inline\n",
    "warnings.simplefilter('ignore')"
   ]
  },
  {
   "cell_type": "code",
   "execution_count": 2,
   "metadata": {
    "slideshow": {
     "slide_type": "skip"
    }
   },
   "outputs": [],
   "source": [
    "loan_data_raw = pd.read_csv('prosperLoanData.csv')"
   ]
  },
  {
   "cell_type": "code",
   "execution_count": 3,
   "metadata": {
    "slideshow": {
     "slide_type": "skip"
    }
   },
   "outputs": [
    {
     "data": {
      "text/html": [
       "<div>\n",
       "<style scoped>\n",
       "    .dataframe tbody tr th:only-of-type {\n",
       "        vertical-align: middle;\n",
       "    }\n",
       "\n",
       "    .dataframe tbody tr th {\n",
       "        vertical-align: top;\n",
       "    }\n",
       "\n",
       "    .dataframe thead th {\n",
       "        text-align: right;\n",
       "    }\n",
       "</style>\n",
       "<table border=\"1\" class=\"dataframe\">\n",
       "  <thead>\n",
       "    <tr style=\"text-align: right;\">\n",
       "      <th></th>\n",
       "      <th>ListingKey</th>\n",
       "      <th>ListingNumber</th>\n",
       "      <th>ListingCreationDate</th>\n",
       "      <th>CreditGrade</th>\n",
       "      <th>Term</th>\n",
       "      <th>LoanStatus</th>\n",
       "      <th>ClosedDate</th>\n",
       "      <th>BorrowerAPR</th>\n",
       "      <th>BorrowerRate</th>\n",
       "      <th>LenderYield</th>\n",
       "      <th>...</th>\n",
       "      <th>LP_ServiceFees</th>\n",
       "      <th>LP_CollectionFees</th>\n",
       "      <th>LP_GrossPrincipalLoss</th>\n",
       "      <th>LP_NetPrincipalLoss</th>\n",
       "      <th>LP_NonPrincipalRecoverypayments</th>\n",
       "      <th>PercentFunded</th>\n",
       "      <th>Recommendations</th>\n",
       "      <th>InvestmentFromFriendsCount</th>\n",
       "      <th>InvestmentFromFriendsAmount</th>\n",
       "      <th>Investors</th>\n",
       "    </tr>\n",
       "  </thead>\n",
       "  <tbody>\n",
       "    <tr>\n",
       "      <th>0</th>\n",
       "      <td>1021339766868145413AB3B</td>\n",
       "      <td>193129</td>\n",
       "      <td>2007-08-26 19:09:29.263000000</td>\n",
       "      <td>C</td>\n",
       "      <td>36</td>\n",
       "      <td>Completed</td>\n",
       "      <td>2009-08-14 00:00:00</td>\n",
       "      <td>0.16516</td>\n",
       "      <td>0.1580</td>\n",
       "      <td>0.1380</td>\n",
       "      <td>...</td>\n",
       "      <td>-133.18</td>\n",
       "      <td>0.0</td>\n",
       "      <td>0.0</td>\n",
       "      <td>0.0</td>\n",
       "      <td>0.0</td>\n",
       "      <td>1.0</td>\n",
       "      <td>0</td>\n",
       "      <td>0</td>\n",
       "      <td>0.0</td>\n",
       "      <td>258</td>\n",
       "    </tr>\n",
       "    <tr>\n",
       "      <th>1</th>\n",
       "      <td>10273602499503308B223C1</td>\n",
       "      <td>1209647</td>\n",
       "      <td>2014-02-27 08:28:07.900000000</td>\n",
       "      <td>NaN</td>\n",
       "      <td>36</td>\n",
       "      <td>Current</td>\n",
       "      <td>NaN</td>\n",
       "      <td>0.12016</td>\n",
       "      <td>0.0920</td>\n",
       "      <td>0.0820</td>\n",
       "      <td>...</td>\n",
       "      <td>0.00</td>\n",
       "      <td>0.0</td>\n",
       "      <td>0.0</td>\n",
       "      <td>0.0</td>\n",
       "      <td>0.0</td>\n",
       "      <td>1.0</td>\n",
       "      <td>0</td>\n",
       "      <td>0</td>\n",
       "      <td>0.0</td>\n",
       "      <td>1</td>\n",
       "    </tr>\n",
       "    <tr>\n",
       "      <th>2</th>\n",
       "      <td>0EE9337825851032864889A</td>\n",
       "      <td>81716</td>\n",
       "      <td>2007-01-05 15:00:47.090000000</td>\n",
       "      <td>HR</td>\n",
       "      <td>36</td>\n",
       "      <td>Completed</td>\n",
       "      <td>2009-12-17 00:00:00</td>\n",
       "      <td>0.28269</td>\n",
       "      <td>0.2750</td>\n",
       "      <td>0.2400</td>\n",
       "      <td>...</td>\n",
       "      <td>-24.20</td>\n",
       "      <td>0.0</td>\n",
       "      <td>0.0</td>\n",
       "      <td>0.0</td>\n",
       "      <td>0.0</td>\n",
       "      <td>1.0</td>\n",
       "      <td>0</td>\n",
       "      <td>0</td>\n",
       "      <td>0.0</td>\n",
       "      <td>41</td>\n",
       "    </tr>\n",
       "    <tr>\n",
       "      <th>3</th>\n",
       "      <td>0EF5356002482715299901A</td>\n",
       "      <td>658116</td>\n",
       "      <td>2012-10-22 11:02:35.010000000</td>\n",
       "      <td>NaN</td>\n",
       "      <td>36</td>\n",
       "      <td>Current</td>\n",
       "      <td>NaN</td>\n",
       "      <td>0.12528</td>\n",
       "      <td>0.0974</td>\n",
       "      <td>0.0874</td>\n",
       "      <td>...</td>\n",
       "      <td>-108.01</td>\n",
       "      <td>0.0</td>\n",
       "      <td>0.0</td>\n",
       "      <td>0.0</td>\n",
       "      <td>0.0</td>\n",
       "      <td>1.0</td>\n",
       "      <td>0</td>\n",
       "      <td>0</td>\n",
       "      <td>0.0</td>\n",
       "      <td>158</td>\n",
       "    </tr>\n",
       "    <tr>\n",
       "      <th>4</th>\n",
       "      <td>0F023589499656230C5E3E2</td>\n",
       "      <td>909464</td>\n",
       "      <td>2013-09-14 18:38:39.097000000</td>\n",
       "      <td>NaN</td>\n",
       "      <td>36</td>\n",
       "      <td>Current</td>\n",
       "      <td>NaN</td>\n",
       "      <td>0.24614</td>\n",
       "      <td>0.2085</td>\n",
       "      <td>0.1985</td>\n",
       "      <td>...</td>\n",
       "      <td>-60.27</td>\n",
       "      <td>0.0</td>\n",
       "      <td>0.0</td>\n",
       "      <td>0.0</td>\n",
       "      <td>0.0</td>\n",
       "      <td>1.0</td>\n",
       "      <td>0</td>\n",
       "      <td>0</td>\n",
       "      <td>0.0</td>\n",
       "      <td>20</td>\n",
       "    </tr>\n",
       "  </tbody>\n",
       "</table>\n",
       "<p>5 rows × 81 columns</p>\n",
       "</div>"
      ],
      "text/plain": [
       "                ListingKey  ListingNumber            ListingCreationDate  \\\n",
       "0  1021339766868145413AB3B         193129  2007-08-26 19:09:29.263000000   \n",
       "1  10273602499503308B223C1        1209647  2014-02-27 08:28:07.900000000   \n",
       "2  0EE9337825851032864889A          81716  2007-01-05 15:00:47.090000000   \n",
       "3  0EF5356002482715299901A         658116  2012-10-22 11:02:35.010000000   \n",
       "4  0F023589499656230C5E3E2         909464  2013-09-14 18:38:39.097000000   \n",
       "\n",
       "  CreditGrade  Term LoanStatus           ClosedDate  BorrowerAPR  \\\n",
       "0           C    36  Completed  2009-08-14 00:00:00      0.16516   \n",
       "1         NaN    36    Current                  NaN      0.12016   \n",
       "2          HR    36  Completed  2009-12-17 00:00:00      0.28269   \n",
       "3         NaN    36    Current                  NaN      0.12528   \n",
       "4         NaN    36    Current                  NaN      0.24614   \n",
       "\n",
       "   BorrowerRate  LenderYield  ...  LP_ServiceFees  LP_CollectionFees  \\\n",
       "0        0.1580       0.1380  ...         -133.18                0.0   \n",
       "1        0.0920       0.0820  ...            0.00                0.0   \n",
       "2        0.2750       0.2400  ...          -24.20                0.0   \n",
       "3        0.0974       0.0874  ...         -108.01                0.0   \n",
       "4        0.2085       0.1985  ...          -60.27                0.0   \n",
       "\n",
       "   LP_GrossPrincipalLoss  LP_NetPrincipalLoss LP_NonPrincipalRecoverypayments  \\\n",
       "0                    0.0                  0.0                             0.0   \n",
       "1                    0.0                  0.0                             0.0   \n",
       "2                    0.0                  0.0                             0.0   \n",
       "3                    0.0                  0.0                             0.0   \n",
       "4                    0.0                  0.0                             0.0   \n",
       "\n",
       "   PercentFunded  Recommendations InvestmentFromFriendsCount  \\\n",
       "0            1.0                0                          0   \n",
       "1            1.0                0                          0   \n",
       "2            1.0                0                          0   \n",
       "3            1.0                0                          0   \n",
       "4            1.0                0                          0   \n",
       "\n",
       "  InvestmentFromFriendsAmount Investors  \n",
       "0                         0.0       258  \n",
       "1                         0.0         1  \n",
       "2                         0.0        41  \n",
       "3                         0.0       158  \n",
       "4                         0.0        20  \n",
       "\n",
       "[5 rows x 81 columns]"
      ]
     },
     "execution_count": 3,
     "metadata": {},
     "output_type": "execute_result"
    }
   ],
   "source": [
    "loan_data_raw.head()"
   ]
  },
  {
   "cell_type": "markdown",
   "metadata": {
    "slideshow": {
     "slide_type": "slide"
    }
   },
   "source": [
    "# Analysis of Peer to Peer Loan Data\n",
    "\n",
    "## by Louis Neira\n",
    "\n",
    "### Data provided by Prosper Funding LLC"
   ]
  },
  {
   "cell_type": "markdown",
   "metadata": {
    "slideshow": {
     "slide_type": "slide"
    }
   },
   "source": [
    "# 1. Introduction"
   ]
  },
  {
   "cell_type": "markdown",
   "metadata": {
    "slideshow": {
     "slide_type": "subslide"
    }
   },
   "source": [
    "Loan data from Prosper Financial, a peer-to-peer lender in the United States is analyzed for this project. \n",
    "\n",
    "The data set consists of data for 113,397 loans. 81 columns are recorded in the data set and pertain to borrower risk, including amount of delinquent loans at the time of the credit pull, credit ratings, credit grade, and borrower APR. The data set also includes columns for Prosper specific data such as custom ratings and investment from friends. Estimated loss and estimated returns, metrics that are important to investors, are also included in the data set."
   ]
  },
  {
   "cell_type": "markdown",
   "metadata": {
    "slideshow": {
     "slide_type": "skip"
    }
   },
   "source": [
    "To start this analysis, it may be helpful to view basic information about the data, including column names and descriptive statistics. Due to the large size of this data set, it is likely that only a subset of the data will be analyzed. "
   ]
  },
  {
   "cell_type": "code",
   "execution_count": 4,
   "metadata": {
    "scrolled": true,
    "slideshow": {
     "slide_type": "skip"
    }
   },
   "outputs": [
    {
     "name": "stdout",
     "output_type": "stream",
     "text": [
      "<class 'pandas.core.frame.DataFrame'>\n",
      "RangeIndex: 113937 entries, 0 to 113936\n",
      "Data columns (total 81 columns):\n",
      "ListingKey                             113937 non-null object\n",
      "ListingNumber                          113937 non-null int64\n",
      "ListingCreationDate                    113937 non-null object\n",
      "CreditGrade                            28953 non-null object\n",
      "Term                                   113937 non-null int64\n",
      "LoanStatus                             113937 non-null object\n",
      "ClosedDate                             55089 non-null object\n",
      "BorrowerAPR                            113912 non-null float64\n",
      "BorrowerRate                           113937 non-null float64\n",
      "LenderYield                            113937 non-null float64\n",
      "EstimatedEffectiveYield                84853 non-null float64\n",
      "EstimatedLoss                          84853 non-null float64\n",
      "EstimatedReturn                        84853 non-null float64\n",
      "ProsperRating (numeric)                84853 non-null float64\n",
      "ProsperRating (Alpha)                  84853 non-null object\n",
      "ProsperScore                           84853 non-null float64\n",
      "ListingCategory (numeric)              113937 non-null int64\n",
      "BorrowerState                          108422 non-null object\n",
      "Occupation                             110349 non-null object\n",
      "EmploymentStatus                       111682 non-null object\n",
      "EmploymentStatusDuration               106312 non-null float64\n",
      "IsBorrowerHomeowner                    113937 non-null bool\n",
      "CurrentlyInGroup                       113937 non-null bool\n",
      "GroupKey                               13341 non-null object\n",
      "DateCreditPulled                       113937 non-null object\n",
      "CreditScoreRangeLower                  113346 non-null float64\n",
      "CreditScoreRangeUpper                  113346 non-null float64\n",
      "FirstRecordedCreditLine                113240 non-null object\n",
      "CurrentCreditLines                     106333 non-null float64\n",
      "OpenCreditLines                        106333 non-null float64\n",
      "TotalCreditLinespast7years             113240 non-null float64\n",
      "OpenRevolvingAccounts                  113937 non-null int64\n",
      "OpenRevolvingMonthlyPayment            113937 non-null float64\n",
      "InquiriesLast6Months                   113240 non-null float64\n",
      "TotalInquiries                         112778 non-null float64\n",
      "CurrentDelinquencies                   113240 non-null float64\n",
      "AmountDelinquent                       106315 non-null float64\n",
      "DelinquenciesLast7Years                112947 non-null float64\n",
      "PublicRecordsLast10Years               113240 non-null float64\n",
      "PublicRecordsLast12Months              106333 non-null float64\n",
      "RevolvingCreditBalance                 106333 non-null float64\n",
      "BankcardUtilization                    106333 non-null float64\n",
      "AvailableBankcardCredit                106393 non-null float64\n",
      "TotalTrades                            106393 non-null float64\n",
      "TradesNeverDelinquent (percentage)     106393 non-null float64\n",
      "TradesOpenedLast6Months                106393 non-null float64\n",
      "DebtToIncomeRatio                      105383 non-null float64\n",
      "IncomeRange                            113937 non-null object\n",
      "IncomeVerifiable                       113937 non-null bool\n",
      "StatedMonthlyIncome                    113937 non-null float64\n",
      "LoanKey                                113937 non-null object\n",
      "TotalProsperLoans                      22085 non-null float64\n",
      "TotalProsperPaymentsBilled             22085 non-null float64\n",
      "OnTimeProsperPayments                  22085 non-null float64\n",
      "ProsperPaymentsLessThanOneMonthLate    22085 non-null float64\n",
      "ProsperPaymentsOneMonthPlusLate        22085 non-null float64\n",
      "ProsperPrincipalBorrowed               22085 non-null float64\n",
      "ProsperPrincipalOutstanding            22085 non-null float64\n",
      "ScorexChangeAtTimeOfListing            18928 non-null float64\n",
      "LoanCurrentDaysDelinquent              113937 non-null int64\n",
      "LoanFirstDefaultedCycleNumber          16952 non-null float64\n",
      "LoanMonthsSinceOrigination             113937 non-null int64\n",
      "LoanNumber                             113937 non-null int64\n",
      "LoanOriginalAmount                     113937 non-null int64\n",
      "LoanOriginationDate                    113937 non-null object\n",
      "LoanOriginationQuarter                 113937 non-null object\n",
      "MemberKey                              113937 non-null object\n",
      "MonthlyLoanPayment                     113937 non-null float64\n",
      "LP_CustomerPayments                    113937 non-null float64\n",
      "LP_CustomerPrincipalPayments           113937 non-null float64\n",
      "LP_InterestandFees                     113937 non-null float64\n",
      "LP_ServiceFees                         113937 non-null float64\n",
      "LP_CollectionFees                      113937 non-null float64\n",
      "LP_GrossPrincipalLoss                  113937 non-null float64\n",
      "LP_NetPrincipalLoss                    113937 non-null float64\n",
      "LP_NonPrincipalRecoverypayments        113937 non-null float64\n",
      "PercentFunded                          113937 non-null float64\n",
      "Recommendations                        113937 non-null int64\n",
      "InvestmentFromFriendsCount             113937 non-null int64\n",
      "InvestmentFromFriendsAmount            113937 non-null float64\n",
      "Investors                              113937 non-null int64\n",
      "dtypes: bool(3), float64(50), int64(11), object(17)\n",
      "memory usage: 68.1+ MB\n"
     ]
    }
   ],
   "source": [
    "loan_data_raw.info()"
   ]
  },
  {
   "cell_type": "code",
   "execution_count": 5,
   "metadata": {
    "slideshow": {
     "slide_type": "skip"
    }
   },
   "outputs": [
    {
     "data": {
      "text/plain": [
       "count    84853.000000\n",
       "mean         0.080306\n",
       "std          0.046764\n",
       "min          0.004900\n",
       "25%          0.042400\n",
       "50%          0.072400\n",
       "75%          0.112000\n",
       "max          0.366000\n",
       "Name: EstimatedLoss, dtype: float64"
      ]
     },
     "execution_count": 5,
     "metadata": {},
     "output_type": "execute_result"
    }
   ],
   "source": [
    "loan_data_raw['EstimatedLoss'].describe()"
   ]
  },
  {
   "cell_type": "code",
   "execution_count": 6,
   "metadata": {
    "slideshow": {
     "slide_type": "skip"
    }
   },
   "outputs": [
    {
     "data": {
      "text/plain": [
       "0.0     21700\n",
       "1.0       185\n",
       "2.0        69\n",
       "3.0        49\n",
       "4.0        20\n",
       "7.0        16\n",
       "5.0        16\n",
       "6.0         9\n",
       "8.0         5\n",
       "11.0        3\n",
       "21.0        3\n",
       "19.0        3\n",
       "9.0         3\n",
       "12.0        1\n",
       "10.0        1\n",
       "18.0        1\n",
       "16.0        1\n",
       "Name: ProsperPaymentsOneMonthPlusLate, dtype: int64"
      ]
     },
     "execution_count": 6,
     "metadata": {},
     "output_type": "execute_result"
    }
   ],
   "source": [
    "loan_data_raw['ProsperPaymentsOneMonthPlusLate'].value_counts()"
   ]
  },
  {
   "cell_type": "code",
   "execution_count": 7,
   "metadata": {
    "slideshow": {
     "slide_type": "skip"
    }
   },
   "outputs": [
    {
     "data": {
      "text/plain": [
       "Other                                28617\n",
       "Professional                         13628\n",
       "Computer Programmer                   4478\n",
       "Executive                             4311\n",
       "Teacher                               3759\n",
       "Administrative Assistant              3688\n",
       "Analyst                               3602\n",
       "Sales - Commission                    3446\n",
       "Accountant/CPA                        3233\n",
       "Clerical                              3164\n",
       "Sales - Retail                        2797\n",
       "Skilled Labor                         2746\n",
       "Retail Management                     2602\n",
       "Nurse (RN)                            2489\n",
       "Construction                          1790\n",
       "Truck Driver                          1675\n",
       "Laborer                               1595\n",
       "Police Officer/Correction Officer     1578\n",
       "Civil Service                         1457\n",
       "Engineer - Mechanical                 1406\n",
       "Name: Occupation, dtype: int64"
      ]
     },
     "execution_count": 7,
     "metadata": {},
     "output_type": "execute_result"
    }
   ],
   "source": [
    "loan_data_raw['Occupation'].value_counts()[0:20]"
   ]
  },
  {
   "cell_type": "markdown",
   "metadata": {
    "slideshow": {
     "slide_type": "skip"
    }
   },
   "source": [
    "As there are 81 columns in this data set, a subset of the data will be copied for initial analysis. Below are the columns that we will keep after an initial review of the data.\n",
    "\n",
    "- AmountDelinquent\n",
    "- BorrowerAPR\n",
    "- BorrowerRate\n",
    "- CreditScoreRangeUpper\n",
    "- CreditScoreRangeLower\n",
    "- DebtToIncomeRatio\n",
    "- EmploymentStatus\n",
    "- EmploymentStatusDuration\n",
    "- EstimatedLoss\n",
    "- EstimatedReturn\n",
    "- IsBorrowerHomeowner\n",
    "- LoanOriginalAmount\n",
    "- Occupation\n",
    "- PercentFunded\n",
    "- ProserPaymentsLessThanOneMonthLate\n",
    "- ProsperPaymentsOneMonthPlusLate\n",
    "- ProsperPrincipalBorrowed\n",
    "- ProsperPrincipalOutstanding\n",
    "- ProsperRating (numeric)\n",
    "- StatedMonthlyIncome"
   ]
  },
  {
   "cell_type": "code",
   "execution_count": 8,
   "metadata": {
    "slideshow": {
     "slide_type": "skip"
    }
   },
   "outputs": [],
   "source": [
    "loan_data = loan_data_raw[['AmountDelinquent', 'BorrowerAPR', 'BorrowerRate', 'CreditScoreRangeUpper', 'CreditScoreRangeLower',\n",
    "                           'DebtToIncomeRatio', 'EmploymentStatus', 'EmploymentStatusDuration', \n",
    "                           'IsBorrowerHomeowner', 'LoanOriginalAmount', 'Occupation', 'PercentFunded', \n",
    "                           'ProsperPaymentsLessThanOneMonthLate', 'ProsperPaymentsOneMonthPlusLate', \n",
    "                           'ProsperPrincipalBorrowed', 'ProsperPrincipalOutstanding', \n",
    "                           'ProsperRating (numeric)', 'StatedMonthlyIncome', 'EstimatedLoss', 'EstimatedReturn']].copy()"
   ]
  },
  {
   "cell_type": "markdown",
   "metadata": {
    "slideshow": {
     "slide_type": "skip"
    }
   },
   "source": [
    "Based on an initial view of the columns, it appears that the columns 'CreditScoreRangeUpper' and 'CreditScoreRangeLower' contain very similar data, likely provide similar information, and likely have a similar impact on other variables of interest. As a result, it may be worthwhile to create another variable that captures information from both of these variables and use that for analysis instead. This is done by creating another variable 'CreditScoreRangeAvg' that is the average of these two variables. In this way, we capture information from both columns while only needing to use one column."
   ]
  },
  {
   "cell_type": "code",
   "execution_count": 9,
   "metadata": {
    "slideshow": {
     "slide_type": "skip"
    }
   },
   "outputs": [],
   "source": [
    "loan_data['CreditScoreRangeAvg'] = 0\n",
    "loan_data['CreditScoreRangeAvg'] = (loan_data['CreditScoreRangeUpper'] + loan_data['CreditScoreRangeLower']) / 2"
   ]
  },
  {
   "cell_type": "code",
   "execution_count": 10,
   "metadata": {
    "slideshow": {
     "slide_type": "skip"
    }
   },
   "outputs": [
    {
     "data": {
      "text/html": [
       "<div>\n",
       "<style scoped>\n",
       "    .dataframe tbody tr th:only-of-type {\n",
       "        vertical-align: middle;\n",
       "    }\n",
       "\n",
       "    .dataframe tbody tr th {\n",
       "        vertical-align: top;\n",
       "    }\n",
       "\n",
       "    .dataframe thead th {\n",
       "        text-align: right;\n",
       "    }\n",
       "</style>\n",
       "<table border=\"1\" class=\"dataframe\">\n",
       "  <thead>\n",
       "    <tr style=\"text-align: right;\">\n",
       "      <th></th>\n",
       "      <th>CreditScoreRangeAvg</th>\n",
       "      <th>CreditScoreRangeUpper</th>\n",
       "      <th>CreditScoreRangeLower</th>\n",
       "    </tr>\n",
       "  </thead>\n",
       "  <tbody>\n",
       "    <tr>\n",
       "      <th>count</th>\n",
       "      <td>113346.000000</td>\n",
       "      <td>113346.000000</td>\n",
       "      <td>113346.000000</td>\n",
       "    </tr>\n",
       "    <tr>\n",
       "      <th>mean</th>\n",
       "      <td>695.067731</td>\n",
       "      <td>704.567731</td>\n",
       "      <td>685.567731</td>\n",
       "    </tr>\n",
       "    <tr>\n",
       "      <th>std</th>\n",
       "      <td>66.458275</td>\n",
       "      <td>66.458275</td>\n",
       "      <td>66.458275</td>\n",
       "    </tr>\n",
       "    <tr>\n",
       "      <th>min</th>\n",
       "      <td>9.500000</td>\n",
       "      <td>19.000000</td>\n",
       "      <td>0.000000</td>\n",
       "    </tr>\n",
       "    <tr>\n",
       "      <th>25%</th>\n",
       "      <td>669.500000</td>\n",
       "      <td>679.000000</td>\n",
       "      <td>660.000000</td>\n",
       "    </tr>\n",
       "    <tr>\n",
       "      <th>50%</th>\n",
       "      <td>689.500000</td>\n",
       "      <td>699.000000</td>\n",
       "      <td>680.000000</td>\n",
       "    </tr>\n",
       "    <tr>\n",
       "      <th>75%</th>\n",
       "      <td>729.500000</td>\n",
       "      <td>739.000000</td>\n",
       "      <td>720.000000</td>\n",
       "    </tr>\n",
       "    <tr>\n",
       "      <th>max</th>\n",
       "      <td>889.500000</td>\n",
       "      <td>899.000000</td>\n",
       "      <td>880.000000</td>\n",
       "    </tr>\n",
       "  </tbody>\n",
       "</table>\n",
       "</div>"
      ],
      "text/plain": [
       "       CreditScoreRangeAvg  CreditScoreRangeUpper  CreditScoreRangeLower\n",
       "count        113346.000000          113346.000000          113346.000000\n",
       "mean            695.067731             704.567731             685.567731\n",
       "std              66.458275              66.458275              66.458275\n",
       "min               9.500000              19.000000               0.000000\n",
       "25%             669.500000             679.000000             660.000000\n",
       "50%             689.500000             699.000000             680.000000\n",
       "75%             729.500000             739.000000             720.000000\n",
       "max             889.500000             899.000000             880.000000"
      ]
     },
     "execution_count": 10,
     "metadata": {},
     "output_type": "execute_result"
    }
   ],
   "source": [
    "loan_data[['CreditScoreRangeAvg', 'CreditScoreRangeUpper', 'CreditScoreRangeLower']].describe()"
   ]
  },
  {
   "cell_type": "code",
   "execution_count": 11,
   "metadata": {
    "slideshow": {
     "slide_type": "skip"
    }
   },
   "outputs": [],
   "source": [
    "loan_data.drop(columns=['CreditScoreRangeUpper', 'CreditScoreRangeLower'], inplace=True)"
   ]
  },
  {
   "cell_type": "code",
   "execution_count": 12,
   "metadata": {
    "slideshow": {
     "slide_type": "skip"
    }
   },
   "outputs": [
    {
     "name": "stdout",
     "output_type": "stream",
     "text": [
      "<class 'pandas.core.frame.DataFrame'>\n",
      "RangeIndex: 113937 entries, 0 to 113936\n",
      "Data columns (total 19 columns):\n",
      "AmountDelinquent                       106315 non-null float64\n",
      "BorrowerAPR                            113912 non-null float64\n",
      "BorrowerRate                           113937 non-null float64\n",
      "DebtToIncomeRatio                      105383 non-null float64\n",
      "EmploymentStatus                       111682 non-null object\n",
      "EmploymentStatusDuration               106312 non-null float64\n",
      "IsBorrowerHomeowner                    113937 non-null bool\n",
      "LoanOriginalAmount                     113937 non-null int64\n",
      "Occupation                             110349 non-null object\n",
      "PercentFunded                          113937 non-null float64\n",
      "ProsperPaymentsLessThanOneMonthLate    22085 non-null float64\n",
      "ProsperPaymentsOneMonthPlusLate        22085 non-null float64\n",
      "ProsperPrincipalBorrowed               22085 non-null float64\n",
      "ProsperPrincipalOutstanding            22085 non-null float64\n",
      "ProsperRating (numeric)                84853 non-null float64\n",
      "StatedMonthlyIncome                    113937 non-null float64\n",
      "EstimatedLoss                          84853 non-null float64\n",
      "EstimatedReturn                        84853 non-null float64\n",
      "CreditScoreRangeAvg                    113346 non-null float64\n",
      "dtypes: bool(1), float64(15), int64(1), object(2)\n",
      "memory usage: 15.8+ MB\n"
     ]
    }
   ],
   "source": [
    "loan_data.info()"
   ]
  },
  {
   "cell_type": "markdown",
   "metadata": {
    "slideshow": {
     "slide_type": "slide"
    }
   },
   "source": [
    "# 2. Initial Exploration"
   ]
  },
  {
   "cell_type": "markdown",
   "metadata": {
    "slideshow": {
     "slide_type": "subslide"
    }
   },
   "source": [
    "To start this analysis, it may be helpful to have an overview of several different bivariate plots. The goal is to uncover any interesting bivariate relationships in data, view general distribution patterns, and observe any variables that contain similar information (as shown by a linear relationship) which is an indication of data that can and should be dropped. "
   ]
  },
  {
   "cell_type": "code",
   "execution_count": 13,
   "metadata": {
    "slideshow": {
     "slide_type": "skip"
    }
   },
   "outputs": [],
   "source": [
    "data_vars = ['AmountDelinquent', 'BorrowerAPR', 'BorrowerRate',\n",
    "                           'DebtToIncomeRatio', 'EstimatedReturn']"
   ]
  },
  {
   "cell_type": "code",
   "execution_count": 14,
   "metadata": {
    "slideshow": {
     "slide_type": "subslide"
    }
   },
   "outputs": [
    {
     "data": {
      "image/png": "[encoded data removed]",
      "text/plain": [
       "<Figure size 576x576 with 30 Axes>"
      ]
     },
     "metadata": {
      "needs_background": "light"
     },
     "output_type": "display_data"
    }
   ],
   "source": [
    "# Slow running operation\n",
    "g = sns.PairGrid(data = loan_data, vars = data_vars)\n",
    "g.map_diag(plt.hist)\n",
    "g.map_offdiag(plt.scatter);\n",
    "g.fig.set_size_inches(8,8)"
   ]
  },
  {
   "cell_type": "markdown",
   "metadata": {
    "slideshow": {
     "slide_type": "subslide"
    }
   },
   "source": [
    "Based on the plot matrix, it appears that an abundance of data has made the plots difficult to read due to overlapping. As a result, data will be examined in further detail. However, one obvious trend is that the columns 'BorrowerAPR' and 'BorrowerRate' have a nearly linear slope, meaning that they contain very similar data. Because of this, one of the columns should be dropped. As APR typically encompasses all borrowing costs that are not necessarily reflected in a borrower's rate, it appears to be a more accurate measure of borrowing costs; therefore the 'BorrowerAPR' column will be kept. The 'BorrowerRate' column will be dropped."
   ]
  },
  {
   "cell_type": "code",
   "execution_count": 15,
   "metadata": {
    "slideshow": {
     "slide_type": "skip"
    }
   },
   "outputs": [],
   "source": [
    "loan_data.drop(columns='BorrowerRate', inplace=True)"
   ]
  },
  {
   "cell_type": "markdown",
   "metadata": {
    "slideshow": {
     "slide_type": "slide"
    }
   },
   "source": [
    "# 3. Homeownership and Estimated Return"
   ]
  },
  {
   "cell_type": "markdown",
   "metadata": {
    "slideshow": {
     "slide_type": "subslide"
    }
   },
   "source": [
    "For some individuals, a significant source of net worth is the value of a home, so it is worth exploring if there is a relationship between homeownership and estimated returns on loans. Do loans to homeowners make for a better return on investment than loans to individuals who do not own a home?\n",
    "\n",
    "Data in this section are also analyzed regarding debt to income ratio to search for any influence of this factor on the impact of homeownership on estimated rates of return."
   ]
  },
  {
   "cell_type": "code",
   "execution_count": 16,
   "metadata": {
    "slideshow": {
     "slide_type": "skip"
    }
   },
   "outputs": [],
   "source": [
    "loan_data_home_owner = loan_data.copy()\n",
    "loan_data_home_owner = loan_data_home_owner[loan_data_home_owner['AmountDelinquent'] > 0]\n",
    "loan_data_home_owner = loan_data_home_owner[['AmountDelinquent', 'DebtToIncomeRatio', 'IsBorrowerHomeowner', 'EstimatedReturn']]"
   ]
  },
  {
   "cell_type": "markdown",
   "metadata": {
    "slideshow": {
     "slide_type": "subslide"
    }
   },
   "source": [
    "The following scatterplots show the relationship between homeownership and estimated return. The scatterplots do not appear to reveal any significant correlation between these data. Summary statistics grouped by homeownship show that the two groups have very similar mean estimated rates of return. This is consistent with our plots in not showing an obvious difference in estimated return for homeowners compared to non-homeowners."
   ]
  },
  {
   "cell_type": "code",
   "execution_count": 17,
   "metadata": {
    "slideshow": {
     "slide_type": "subslide"
    }
   },
   "outputs": [
    {
     "data": {
      "image/png": "[encoded data removed]",
      "text/plain": [
       "<Figure size 1008x360 with 1 Axes>"
      ]
     },
     "metadata": {
      "needs_background": "light"
     },
     "output_type": "display_data"
    }
   ],
   "source": [
    "# YOUR CODE HERE\n",
    "plt.figure(figsize=(14,5))\n",
    "types = ['Homeowner', 'Not Homeowner']\n",
    "\n",
    "for truth in [True, False]:\n",
    "    plt.scatter(data = (loan_data_home_owner[loan_data_home_owner['IsBorrowerHomeowner'] == truth]), x='DebtToIncomeRatio', y='EstimatedReturn')\n",
    "\n",
    "plt.title('Estimated Rate of Return Based on Homeownership and Debt to Income Ratio')\n",
    "plt.xlabel(\"Debt to Income Ratio\")\n",
    "plt.ylabel(\"Estimated Rate of Return\")\n",
    "plt.legend(types);"
   ]
  },
  {
   "cell_type": "code",
   "execution_count": 18,
   "metadata": {
    "slideshow": {
     "slide_type": "subslide"
    }
   },
   "outputs": [
    {
     "data": {
      "image/png": "[encoded data removed]",
      "text/plain": [
       "<Figure size 1008x360 with 2 Axes>"
      ]
     },
     "metadata": {
      "needs_background": "light"
     },
     "output_type": "display_data"
    }
   ],
   "source": [
    "# Create Subplots\n",
    "f, axes = plt.subplots(1,2, figsize=(14,5))\n",
    "types = ['Homeowner', 'Not Homeowner']\n",
    "\n",
    "# Subplot 1 - Scatter data for estimated returns greater than zero\n",
    "ax1 = plt.subplot(121)\n",
    "for truth in [True, False]:\n",
    "    ax1.scatter(data = loan_data_home_owner[(loan_data_home_owner['EstimatedReturn'] >= 0) & (loan_data_home_owner['DebtToIncomeRatio'] <= 2) & (loan_data_home_owner['IsBorrowerHomeowner'] == truth)], x='DebtToIncomeRatio', y='EstimatedReturn')\n",
    "plt.legend(types, loc=4)\n",
    "plt.xticks(np.arange(0, 2.5, 0.5))\n",
    "plt.title('Estimated Rate of Return, Postive Returns')\n",
    "plt.xlabel(\"Debt to Income Ratio\")\n",
    "plt.ylabel(\"Estimated Rate of Return\")\n",
    "\n",
    "# Subplot 2 - Scatter data for estimated returns less than zero\n",
    "ax2 = plt.subplot(122)\n",
    "for truth in [True, False]:\n",
    "    ax2.scatter(data = loan_data_home_owner[(loan_data_home_owner['EstimatedReturn'] < 0) & (loan_data_home_owner['IsBorrowerHomeowner'] == truth)], x='DebtToIncomeRatio', y='EstimatedReturn')\n",
    "plt.legend(types, loc=4)\n",
    "plt.yticks(np.arange(-0.25, 0.05, 0.05))\n",
    "plt.title('Estimated Rate of Return, Negative Returns')\n",
    "plt.xlabel(\"Debt to Income Ratio\")\n",
    "plt.ylabel(\"Estimated Rate of Return\");"
   ]
  },
  {
   "cell_type": "code",
   "execution_count": 19,
   "metadata": {
    "slideshow": {
     "slide_type": "skip"
    }
   },
   "outputs": [
    {
     "data": {
      "text/plain": [
       "True     8269\n",
       "False    8228\n",
       "Name: IsBorrowerHomeowner, dtype: int64"
      ]
     },
     "execution_count": 19,
     "metadata": {},
     "output_type": "execute_result"
    }
   ],
   "source": [
    "loan_data_home_owner['IsBorrowerHomeowner'].value_counts()"
   ]
  },
  {
   "cell_type": "code",
   "execution_count": 20,
   "metadata": {
    "slideshow": {
     "slide_type": "skip"
    }
   },
   "outputs": [
    {
     "data": {
      "text/html": [
       "<div>\n",
       "<style scoped>\n",
       "    .dataframe tbody tr th:only-of-type {\n",
       "        vertical-align: middle;\n",
       "    }\n",
       "\n",
       "    .dataframe tbody tr th {\n",
       "        vertical-align: top;\n",
       "    }\n",
       "\n",
       "    .dataframe thead th {\n",
       "        text-align: right;\n",
       "    }\n",
       "</style>\n",
       "<table border=\"1\" class=\"dataframe\">\n",
       "  <thead>\n",
       "    <tr style=\"text-align: right;\">\n",
       "      <th></th>\n",
       "      <th>AmountDelinquent</th>\n",
       "      <th>DebtToIncomeRatio</th>\n",
       "      <th>EstimatedReturn</th>\n",
       "    </tr>\n",
       "    <tr>\n",
       "      <th>IsBorrowerHomeowner</th>\n",
       "      <th></th>\n",
       "      <th></th>\n",
       "      <th></th>\n",
       "    </tr>\n",
       "  </thead>\n",
       "  <tbody>\n",
       "    <tr>\n",
       "      <th>False</th>\n",
       "      <td>4387.419665</td>\n",
       "      <td>0.245666</td>\n",
       "      <td>0.106187</td>\n",
       "    </tr>\n",
       "    <tr>\n",
       "      <th>True</th>\n",
       "      <td>8292.197243</td>\n",
       "      <td>0.247938</td>\n",
       "      <td>0.106379</td>\n",
       "    </tr>\n",
       "  </tbody>\n",
       "</table>\n",
       "</div>"
      ],
      "text/plain": [
       "                     AmountDelinquent  DebtToIncomeRatio  EstimatedReturn\n",
       "IsBorrowerHomeowner                                                      \n",
       "False                     4387.419665           0.245666         0.106187\n",
       "True                      8292.197243           0.247938         0.106379"
      ]
     },
     "execution_count": 20,
     "metadata": {},
     "output_type": "execute_result"
    }
   ],
   "source": [
    "loan_data_home_owner.groupby(['IsBorrowerHomeowner']).mean()"
   ]
  },
  {
   "cell_type": "markdown",
   "metadata": {
    "slideshow": {
     "slide_type": "slide"
    }
   },
   "source": [
    "# 4. Debt to Income Ratio "
   ]
  },
  {
   "cell_type": "markdown",
   "metadata": {
    "slideshow": {
     "slide_type": "subslide"
    }
   },
   "source": [
    "The debt to income ratio is an important metric to measure risk to a bank or other borrowing institution of default. First, the debt to income ratio data are analyzed and plotted to view general trends about the debt to income ratio of Prosper Funding borrowers."
   ]
  },
  {
   "cell_type": "markdown",
   "metadata": {
    "slideshow": {
     "slide_type": "slide"
    }
   },
   "source": [
    "## A. Distribution of Loans by Debt to Income Ratio\n",
    "\n",
    "The first portion of this analysis examines the distribution of loans based on debt to income ratio."
   ]
  },
  {
   "cell_type": "code",
   "execution_count": 21,
   "metadata": {
    "slideshow": {
     "slide_type": "skip"
    }
   },
   "outputs": [
    {
     "data": {
      "text/plain": [
       "(0, 0)"
      ]
     },
     "execution_count": 21,
     "metadata": {},
     "output_type": "execute_result"
    }
   ],
   "source": [
    "# Confirm that we do not have null or infinite data in the specified columns\n",
    "loan_data.dropna(subset=['DebtToIncomeRatio', 'AmountDelinquent'], inplace=True)\n",
    "(loan_data['DebtToIncomeRatio'].isin([np.inf, -np.inf])).sum(), loan_data['DebtToIncomeRatio'].isna().sum()"
   ]
  },
  {
   "cell_type": "markdown",
   "metadata": {
    "slideshow": {
     "slide_type": "skip"
    }
   },
   "source": [
    "Some data points did not provide a debt to income ratio and were thus dropped from further analysis for debt to income ratio. Below is an analysis of the data for which there is debt to income ratio information."
   ]
  },
  {
   "cell_type": "code",
   "execution_count": 22,
   "metadata": {
    "slideshow": {
     "slide_type": "skip"
    }
   },
   "outputs": [
    {
     "data": {
      "text/plain": [
       "count    97905.000000\n",
       "mean         0.276037\n",
       "std          0.524517\n",
       "min          0.000000\n",
       "25%          0.150000\n",
       "50%          0.220000\n",
       "75%          0.320000\n",
       "max         10.010000\n",
       "Name: DebtToIncomeRatio, dtype: float64"
      ]
     },
     "execution_count": 22,
     "metadata": {},
     "output_type": "execute_result"
    }
   ],
   "source": [
    "loan_data['DebtToIncomeRatio'].describe()"
   ]
  },
  {
   "cell_type": "code",
   "execution_count": 23,
   "metadata": {
    "slideshow": {
     "slide_type": "skip"
    }
   },
   "outputs": [
    {
     "data": {
      "image/png": "[encoded data removed]",
      "text/plain": [
       "<Figure size 432x288 with 1 Axes>"
      ]
     },
     "metadata": {
      "needs_background": "light"
     },
     "output_type": "display_data"
    }
   ],
   "source": [
    "loan_data['DebtToIncomeRatio'].hist();\n",
    "plt.grid(False)\n",
    "plt.title('Number of Loans by Debt to Income Ratio (Complete Distribution)');"
   ]
  },
  {
   "cell_type": "code",
   "execution_count": 24,
   "metadata": {
    "slideshow": {
     "slide_type": "skip"
    }
   },
   "outputs": [
    {
     "name": "stdout",
     "output_type": "stream",
     "text": [
      "Number of loans and percent of loans with a Debt to Income Ratio greater than 1.0: 674, 0.01%\n"
     ]
    }
   ],
   "source": [
    "debt_ratio_greater_than_1_sum = loan_data[loan_data['DebtToIncomeRatio'] > 1]['DebtToIncomeRatio'].value_counts().sum() \n",
    "print('Number of loans and percent of loans with a Debt to Income Ratio greater than 1.0: ' + repr(debt_ratio_greater_than_1_sum) + ', ' + '{0:.2f}'.format(debt_ratio_greater_than_1_sum / len(loan_data['DebtToIncomeRatio'])) + '%')"
   ]
  },
  {
   "cell_type": "markdown",
   "metadata": {
    "slideshow": {
     "slide_type": "subslide"
    }
   },
   "source": [
    "The following slide shows the histogram for debt to income ratio. It is apparent that the vast majority of the loans (over 90,000 based on the above plot out of 97,905 for which there is debt to income ratio information) are given to borrowers with a debt to income ratio of 1 or less. A significant amount of borrowers have a debt to income ratio between 0.10 and 0.30, with the amount of borrowers with higher ratios trailing off significantly after approximately 0.30.\n",
    "\n",
    "Because more than 99.9% of loans contain a debt to income ratio less than or equal to 1, further analysis will be focused on this portion of the distribution."
   ]
  },
  {
   "cell_type": "code",
   "execution_count": 25,
   "metadata": {
    "slideshow": {
     "slide_type": "subslide"
    }
   },
   "outputs": [
    {
     "data": {
      "image/png": "[encoded data removed]",
      "text/plain": [
       "<Figure size 576x360 with 1 Axes>"
      ]
     },
     "metadata": {
      "needs_background": "light"
     },
     "output_type": "display_data"
    }
   ],
   "source": [
    "subplot = plt.figure(figsize = (8,5))\n",
    "\n",
    "bins = np.arange(0, 1.05, .1)\n",
    "\n",
    "ax = plt.subplot(1,1,1)\n",
    "\n",
    "ax = loan_data['DebtToIncomeRatio'].hist(bins = bins)\n",
    "\n",
    "bin_labels = [\"{:0.2f}\".format(i) for i in bins]\n",
    "bin_labels[0] = \"\"\n",
    "\n",
    "ax.set_xticks(bins - 0.05);\n",
    "ax.set_xticklabels(bin_labels)\n",
    "\n",
    "ax.grid(False)\n",
    "\n",
    "ax.set_title('Number of Loans by Debt to Income Ratio')\n",
    "ax.set_xlabel('Debt to Income Ratio');"
   ]
  },
  {
   "cell_type": "markdown",
   "metadata": {
    "slideshow": {
     "slide_type": "slide"
    }
   },
   "source": [
    "## B. Examining Debt to Income Ratio and Delinquent Payment Amounts"
   ]
  },
  {
   "cell_type": "markdown",
   "metadata": {
    "slideshow": {
     "slide_type": "subslide"
    }
   },
   "source": [
    "Based on the plot matrix, debt to income ratio appears to have an interesting relationship with the amount delinquent and is worth investigating with bivariate plots."
   ]
  },
  {
   "cell_type": "code",
   "execution_count": 26,
   "metadata": {
    "slideshow": {
     "slide_type": "skip"
    }
   },
   "outputs": [
    {
     "name": "stdout",
     "output_type": "stream",
     "text": [
      "<class 'pandas.core.frame.DataFrame'>\n",
      "Int64Index: 97905 entries, 0 to 113936\n",
      "Data columns (total 18 columns):\n",
      "AmountDelinquent                       97905 non-null float64\n",
      "BorrowerAPR                            97905 non-null float64\n",
      "DebtToIncomeRatio                      97905 non-null float64\n",
      "EmploymentStatus                       97905 non-null object\n",
      "EmploymentStatusDuration               97888 non-null float64\n",
      "IsBorrowerHomeowner                    97905 non-null bool\n",
      "LoanOriginalAmount                     97905 non-null int64\n",
      "Occupation                             96572 non-null object\n",
      "PercentFunded                          97905 non-null float64\n",
      "ProsperPaymentsLessThanOneMonthLate    19915 non-null float64\n",
      "ProsperPaymentsOneMonthPlusLate        19915 non-null float64\n",
      "ProsperPrincipalBorrowed               19915 non-null float64\n",
      "ProsperPrincipalOutstanding            19915 non-null float64\n",
      "ProsperRating (numeric)                77557 non-null float64\n",
      "StatedMonthlyIncome                    97905 non-null float64\n",
      "EstimatedLoss                          77557 non-null float64\n",
      "EstimatedReturn                        77557 non-null float64\n",
      "CreditScoreRangeAvg                    97905 non-null float64\n",
      "dtypes: bool(1), float64(14), int64(1), object(2)\n",
      "memory usage: 13.5+ MB\n"
     ]
    }
   ],
   "source": [
    "loan_data.info()"
   ]
  },
  {
   "cell_type": "code",
   "execution_count": 27,
   "metadata": {
    "slideshow": {
     "slide_type": "skip"
    }
   },
   "outputs": [
    {
     "data": {
      "text/plain": [
       "count    97905.000000\n",
       "mean         0.276037\n",
       "std          0.524517\n",
       "min          0.000000\n",
       "25%          0.150000\n",
       "50%          0.220000\n",
       "75%          0.320000\n",
       "max         10.010000\n",
       "Name: DebtToIncomeRatio, dtype: float64"
      ]
     },
     "execution_count": 27,
     "metadata": {},
     "output_type": "execute_result"
    }
   ],
   "source": [
    "loan_data['DebtToIncomeRatio'].describe()"
   ]
  },
  {
   "cell_type": "code",
   "execution_count": 28,
   "metadata": {
    "slideshow": {
     "slide_type": "skip"
    }
   },
   "outputs": [
    {
     "data": {
      "text/plain": [
       "count     97905.000000\n",
       "mean       1003.278556\n",
       "std        7154.286296\n",
       "min           0.000000\n",
       "25%           0.000000\n",
       "50%           0.000000\n",
       "75%           0.000000\n",
       "max      463881.000000\n",
       "Name: AmountDelinquent, dtype: float64"
      ]
     },
     "execution_count": 28,
     "metadata": {},
     "output_type": "execute_result"
    }
   ],
   "source": [
    "loan_data['AmountDelinquent'].describe()"
   ]
  },
  {
   "cell_type": "code",
   "execution_count": 29,
   "metadata": {
    "slideshow": {
     "slide_type": "skip"
    }
   },
   "outputs": [
    {
     "data": {
      "text/plain": [
       "15525"
      ]
     },
     "execution_count": 29,
     "metadata": {},
     "output_type": "execute_result"
    }
   ],
   "source": [
    "loan_data[loan_data['AmountDelinquent'] > 0]['AmountDelinquent'].count()"
   ]
  },
  {
   "cell_type": "markdown",
   "metadata": {
    "slideshow": {
     "slide_type": "subslide"
    }
   },
   "source": [
    "### 1. Scatter Plots"
   ]
  },
  {
   "cell_type": "markdown",
   "metadata": {
    "slideshow": {
     "slide_type": "subslide"
    }
   },
   "source": [
    "The following plot, which shows the total amount of delinquent payments for borrowers with delinquent loans (and excludes data for borrowers who did not have delinquent loans), shows that borrowers with lower debt to income ratios tend to have higher delinquent loan amounts when the credit report is pulled."
   ]
  },
  {
   "cell_type": "code",
   "execution_count": 30,
   "metadata": {
    "slideshow": {
     "slide_type": "skip"
    }
   },
   "outputs": [
    {
     "data": {
      "image/png": "[encoded data removed]",
      "text/plain": [
       "<Figure size 432x288 with 1 Axes>"
      ]
     },
     "metadata": {
      "needs_background": "light"
     },
     "output_type": "display_data"
    }
   ],
   "source": [
    "sns.regplot(data = loan_data, x = 'DebtToIncomeRatio', y = 'AmountDelinquent', fit_reg=False, scatter_kws = {'alpha': 0.15})\n",
    "plt.title('Delinquent Payment Amount by Debt to Income Ratio');"
   ]
  },
  {
   "cell_type": "code",
   "execution_count": 31,
   "metadata": {
    "slideshow": {
     "slide_type": "subslide"
    }
   },
   "outputs": [
    {
     "data": {
      "image/png": "[encoded data removed]",
      "text/plain": [
       "<Figure size 432x288 with 1 Axes>"
      ]
     },
     "metadata": {
      "needs_background": "light"
     },
     "output_type": "display_data"
    }
   ],
   "source": [
    "g = sns.regplot(data = loan_data[loan_data['AmountDelinquent'] > 0], x = 'DebtToIncomeRatio', y = 'AmountDelinquent', fit_reg=False, scatter_kws = {'alpha': 0.15})\n",
    "plt.xlabel('Debt to Income Ratio')\n",
    "plt.ylabel('Amount of Delinquent Payments')\n",
    "y_ticklabels = ['${:,.0f}'.format(t) for t in g.get_yticks()]\n",
    "locs, labels = plt.yticks()\n",
    "g.set(yticklabels=y_ticklabels)\n",
    "plt.title('Delinquent Payment Amounts Greater than Zero by Debt to Income Ratio');"
   ]
  },
  {
   "cell_type": "markdown",
   "metadata": {
    "slideshow": {
     "slide_type": "skip"
    }
   },
   "source": [
    "### 2. Heat Maps\n",
    "\n",
    "Due to the clustered distribution of the debt to income and delinquent loan amount data, it will be worth examining a smaller range of the data. Heat maps can help pinpoint which parts of the data to focus on. "
   ]
  },
  {
   "cell_type": "code",
   "execution_count": 32,
   "metadata": {
    "slideshow": {
     "slide_type": "skip"
    }
   },
   "outputs": [],
   "source": [
    "debt_ratio_step = 0.1\n",
    "amt_del_step = 50000"
   ]
  },
  {
   "cell_type": "code",
   "execution_count": 33,
   "metadata": {
    "slideshow": {
     "slide_type": "skip"
    }
   },
   "outputs": [],
   "source": [
    "debt_ratio_bins = np.arange(-0.1, loan_data['DebtToIncomeRatio'].max() + debt_ratio_step, debt_ratio_step)\n",
    "delinquent_bins = np.arange(-0.1, loan_data['AmountDelinquent'].max() + amt_del_step, amt_del_step)"
   ]
  },
  {
   "cell_type": "code",
   "execution_count": 34,
   "metadata": {
    "slideshow": {
     "slide_type": "skip"
    }
   },
   "outputs": [
    {
     "data": {
      "image/png": "[encoded data removed]",
      "text/plain": [
       "<Figure size 432x288 with 2 Axes>"
      ]
     },
     "metadata": {
      "needs_background": "light"
     },
     "output_type": "display_data"
    }
   ],
   "source": [
    "plt.hist2d(data = loan_data, x = 'DebtToIncomeRatio', y = 'AmountDelinquent', bins=[debt_ratio_bins, delinquent_bins], cmap='viridis_r');\n",
    "plt.colorbar();"
   ]
  },
  {
   "cell_type": "code",
   "execution_count": 35,
   "metadata": {
    "slideshow": {
     "slide_type": "skip"
    }
   },
   "outputs": [],
   "source": [
    "debt_ratio_bins = np.arange(-0.1, 1.5, 0.3)\n",
    "delinquent_bins = np.arange(-0.1, 500000, 50000)"
   ]
  },
  {
   "cell_type": "code",
   "execution_count": 36,
   "metadata": {
    "slideshow": {
     "slide_type": "skip"
    }
   },
   "outputs": [
    {
     "data": {
      "image/png": "[encoded data removed]",
      "text/plain": [
       "<Figure size 432x288 with 2 Axes>"
      ]
     },
     "metadata": {
      "needs_background": "light"
     },
     "output_type": "display_data"
    }
   ],
   "source": [
    "plt.hist2d(data = loan_data, x = 'DebtToIncomeRatio', y = 'AmountDelinquent', bins=[debt_ratio_bins, delinquent_bins], cmap='viridis_r', cmin=5);\n",
    "plt.title('Number of Delinquent Loans')\n",
    "plt.xlabel('Debt to Income Ratio')\n",
    "plt.ylabel('Delinquent Loan Amount')\n",
    "cbar = plt.colorbar();"
   ]
  },
  {
   "cell_type": "markdown",
   "metadata": {
    "slideshow": {
     "slide_type": "skip"
    }
   },
   "source": [
    "The heat map in the previous slide shows that a vast majority of borrowers with delinquent loans are borrowers with debt to income ratios under 0.5 and delinquent loan amounts under 250,000. "
   ]
  },
  {
   "cell_type": "markdown",
   "metadata": {
    "slideshow": {
     "slide_type": "subslide"
    }
   },
   "source": [
    "### 2. Further Examination of Debt to Income and Delinquent Payment Amount "
   ]
  },
  {
   "cell_type": "code",
   "execution_count": 37,
   "metadata": {
    "slideshow": {
     "slide_type": "skip"
    }
   },
   "outputs": [],
   "source": [
    "# Subsets of loan data\n",
    "\n",
    "# This subset contains all loans with a delinquent amount less than or equal to $250,000 and a debt to income ratio less than or equal to 0.50 \n",
    "loan_data_sub = loan_data[(loan_data['AmountDelinquent'] <= 250000) & (loan_data['DebtToIncomeRatio'] >= 0) & (loan_data['DebtToIncomeRatio'] <= .50)].copy()\n",
    "\n",
    "# This subset contains delinquent loans with a delinquent amount less than or equal to $250,000 and a debt to income ratio less than or equal to 0.50\n",
    "loan_data_delinquent = loan_data[(loan_data['AmountDelinquent'] > 0) & (loan_data['AmountDelinquent'] < 250001) & (loan_data['DebtToIncomeRatio'] >= 0) & (loan_data['DebtToIncomeRatio'] < .51)].copy()"
   ]
  },
  {
   "cell_type": "code",
   "execution_count": 38,
   "metadata": {
    "slideshow": {
     "slide_type": "skip"
    }
   },
   "outputs": [
    {
     "data": {
      "text/plain": [
       "(93043, 14925)"
      ]
     },
     "execution_count": 38,
     "metadata": {},
     "output_type": "execute_result"
    }
   ],
   "source": [
    "len(loan_data_sub), len(loan_data_delinquent)"
   ]
  },
  {
   "cell_type": "code",
   "execution_count": 39,
   "metadata": {
    "slideshow": {
     "slide_type": "skip"
    }
   },
   "outputs": [
    {
     "data": {
      "text/plain": [
       "0.9561889563909396"
      ]
     },
     "execution_count": 39,
     "metadata": {},
     "output_type": "execute_result"
    }
   ],
   "source": [
    "# Percent of delinquent loans covered by subset of data\n",
    "# (less than or equal to $250,000 and debt to income ratio less than or equal to 0.5)\n",
    "loan_data_delinquent['AmountDelinquent'].sum() / loan_data['AmountDelinquent'].sum()"
   ]
  },
  {
   "cell_type": "code",
   "execution_count": 40,
   "metadata": {
    "slideshow": {
     "slide_type": "skip"
    }
   },
   "outputs": [],
   "source": [
    "debt_ratio_step = .1\n",
    "amt_del_step = 50000"
   ]
  },
  {
   "cell_type": "code",
   "execution_count": 41,
   "metadata": {
    "slideshow": {
     "slide_type": "skip"
    }
   },
   "outputs": [],
   "source": [
    "def create_bin_indices(df, columns, steps):\n",
    "    \n",
    "    bins = []\n",
    "    indices = []\n",
    "    \n",
    "    for s in range(0, len(steps)):\n",
    "        b = np.arange(df[columns[s]].min(), df[columns[s]].max() + steps[s], steps[s])\n",
    "        bins.append(b)\n",
    "        \n",
    "        i = pd.cut(df[columns[s]], bins[s], labels=False, include_lowest = True).astype(int)\n",
    "        indices.append(i)\n",
    "        \n",
    "    return bins, indices"
   ]
  },
  {
   "cell_type": "code",
   "execution_count": 42,
   "metadata": {
    "slideshow": {
     "slide_type": "skip"
    }
   },
   "outputs": [],
   "source": [
    "def add_bins_to_dataframe(df, indices, operation, new_col_names):\n",
    "    \n",
    "    if (operation == 'sum'):\n",
    "        df_groupby = df.groupby(indices).sum()\n",
    "        \n",
    "    elif (operation == 'mean'):\n",
    "        df_groupby = df.groupby(indices).mean()\n",
    "        \n",
    "    elif (operation == 'proportion'):\n",
    "        df_groupby_sum = df.groupby(indices).sum()\n",
    "        df_groupby_count = df.groupby(indices).count()\n",
    "        df_groupby = df_groupby_sum / df_groupby_count\n",
    "    \n",
    "    else:\n",
    "        df_groupby = df.groupby(indices).count()\n",
    "\n",
    "    df_groupby.index.set_names(new_col_names, inplace=True)\n",
    "    df_groupby = df_groupby.reset_index()\n",
    "    \n",
    "    return df_groupby"
   ]
  },
  {
   "cell_type": "code",
   "execution_count": 43,
   "metadata": {
    "slideshow": {
     "slide_type": "skip"
    }
   },
   "outputs": [],
   "source": [
    "bin_list, index_list = create_bin_indices(loan_data_sub, ['DebtToIncomeRatio'], [debt_ratio_step])\n",
    "loan_data_count = add_bins_to_dataframe(loan_data_sub, index_list, 'count', ['DebtRatioBin'])"
   ]
  },
  {
   "cell_type": "code",
   "execution_count": 44,
   "metadata": {
    "slideshow": {
     "slide_type": "skip"
    }
   },
   "outputs": [],
   "source": [
    "bin_list_del, index_list_del = create_bin_indices(loan_data_delinquent, ['DebtToIncomeRatio'], [debt_ratio_step])\n",
    "loan_data_del_count = add_bins_to_dataframe(loan_data_delinquent, index_list, 'count', ['DebtRatioBin'])"
   ]
  },
  {
   "cell_type": "code",
   "execution_count": 45,
   "metadata": {
    "slideshow": {
     "slide_type": "skip"
    }
   },
   "outputs": [],
   "source": [
    "loan_data_prop = loan_data_count.copy()\n",
    "loan_data_prop['AmountDelinquent'] = loan_data_del_count['AmountDelinquent'] / loan_data_count['AmountDelinquent']"
   ]
  },
  {
   "cell_type": "markdown",
   "metadata": {
    "slideshow": {
     "slide_type": "subslide"
    }
   },
   "source": [
    "The following plot shows the total number of loans given. The highest number of loans were given to borrowers with a debt to income ratio between 0.11 and 0.20."
   ]
  },
  {
   "cell_type": "code",
   "execution_count": 46,
   "metadata": {
    "slideshow": {
     "slide_type": "subslide"
    }
   },
   "outputs": [
    {
     "data": {
      "image/png": "[encoded data removed]",
      "text/plain": [
       "<Figure size 468x360 with 1 Axes>"
      ]
     },
     "metadata": {
      "needs_background": "light"
     },
     "output_type": "display_data"
    }
   ],
   "source": [
    "plt.figure(figsize=(6.5,5))\n",
    "    \n",
    "x_labels = []\n",
    "legend_labels = []\n",
    "x = 'DebtRatioBin'\n",
    "bins = bin_list\n",
    "\n",
    "\n",
    "g = sns.barplot(data=loan_data_count, x='DebtRatioBin', y='AmountDelinquent', ci=None, color = sns.color_palette()[0]);\n",
    "#g.legend(loc=1)\n",
    "    \n",
    "# Create labels for Debt to Income Ratio ranges along x-axis\n",
    "for i in range(loan_data_count[x].min(), loan_data_count[x].max() + 1):\n",
    "        \n",
    "    if i == loan_data_count[x].min():\n",
    "        label_min = bins[0][i]\n",
    "    else:\n",
    "        label_min = bins[0][i] + 0.01\n",
    "            \n",
    "    label_max = bins[0][i + 1]\n",
    "    label = str('{0:.2f}'.format(label_min)) + ' - ' + str('{0:.2f}'.format(label_max))\n",
    "    x_labels.append(label)\n",
    "    \n",
    "g.set(title='Total Number of Loans')\n",
    "g.set(xticklabels=x_labels);\n",
    "g.set(xlabel='Debt to Income Ratio', ylabel=\"\");"
   ]
  },
  {
   "cell_type": "markdown",
   "metadata": {
    "slideshow": {
     "slide_type": "subslide"
    }
   },
   "source": [
    "The following bar graphs show a breakdown of delinquent loans by debt to income ratio. The distribution of delinquent loans for borrowers when their credit was pulled mirrors the distribution of the total number of loans as shown in the previous bar graph. Loans with a debt to income ratio between 0.11 and 0.20 had the highest number of delinquent loans, which is expected as this debt to income ratio range also had the highest number of loans overall. \n",
    "While borrowers with a debt to income ratio range of 0.11-0.20 had the highest overall number of delinquent loans, the group with the highest proportion of borrowers with delinquent loans is borrowers with debt to income ratios of under 0.10.\n",
    "\n",
    "It will be worthwhile to examine if loans in this income range also have a higher overall delinquent loan amounts at the time the credit profile is pulled."
   ]
  },
  {
   "cell_type": "code",
   "execution_count": 47,
   "metadata": {
    "slideshow": {
     "slide_type": "subslide"
    }
   },
   "outputs": [
    {
     "data": {
      "image/png": "[encoded data removed]",
      "text/plain": [
       "<Figure size 1008x360 with 2 Axes>"
      ]
     },
     "metadata": {
      "needs_background": "light"
     },
     "output_type": "display_data"
    }
   ],
   "source": [
    "f, axes = plt.subplots(1,2, figsize=(14,5))\n",
    "    \n",
    "x_labels = []\n",
    "legend_labels = []\n",
    "x = 'DebtRatioBin'\n",
    "bins = bin_list\n",
    "\n",
    "ax1 = sns.barplot(data=loan_data_del_count, x='DebtRatioBin', y='AmountDelinquent', ci=None, color = sns.color_palette()[0], ax=axes[0]);\n",
    "#g.legend(loc=1)\n",
    "    \n",
    "# Create labels for Debt to Income Ratio ranges along x-axis\n",
    "for i in range(loan_data_del_count[x].min(), loan_data_del_count[x].max() + 1):\n",
    "        \n",
    "    if i == loan_data_del_count[x].min():\n",
    "        label_min = bins[0][i]\n",
    "    else:\n",
    "        label_min = bins[0][i] + 0.01\n",
    "            \n",
    "    label_max = bins[0][i + 1]\n",
    "    label = str('{0:.2f}'.format(label_min)) + ' - ' + str('{0:.2f}'.format(label_max))\n",
    "    x_labels.append(label)\n",
    "    \n",
    "# Modify labels so they show commas and whole numbers\n",
    "#y_labels = ['{:,.2f}'.format(t) for t in g.get_yticks()]  \n",
    "    \n",
    "ax1.set(title='Total Number of Borrowers with Delinquent Loans')\n",
    "ax1.set(xticklabels=x_labels);\n",
    "ax1.set(xlabel='Debt to Income Ratio', ylabel='');\n",
    "\n",
    "\n",
    "\n",
    "ax2 = sns.barplot(data=loan_data_prop, x='DebtRatioBin', y='AmountDelinquent', ci=None, color = sns.color_palette()[0], ax=axes[1]);\n",
    "#g.legend(loc=1)\n",
    "    \n",
    "# Create labels for Debt to Income Ratio ranges along x-axis\n",
    "for i in range(loan_data_prop[x].min(), loan_data_prop[x].max() + 1):\n",
    "        \n",
    "    if i == loan_data_prop[x].min():\n",
    "        label_min = bins[0][i]\n",
    "    else:\n",
    "        label_min = bins[0][i] + 0.01\n",
    "            \n",
    "    label_max = bins[0][i + 1]\n",
    "    label = str('{0:.2f}'.format(label_min)) + ' - ' + str('{0:.2f}'.format(label_max))\n",
    "    x_labels.append(label)\n",
    "    \n",
    "# Modify labels so they show commas and whole numbers\n",
    "y_labels = ['${:,.2f}'.format(t) for t in g.get_yticks()]  \n",
    "    \n",
    "ax2.set(title='Proportion of Borrowers with Delinquent Loans')\n",
    "ax2.set(xticklabels=x_labels);\n",
    "ax2.set(xlabel='Debt to Income Ratio', ylabel='');"
   ]
  },
  {
   "cell_type": "code",
   "execution_count": 48,
   "metadata": {
    "slideshow": {
     "slide_type": "skip"
    }
   },
   "outputs": [],
   "source": [
    "bin_list, index_list = create_bin_indices(loan_data_sub, ['DebtToIncomeRatio'], [debt_ratio_step])\n",
    "loan_data_sum = add_bins_to_dataframe(loan_data_sub, index_list, 'sum', ['DebtRatioBin'])"
   ]
  },
  {
   "cell_type": "code",
   "execution_count": 49,
   "metadata": {
    "slideshow": {
     "slide_type": "skip"
    }
   },
   "outputs": [],
   "source": [
    "loan_data_mean = add_bins_to_dataframe(loan_data_sub, index_list, 'mean', ['DebtRatioBin'])"
   ]
  },
  {
   "cell_type": "markdown",
   "metadata": {
    "slideshow": {
     "slide_type": "subslide"
    }
   },
   "source": [
    "While borrowers in the debt to income ratio range of 0.11-0.20 overall had the largest dollar amount of delinquent loans, borrowers with a debt to income ratio of 0.10 or less had the highest average delinquent payment amount per borrower. This is similar to the pattern previously observed when comparing the number of delinquent loans to the proportion of delinquent loans by debt to income ratios. The average delinquent payment amount for borrowers with a debt to income ratio of 0.10 or less is roughly double the amount of borrowers with a debt to income ratio of 0.11-0.20.\n",
    "\n",
    "Overall, preliminary observations show that borrowers with a debt to income ratio of 0.10 or less are more likely to have delinquent payments and have higher amounts of delinquent payments per borrower. This is logical, as banks would prefer borrowers to have low debt and higher income, particularly if their credit report shows delinquent loans."
   ]
  },
  {
   "cell_type": "code",
   "execution_count": 50,
   "metadata": {
    "slideshow": {
     "slide_type": "subslide"
    }
   },
   "outputs": [
    {
     "data": {
      "image/png": "[encoded data removed]",
      "text/plain": [
       "<Figure size 1008x360 with 2 Axes>"
      ]
     },
     "metadata": {
      "needs_background": "light"
     },
     "output_type": "display_data"
    }
   ],
   "source": [
    "f, axes = plt.subplots(1,2, figsize=(14,5))\n",
    "    \n",
    "x_labels = []\n",
    "legend_labels = []\n",
    "x = 'DebtRatioBin'\n",
    "bins = bin_list\n",
    "\n",
    "\n",
    "ax1 = sns.barplot(data=loan_data_sum, x='DebtRatioBin', y='AmountDelinquent', ci=None, color = sns.color_palette()[0], ax=axes[0]);\n",
    "#g.legend(loc=1)\n",
    "    \n",
    "# Create labels for Debt to Income Ratio ranges along x-axis\n",
    "for i in range(loan_data_sum[x].min(), loan_data_sum[x].max() + 1):\n",
    "        \n",
    "    if i == loan_data_sum[x].min():\n",
    "        label_min = bins[0][i]\n",
    "    else:\n",
    "        label_min = bins[0][i] + 0.01\n",
    "            \n",
    "    label_max = bins[0][i + 1]\n",
    "    label = str('{0:.2f}'.format(label_min)) + ' - ' + str('{0:.2f}'.format(label_max))\n",
    "    x_labels.append(label)\n",
    "    \n",
    "# Modify labels so they show commas and whole numbers\n",
    "y_labels = ['${:,.0f}'.format(tick) for tick in ax1.get_yticks()]  \n",
    "    \n",
    "ax1.set(title='Total Delinquent Payments')\n",
    "ax1.set(xticklabels=x_labels, yticklabels=y_labels);\n",
    "ax1.set(xlabel='Debt to Income Ratio', ylabel='');\n",
    "\n",
    "    \n",
    "ax2 = sns.barplot(data=loan_data_mean, x='DebtRatioBin', y='AmountDelinquent', ci=None, color = sns.color_palette()[0], ax=axes[1]);\n",
    "#g.legend(loc=1)\n",
    "    \n",
    "# Create labels for Debt to Income Ratio ranges along x-axis\n",
    "for i in range(loan_data_mean[x].min(), loan_data_mean[x].max() + 1):\n",
    "        \n",
    "    if i == loan_data_mean[x].min():\n",
    "        label_min = bins[0][i]\n",
    "    else:\n",
    "        label_min = bins[0][i] + 0.01\n",
    "            \n",
    "    label_max = bins[0][i + 1]\n",
    "    label = str('{0:.2f}'.format(label_min)) + ' - ' + str('{0:.2f}'.format(label_max))\n",
    "    x_labels.append(label)\n",
    "    \n",
    "# Modify labels so they show commas and whole numbers\n",
    "y_labels = ['${:,.0f}'.format(tick) for tick in ax2.get_yticks()]  \n",
    "    \n",
    "ax2.set(title='Average Delinquent Payment')\n",
    "ax2.set(xticklabels=x_labels, yticklabels=y_labels);\n",
    "ax2.set(xlabel='Debt to Income Ratio', ylabel='');"
   ]
  },
  {
   "cell_type": "code",
   "execution_count": 51,
   "metadata": {
    "slideshow": {
     "slide_type": "skip"
    }
   },
   "outputs": [],
   "source": [
    "loan_data_return = loan_data_sub[['DebtToIncomeRatio', 'AmountDelinquent', 'EstimatedReturn']].copy()"
   ]
  },
  {
   "cell_type": "code",
   "execution_count": 52,
   "metadata": {
    "slideshow": {
     "slide_type": "skip"
    }
   },
   "outputs": [
    {
     "name": "stdout",
     "output_type": "stream",
     "text": [
      "<class 'pandas.core.frame.DataFrame'>\n",
      "Int64Index: 74125 entries, 1 to 113936\n",
      "Data columns (total 3 columns):\n",
      "DebtToIncomeRatio    74125 non-null float64\n",
      "AmountDelinquent     74125 non-null float64\n",
      "EstimatedReturn      74125 non-null float64\n",
      "dtypes: float64(3)\n",
      "memory usage: 2.3 MB\n"
     ]
    }
   ],
   "source": [
    "loan_data_return = loan_data_return.dropna(subset=['EstimatedReturn'])\n",
    "loan_data_return.info()"
   ]
  },
  {
   "cell_type": "code",
   "execution_count": 53,
   "metadata": {
    "slideshow": {
     "slide_type": "skip"
    }
   },
   "outputs": [],
   "source": [
    "bin_list_returns, index_list_returns = create_bin_indices(loan_data_return, ['DebtToIncomeRatio', 'AmountDelinquent'], [debt_ratio_step, amt_del_step])"
   ]
  },
  {
   "cell_type": "code",
   "execution_count": 54,
   "metadata": {
    "slideshow": {
     "slide_type": "skip"
    }
   },
   "outputs": [],
   "source": [
    "loan_data_ret_mean = add_bins_to_dataframe(loan_data_return, index_list_returns, 'mean', ['DebtRatioBin', 'AmtDelinquentBin'])"
   ]
  },
  {
   "cell_type": "code",
   "execution_count": 55,
   "metadata": {
    "slideshow": {
     "slide_type": "skip"
    }
   },
   "outputs": [
    {
     "data": {
      "text/html": [
       "<div>\n",
       "<style scoped>\n",
       "    .dataframe tbody tr th:only-of-type {\n",
       "        vertical-align: middle;\n",
       "    }\n",
       "\n",
       "    .dataframe tbody tr th {\n",
       "        vertical-align: top;\n",
       "    }\n",
       "\n",
       "    .dataframe thead th {\n",
       "        text-align: right;\n",
       "    }\n",
       "</style>\n",
       "<table border=\"1\" class=\"dataframe\">\n",
       "  <thead>\n",
       "    <tr style=\"text-align: right;\">\n",
       "      <th></th>\n",
       "      <th>DebtRatioBin</th>\n",
       "      <th>AmtDelinquentBin</th>\n",
       "      <th>DebtToIncomeRatio</th>\n",
       "      <th>AmountDelinquent</th>\n",
       "      <th>EstimatedReturn</th>\n",
       "    </tr>\n",
       "  </thead>\n",
       "  <tbody>\n",
       "    <tr>\n",
       "      <th>0</th>\n",
       "      <td>0</td>\n",
       "      <td>0</td>\n",
       "      <td>0.072615</td>\n",
       "      <td>1279.651598</td>\n",
       "      <td>0.093647</td>\n",
       "    </tr>\n",
       "    <tr>\n",
       "      <th>1</th>\n",
       "      <td>0</td>\n",
       "      <td>1</td>\n",
       "      <td>0.064068</td>\n",
       "      <td>71071.271186</td>\n",
       "      <td>0.106789</td>\n",
       "    </tr>\n",
       "    <tr>\n",
       "      <th>2</th>\n",
       "      <td>0</td>\n",
       "      <td>2</td>\n",
       "      <td>0.069524</td>\n",
       "      <td>119413.047619</td>\n",
       "      <td>0.106288</td>\n",
       "    </tr>\n",
       "    <tr>\n",
       "      <th>3</th>\n",
       "      <td>0</td>\n",
       "      <td>3</td>\n",
       "      <td>0.066667</td>\n",
       "      <td>174903.833333</td>\n",
       "      <td>0.116438</td>\n",
       "    </tr>\n",
       "    <tr>\n",
       "      <th>4</th>\n",
       "      <td>0</td>\n",
       "      <td>4</td>\n",
       "      <td>0.056667</td>\n",
       "      <td>224442.666667</td>\n",
       "      <td>0.100700</td>\n",
       "    </tr>\n",
       "    <tr>\n",
       "      <th>5</th>\n",
       "      <td>1</td>\n",
       "      <td>0</td>\n",
       "      <td>0.157565</td>\n",
       "      <td>691.150040</td>\n",
       "      <td>0.092677</td>\n",
       "    </tr>\n",
       "    <tr>\n",
       "      <th>6</th>\n",
       "      <td>1</td>\n",
       "      <td>1</td>\n",
       "      <td>0.154079</td>\n",
       "      <td>66967.986842</td>\n",
       "      <td>0.103236</td>\n",
       "    </tr>\n",
       "    <tr>\n",
       "      <th>7</th>\n",
       "      <td>1</td>\n",
       "      <td>2</td>\n",
       "      <td>0.153714</td>\n",
       "      <td>121845.914286</td>\n",
       "      <td>0.090222</td>\n",
       "    </tr>\n",
       "    <tr>\n",
       "      <th>8</th>\n",
       "      <td>1</td>\n",
       "      <td>3</td>\n",
       "      <td>0.146667</td>\n",
       "      <td>170747.666667</td>\n",
       "      <td>0.102678</td>\n",
       "    </tr>\n",
       "    <tr>\n",
       "      <th>9</th>\n",
       "      <td>1</td>\n",
       "      <td>4</td>\n",
       "      <td>0.160000</td>\n",
       "      <td>219526.500000</td>\n",
       "      <td>0.081300</td>\n",
       "    </tr>\n",
       "    <tr>\n",
       "      <th>10</th>\n",
       "      <td>2</td>\n",
       "      <td>0</td>\n",
       "      <td>0.251402</td>\n",
       "      <td>473.986079</td>\n",
       "      <td>0.093645</td>\n",
       "    </tr>\n",
       "    <tr>\n",
       "      <th>11</th>\n",
       "      <td>2</td>\n",
       "      <td>1</td>\n",
       "      <td>0.247843</td>\n",
       "      <td>72651.235294</td>\n",
       "      <td>0.102403</td>\n",
       "    </tr>\n",
       "    <tr>\n",
       "      <th>12</th>\n",
       "      <td>2</td>\n",
       "      <td>2</td>\n",
       "      <td>0.239231</td>\n",
       "      <td>114764.384615</td>\n",
       "      <td>0.094902</td>\n",
       "    </tr>\n",
       "    <tr>\n",
       "      <th>13</th>\n",
       "      <td>2</td>\n",
       "      <td>3</td>\n",
       "      <td>0.260000</td>\n",
       "      <td>168669.000000</td>\n",
       "      <td>0.098110</td>\n",
       "    </tr>\n",
       "    <tr>\n",
       "      <th>14</th>\n",
       "      <td>2</td>\n",
       "      <td>4</td>\n",
       "      <td>0.230000</td>\n",
       "      <td>230291.000000</td>\n",
       "      <td>0.113700</td>\n",
       "    </tr>\n",
       "    <tr>\n",
       "      <th>15</th>\n",
       "      <td>3</td>\n",
       "      <td>0</td>\n",
       "      <td>0.348664</td>\n",
       "      <td>335.916117</td>\n",
       "      <td>0.097224</td>\n",
       "    </tr>\n",
       "    <tr>\n",
       "      <th>16</th>\n",
       "      <td>3</td>\n",
       "      <td>1</td>\n",
       "      <td>0.334375</td>\n",
       "      <td>66361.187500</td>\n",
       "      <td>0.103714</td>\n",
       "    </tr>\n",
       "    <tr>\n",
       "      <th>17</th>\n",
       "      <td>3</td>\n",
       "      <td>2</td>\n",
       "      <td>0.330000</td>\n",
       "      <td>114237.000000</td>\n",
       "      <td>0.121210</td>\n",
       "    </tr>\n",
       "    <tr>\n",
       "      <th>18</th>\n",
       "      <td>3</td>\n",
       "      <td>3</td>\n",
       "      <td>0.360000</td>\n",
       "      <td>163194.500000</td>\n",
       "      <td>0.112650</td>\n",
       "    </tr>\n",
       "    <tr>\n",
       "      <th>19</th>\n",
       "      <td>4</td>\n",
       "      <td>0</td>\n",
       "      <td>0.447232</td>\n",
       "      <td>292.181495</td>\n",
       "      <td>0.101723</td>\n",
       "    </tr>\n",
       "    <tr>\n",
       "      <th>20</th>\n",
       "      <td>4</td>\n",
       "      <td>1</td>\n",
       "      <td>0.422222</td>\n",
       "      <td>64202.111111</td>\n",
       "      <td>0.106514</td>\n",
       "    </tr>\n",
       "    <tr>\n",
       "      <th>21</th>\n",
       "      <td>4</td>\n",
       "      <td>2</td>\n",
       "      <td>0.410000</td>\n",
       "      <td>101212.000000</td>\n",
       "      <td>0.094020</td>\n",
       "    </tr>\n",
       "  </tbody>\n",
       "</table>\n",
       "</div>"
      ],
      "text/plain": [
       "    DebtRatioBin  AmtDelinquentBin  DebtToIncomeRatio  AmountDelinquent  \\\n",
       "0              0                 0           0.072615       1279.651598   \n",
       "1              0                 1           0.064068      71071.271186   \n",
       "2              0                 2           0.069524     119413.047619   \n",
       "3              0                 3           0.066667     174903.833333   \n",
       "4              0                 4           0.056667     224442.666667   \n",
       "5              1                 0           0.157565        691.150040   \n",
       "6              1                 1           0.154079      66967.986842   \n",
       "7              1                 2           0.153714     121845.914286   \n",
       "8              1                 3           0.146667     170747.666667   \n",
       "9              1                 4           0.160000     219526.500000   \n",
       "10             2                 0           0.251402        473.986079   \n",
       "11             2                 1           0.247843      72651.235294   \n",
       "12             2                 2           0.239231     114764.384615   \n",
       "13             2                 3           0.260000     168669.000000   \n",
       "14             2                 4           0.230000     230291.000000   \n",
       "15             3                 0           0.348664        335.916117   \n",
       "16             3                 1           0.334375      66361.187500   \n",
       "17             3                 2           0.330000     114237.000000   \n",
       "18             3                 3           0.360000     163194.500000   \n",
       "19             4                 0           0.447232        292.181495   \n",
       "20             4                 1           0.422222      64202.111111   \n",
       "21             4                 2           0.410000     101212.000000   \n",
       "\n",
       "    EstimatedReturn  \n",
       "0          0.093647  \n",
       "1          0.106789  \n",
       "2          0.106288  \n",
       "3          0.116438  \n",
       "4          0.100700  \n",
       "5          0.092677  \n",
       "6          0.103236  \n",
       "7          0.090222  \n",
       "8          0.102678  \n",
       "9          0.081300  \n",
       "10         0.093645  \n",
       "11         0.102403  \n",
       "12         0.094902  \n",
       "13         0.098110  \n",
       "14         0.113700  \n",
       "15         0.097224  \n",
       "16         0.103714  \n",
       "17         0.121210  \n",
       "18         0.112650  \n",
       "19         0.101723  \n",
       "20         0.106514  \n",
       "21         0.094020  "
      ]
     },
     "execution_count": 55,
     "metadata": {},
     "output_type": "execute_result"
    }
   ],
   "source": [
    "loan_data_ret_mean"
   ]
  },
  {
   "cell_type": "code",
   "execution_count": 56,
   "metadata": {
    "slideshow": {
     "slide_type": "skip"
    }
   },
   "outputs": [],
   "source": [
    "def bivar_binned_barplot(df, x, hue, y, bins, chart_title, xlabel, ylabel, legend_title):\n",
    "    \n",
    "    plt.figure(figsize=(10,5))\n",
    "    \n",
    "    x_labels = []\n",
    "    legend_labels = []\n",
    "    \n",
    "    hue_order =  np.arange(df[hue].min(), df[hue].max() + 1)\n",
    "    \n",
    "    g = sns.barplot(data=df, x=x, hue=hue, y=y, ci=None);\n",
    "    g.legend(loc=1)\n",
    "    \n",
    "    # Create labels for Debt to Income Ratio ranges along x-axis\n",
    "    for i in range(df[x].min(), df[x].max() + 1):\n",
    "        \n",
    "        if i == df[x].min():\n",
    "            label_min = bins[0][i]\n",
    "        else:\n",
    "            label_min = bins[0][i] + 0.01\n",
    "            \n",
    "        label_max = bins[0][i + 1]\n",
    "        label = str('{0:.2f}'.format(label_min)) + ' - ' + str('{0:.2f}'.format(label_max))\n",
    "        x_labels.append(label)\n",
    "    \n",
    "    # Modify labels so they show commas and whole numbers\n",
    "    \n",
    "    y_labels = [('{:,.0f}'.format(t * 100) + '%') for t in g.get_yticks()]  \n",
    "    \n",
    "    # Create labels for Amount Delinquent ranges for legend (Hue variable)\n",
    "    for i in range(df[hue].min(), df[hue].max() + 1):\n",
    "        if i == df[hue].min():\n",
    "            label_min = bins[1][i]\n",
    "        else: \n",
    "            label_min = bins[1][i] + 1   \n",
    "        label_max = bins[1][i + 1]\n",
    "        label = str('{:,.0f}'.format(label_min)) + ' - ' + str('{:,.0f}'.format(label_max))\n",
    "        legend_labels.append(label)\n",
    "    \n",
    "    g.set(title=chart_title)\n",
    "    g.set(xticklabels=x_labels, yticklabels=y_labels)\n",
    "    g.set(xlabel=xlabel, ylabel=ylabel)\n",
    "    plt.legend(legend_labels, loc=4, title=legend_title, framealpha=1);"
   ]
  },
  {
   "cell_type": "markdown",
   "metadata": {
    "slideshow": {
     "slide_type": "subslide"
    }
   },
   "source": [
    "The clustered bar chart above shows that individuals with the lowest delinquent loan amounts (blue bars) typically had lower returns within a debt to income ratio group. Generally, higher returns are observed for loans to individuals with larger delinquent loan amounts. Lower rates of return are observed for loans to borrowers in the debt to income ratio range of 0.11-0.20."
   ]
  },
  {
   "cell_type": "code",
   "execution_count": 57,
   "metadata": {
    "slideshow": {
     "slide_type": "subslide"
    }
   },
   "outputs": [
    {
     "data": {
      "image/png": "[encoded data removed]",
      "text/plain": [
       "<Figure size 720x360 with 1 Axes>"
      ]
     },
     "metadata": {
      "needs_background": "light"
     },
     "output_type": "display_data"
    }
   ],
   "source": [
    "bivar_binned_barplot(loan_data_ret_mean, 'DebtRatioBin', 'AmtDelinquentBin', 'EstimatedReturn', bin_list_returns, \n",
    "                     'Estimated Return Rate', 'Debt to Income Ratio', \n",
    "                     '', 'Delinquent Loan Amount \\nIndividual Borrowers ($)')"
   ]
  },
  {
   "cell_type": "code",
   "execution_count": null,
   "metadata": {
    "slideshow": {
     "slide_type": "skip"
    }
   },
   "outputs": [],
   "source": []
  }
 ],
 "metadata": {
  "celltoolbar": "Slideshow",
  "kernelspec": {
   "display_name": "Python 3",
   "language": "python",
   "name": "python3"
  },
  "language_info": {
   "codemirror_mode": {
    "name": "ipython",
    "version": 3
   },
   "file_extension": ".py",
   "mimetype": "text/x-python",
   "name": "python",
   "nbconvert_exporter": "python",
   "pygments_lexer": "ipython3",
   "version": "3.7.5"
  }
 },
 "nbformat": 4,
 "nbformat_minor": 2
}
