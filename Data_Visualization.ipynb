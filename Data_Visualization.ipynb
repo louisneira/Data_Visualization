{
 "cells": [
  {
   "cell_type": "code",
   "execution_count": 2,
   "metadata": {},
   "outputs": [],
   "source": [
    "import numpy as np\n",
    "import pandas as pd\n",
    "import matplotlib.pyplot as plt\n",
    "import seaborn as sns\n",
    "\n",
    "%matplotlib inline"
   ]
  },
  {
   "cell_type": "code",
   "execution_count": 3,
   "metadata": {},
   "outputs": [],
   "source": [
    "loan_data_raw = pd.read_csv('prosperLoanData.csv')"
   ]
  },
  {
   "cell_type": "code",
   "execution_count": 4,
   "metadata": {},
   "outputs": [
    {
     "data": {
      "text/html": [
       "<div>\n",
       "<style scoped>\n",
       "    .dataframe tbody tr th:only-of-type {\n",
       "        vertical-align: middle;\n",
       "    }\n",
       "\n",
       "    .dataframe tbody tr th {\n",
       "        vertical-align: top;\n",
       "    }\n",
       "\n",
       "    .dataframe thead th {\n",
       "        text-align: right;\n",
       "    }\n",
       "</style>\n",
       "<table border=\"1\" class=\"dataframe\">\n",
       "  <thead>\n",
       "    <tr style=\"text-align: right;\">\n",
       "      <th></th>\n",
       "      <th>ListingKey</th>\n",
       "      <th>ListingNumber</th>\n",
       "      <th>ListingCreationDate</th>\n",
       "      <th>CreditGrade</th>\n",
       "      <th>Term</th>\n",
       "      <th>LoanStatus</th>\n",
       "      <th>ClosedDate</th>\n",
       "      <th>BorrowerAPR</th>\n",
       "      <th>BorrowerRate</th>\n",
       "      <th>LenderYield</th>\n",
       "      <th>...</th>\n",
       "      <th>LP_ServiceFees</th>\n",
       "      <th>LP_CollectionFees</th>\n",
       "      <th>LP_GrossPrincipalLoss</th>\n",
       "      <th>LP_NetPrincipalLoss</th>\n",
       "      <th>LP_NonPrincipalRecoverypayments</th>\n",
       "      <th>PercentFunded</th>\n",
       "      <th>Recommendations</th>\n",
       "      <th>InvestmentFromFriendsCount</th>\n",
       "      <th>InvestmentFromFriendsAmount</th>\n",
       "      <th>Investors</th>\n",
       "    </tr>\n",
       "  </thead>\n",
       "  <tbody>\n",
       "    <tr>\n",
       "      <th>0</th>\n",
       "      <td>1021339766868145413AB3B</td>\n",
       "      <td>193129</td>\n",
       "      <td>2007-08-26 19:09:29.263000000</td>\n",
       "      <td>C</td>\n",
       "      <td>36</td>\n",
       "      <td>Completed</td>\n",
       "      <td>2009-08-14 00:00:00</td>\n",
       "      <td>0.16516</td>\n",
       "      <td>0.1580</td>\n",
       "      <td>0.1380</td>\n",
       "      <td>...</td>\n",
       "      <td>-133.18</td>\n",
       "      <td>0.0</td>\n",
       "      <td>0.0</td>\n",
       "      <td>0.0</td>\n",
       "      <td>0.0</td>\n",
       "      <td>1.0</td>\n",
       "      <td>0</td>\n",
       "      <td>0</td>\n",
       "      <td>0.0</td>\n",
       "      <td>258</td>\n",
       "    </tr>\n",
       "    <tr>\n",
       "      <th>1</th>\n",
       "      <td>10273602499503308B223C1</td>\n",
       "      <td>1209647</td>\n",
       "      <td>2014-02-27 08:28:07.900000000</td>\n",
       "      <td>NaN</td>\n",
       "      <td>36</td>\n",
       "      <td>Current</td>\n",
       "      <td>NaN</td>\n",
       "      <td>0.12016</td>\n",
       "      <td>0.0920</td>\n",
       "      <td>0.0820</td>\n",
       "      <td>...</td>\n",
       "      <td>0.00</td>\n",
       "      <td>0.0</td>\n",
       "      <td>0.0</td>\n",
       "      <td>0.0</td>\n",
       "      <td>0.0</td>\n",
       "      <td>1.0</td>\n",
       "      <td>0</td>\n",
       "      <td>0</td>\n",
       "      <td>0.0</td>\n",
       "      <td>1</td>\n",
       "    </tr>\n",
       "    <tr>\n",
       "      <th>2</th>\n",
       "      <td>0EE9337825851032864889A</td>\n",
       "      <td>81716</td>\n",
       "      <td>2007-01-05 15:00:47.090000000</td>\n",
       "      <td>HR</td>\n",
       "      <td>36</td>\n",
       "      <td>Completed</td>\n",
       "      <td>2009-12-17 00:00:00</td>\n",
       "      <td>0.28269</td>\n",
       "      <td>0.2750</td>\n",
       "      <td>0.2400</td>\n",
       "      <td>...</td>\n",
       "      <td>-24.20</td>\n",
       "      <td>0.0</td>\n",
       "      <td>0.0</td>\n",
       "      <td>0.0</td>\n",
       "      <td>0.0</td>\n",
       "      <td>1.0</td>\n",
       "      <td>0</td>\n",
       "      <td>0</td>\n",
       "      <td>0.0</td>\n",
       "      <td>41</td>\n",
       "    </tr>\n",
       "    <tr>\n",
       "      <th>3</th>\n",
       "      <td>0EF5356002482715299901A</td>\n",
       "      <td>658116</td>\n",
       "      <td>2012-10-22 11:02:35.010000000</td>\n",
       "      <td>NaN</td>\n",
       "      <td>36</td>\n",
       "      <td>Current</td>\n",
       "      <td>NaN</td>\n",
       "      <td>0.12528</td>\n",
       "      <td>0.0974</td>\n",
       "      <td>0.0874</td>\n",
       "      <td>...</td>\n",
       "      <td>-108.01</td>\n",
       "      <td>0.0</td>\n",
       "      <td>0.0</td>\n",
       "      <td>0.0</td>\n",
       "      <td>0.0</td>\n",
       "      <td>1.0</td>\n",
       "      <td>0</td>\n",
       "      <td>0</td>\n",
       "      <td>0.0</td>\n",
       "      <td>158</td>\n",
       "    </tr>\n",
       "    <tr>\n",
       "      <th>4</th>\n",
       "      <td>0F023589499656230C5E3E2</td>\n",
       "      <td>909464</td>\n",
       "      <td>2013-09-14 18:38:39.097000000</td>\n",
       "      <td>NaN</td>\n",
       "      <td>36</td>\n",
       "      <td>Current</td>\n",
       "      <td>NaN</td>\n",
       "      <td>0.24614</td>\n",
       "      <td>0.2085</td>\n",
       "      <td>0.1985</td>\n",
       "      <td>...</td>\n",
       "      <td>-60.27</td>\n",
       "      <td>0.0</td>\n",
       "      <td>0.0</td>\n",
       "      <td>0.0</td>\n",
       "      <td>0.0</td>\n",
       "      <td>1.0</td>\n",
       "      <td>0</td>\n",
       "      <td>0</td>\n",
       "      <td>0.0</td>\n",
       "      <td>20</td>\n",
       "    </tr>\n",
       "  </tbody>\n",
       "</table>\n",
       "<p>5 rows × 81 columns</p>\n",
       "</div>"
      ],
      "text/plain": [
       "                ListingKey  ListingNumber            ListingCreationDate  \\\n",
       "0  1021339766868145413AB3B         193129  2007-08-26 19:09:29.263000000   \n",
       "1  10273602499503308B223C1        1209647  2014-02-27 08:28:07.900000000   \n",
       "2  0EE9337825851032864889A          81716  2007-01-05 15:00:47.090000000   \n",
       "3  0EF5356002482715299901A         658116  2012-10-22 11:02:35.010000000   \n",
       "4  0F023589499656230C5E3E2         909464  2013-09-14 18:38:39.097000000   \n",
       "\n",
       "  CreditGrade  Term LoanStatus           ClosedDate  BorrowerAPR  \\\n",
       "0           C    36  Completed  2009-08-14 00:00:00      0.16516   \n",
       "1         NaN    36    Current                  NaN      0.12016   \n",
       "2          HR    36  Completed  2009-12-17 00:00:00      0.28269   \n",
       "3         NaN    36    Current                  NaN      0.12528   \n",
       "4         NaN    36    Current                  NaN      0.24614   \n",
       "\n",
       "   BorrowerRate  LenderYield  ...  LP_ServiceFees  LP_CollectionFees  \\\n",
       "0        0.1580       0.1380  ...         -133.18                0.0   \n",
       "1        0.0920       0.0820  ...            0.00                0.0   \n",
       "2        0.2750       0.2400  ...          -24.20                0.0   \n",
       "3        0.0974       0.0874  ...         -108.01                0.0   \n",
       "4        0.2085       0.1985  ...          -60.27                0.0   \n",
       "\n",
       "   LP_GrossPrincipalLoss  LP_NetPrincipalLoss LP_NonPrincipalRecoverypayments  \\\n",
       "0                    0.0                  0.0                             0.0   \n",
       "1                    0.0                  0.0                             0.0   \n",
       "2                    0.0                  0.0                             0.0   \n",
       "3                    0.0                  0.0                             0.0   \n",
       "4                    0.0                  0.0                             0.0   \n",
       "\n",
       "   PercentFunded  Recommendations InvestmentFromFriendsCount  \\\n",
       "0            1.0                0                          0   \n",
       "1            1.0                0                          0   \n",
       "2            1.0                0                          0   \n",
       "3            1.0                0                          0   \n",
       "4            1.0                0                          0   \n",
       "\n",
       "  InvestmentFromFriendsAmount Investors  \n",
       "0                         0.0       258  \n",
       "1                         0.0         1  \n",
       "2                         0.0        41  \n",
       "3                         0.0       158  \n",
       "4                         0.0        20  \n",
       "\n",
       "[5 rows x 81 columns]"
      ]
     },
     "execution_count": 4,
     "metadata": {},
     "output_type": "execute_result"
    }
   ],
   "source": [
    "loan_data_raw.head()"
   ]
  },
  {
   "cell_type": "code",
   "execution_count": 5,
   "metadata": {
    "scrolled": true
   },
   "outputs": [
    {
     "name": "stdout",
     "output_type": "stream",
     "text": [
      "<class 'pandas.core.frame.DataFrame'>\n",
      "RangeIndex: 113937 entries, 0 to 113936\n",
      "Data columns (total 81 columns):\n",
      "ListingKey                             113937 non-null object\n",
      "ListingNumber                          113937 non-null int64\n",
      "ListingCreationDate                    113937 non-null object\n",
      "CreditGrade                            28953 non-null object\n",
      "Term                                   113937 non-null int64\n",
      "LoanStatus                             113937 non-null object\n",
      "ClosedDate                             55089 non-null object\n",
      "BorrowerAPR                            113912 non-null float64\n",
      "BorrowerRate                           113937 non-null float64\n",
      "LenderYield                            113937 non-null float64\n",
      "EstimatedEffectiveYield                84853 non-null float64\n",
      "EstimatedLoss                          84853 non-null float64\n",
      "EstimatedReturn                        84853 non-null float64\n",
      "ProsperRating (numeric)                84853 non-null float64\n",
      "ProsperRating (Alpha)                  84853 non-null object\n",
      "ProsperScore                           84853 non-null float64\n",
      "ListingCategory (numeric)              113937 non-null int64\n",
      "BorrowerState                          108422 non-null object\n",
      "Occupation                             110349 non-null object\n",
      "EmploymentStatus                       111682 non-null object\n",
      "EmploymentStatusDuration               106312 non-null float64\n",
      "IsBorrowerHomeowner                    113937 non-null bool\n",
      "CurrentlyInGroup                       113937 non-null bool\n",
      "GroupKey                               13341 non-null object\n",
      "DateCreditPulled                       113937 non-null object\n",
      "CreditScoreRangeLower                  113346 non-null float64\n",
      "CreditScoreRangeUpper                  113346 non-null float64\n",
      "FirstRecordedCreditLine                113240 non-null object\n",
      "CurrentCreditLines                     106333 non-null float64\n",
      "OpenCreditLines                        106333 non-null float64\n",
      "TotalCreditLinespast7years             113240 non-null float64\n",
      "OpenRevolvingAccounts                  113937 non-null int64\n",
      "OpenRevolvingMonthlyPayment            113937 non-null float64\n",
      "InquiriesLast6Months                   113240 non-null float64\n",
      "TotalInquiries                         112778 non-null float64\n",
      "CurrentDelinquencies                   113240 non-null float64\n",
      "AmountDelinquent                       106315 non-null float64\n",
      "DelinquenciesLast7Years                112947 non-null float64\n",
      "PublicRecordsLast10Years               113240 non-null float64\n",
      "PublicRecordsLast12Months              106333 non-null float64\n",
      "RevolvingCreditBalance                 106333 non-null float64\n",
      "BankcardUtilization                    106333 non-null float64\n",
      "AvailableBankcardCredit                106393 non-null float64\n",
      "TotalTrades                            106393 non-null float64\n",
      "TradesNeverDelinquent (percentage)     106393 non-null float64\n",
      "TradesOpenedLast6Months                106393 non-null float64\n",
      "DebtToIncomeRatio                      105383 non-null float64\n",
      "IncomeRange                            113937 non-null object\n",
      "IncomeVerifiable                       113937 non-null bool\n",
      "StatedMonthlyIncome                    113937 non-null float64\n",
      "LoanKey                                113937 non-null object\n",
      "TotalProsperLoans                      22085 non-null float64\n",
      "TotalProsperPaymentsBilled             22085 non-null float64\n",
      "OnTimeProsperPayments                  22085 non-null float64\n",
      "ProsperPaymentsLessThanOneMonthLate    22085 non-null float64\n",
      "ProsperPaymentsOneMonthPlusLate        22085 non-null float64\n",
      "ProsperPrincipalBorrowed               22085 non-null float64\n",
      "ProsperPrincipalOutstanding            22085 non-null float64\n",
      "ScorexChangeAtTimeOfListing            18928 non-null float64\n",
      "LoanCurrentDaysDelinquent              113937 non-null int64\n",
      "LoanFirstDefaultedCycleNumber          16952 non-null float64\n",
      "LoanMonthsSinceOrigination             113937 non-null int64\n",
      "LoanNumber                             113937 non-null int64\n",
      "LoanOriginalAmount                     113937 non-null int64\n",
      "LoanOriginationDate                    113937 non-null object\n",
      "LoanOriginationQuarter                 113937 non-null object\n",
      "MemberKey                              113937 non-null object\n",
      "MonthlyLoanPayment                     113937 non-null float64\n",
      "LP_CustomerPayments                    113937 non-null float64\n",
      "LP_CustomerPrincipalPayments           113937 non-null float64\n",
      "LP_InterestandFees                     113937 non-null float64\n",
      "LP_ServiceFees                         113937 non-null float64\n",
      "LP_CollectionFees                      113937 non-null float64\n",
      "LP_GrossPrincipalLoss                  113937 non-null float64\n",
      "LP_NetPrincipalLoss                    113937 non-null float64\n",
      "LP_NonPrincipalRecoverypayments        113937 non-null float64\n",
      "PercentFunded                          113937 non-null float64\n",
      "Recommendations                        113937 non-null int64\n",
      "InvestmentFromFriendsCount             113937 non-null int64\n",
      "InvestmentFromFriendsAmount            113937 non-null float64\n",
      "Investors                              113937 non-null int64\n",
      "dtypes: bool(3), float64(50), int64(11), object(17)\n",
      "memory usage: 68.1+ MB\n"
     ]
    }
   ],
   "source": [
    "loan_data_raw.info()"
   ]
  },
  {
   "cell_type": "code",
   "execution_count": 6,
   "metadata": {},
   "outputs": [
    {
     "data": {
      "text/plain": [
       "count    84853.000000\n",
       "mean         0.080306\n",
       "std          0.046764\n",
       "min          0.004900\n",
       "25%          0.042400\n",
       "50%          0.072400\n",
       "75%          0.112000\n",
       "max          0.366000\n",
       "Name: EstimatedLoss, dtype: float64"
      ]
     },
     "execution_count": 6,
     "metadata": {},
     "output_type": "execute_result"
    }
   ],
   "source": [
    "loan_data_raw['EstimatedLoss'].describe()"
   ]
  },
  {
   "cell_type": "code",
   "execution_count": 7,
   "metadata": {},
   "outputs": [
    {
     "data": {
      "text/plain": [
       "0.0     21700\n",
       "1.0       185\n",
       "2.0        69\n",
       "3.0        49\n",
       "4.0        20\n",
       "7.0        16\n",
       "5.0        16\n",
       "6.0         9\n",
       "8.0         5\n",
       "11.0        3\n",
       "21.0        3\n",
       "19.0        3\n",
       "9.0         3\n",
       "12.0        1\n",
       "10.0        1\n",
       "18.0        1\n",
       "16.0        1\n",
       "Name: ProsperPaymentsOneMonthPlusLate, dtype: int64"
      ]
     },
     "execution_count": 7,
     "metadata": {},
     "output_type": "execute_result"
    }
   ],
   "source": [
    "loan_data_raw['ProsperPaymentsOneMonthPlusLate'].value_counts()"
   ]
  },
  {
   "cell_type": "code",
   "execution_count": 8,
   "metadata": {},
   "outputs": [
    {
     "data": {
      "text/plain": [
       "Other                                28617\n",
       "Professional                         13628\n",
       "Computer Programmer                   4478\n",
       "Executive                             4311\n",
       "Teacher                               3759\n",
       "Administrative Assistant              3688\n",
       "Analyst                               3602\n",
       "Sales - Commission                    3446\n",
       "Accountant/CPA                        3233\n",
       "Clerical                              3164\n",
       "Sales - Retail                        2797\n",
       "Skilled Labor                         2746\n",
       "Retail Management                     2602\n",
       "Nurse (RN)                            2489\n",
       "Construction                          1790\n",
       "Truck Driver                          1675\n",
       "Laborer                               1595\n",
       "Police Officer/Correction Officer     1578\n",
       "Civil Service                         1457\n",
       "Engineer - Mechanical                 1406\n",
       "Name: Occupation, dtype: int64"
      ]
     },
     "execution_count": 8,
     "metadata": {},
     "output_type": "execute_result"
    }
   ],
   "source": [
    "loan_data_raw['Occupation'].value_counts()[0:20]"
   ]
  },
  {
   "cell_type": "markdown",
   "metadata": {},
   "source": [
    "As there are 81 columns in this data set, a subset of the data will be copied for initial analysis. Assuming that 'EstimatedLoss' and 'EstimatedReturn' are dependent variables, the subset initially contains 17 independent variables and 2 dependent variables.\n",
    "\n",
    "Independent Variables:\n",
    "\n",
    "- AmountDelinquent\n",
    "- BorrowerAPR\n",
    "- BorrowerRate\n",
    "- CreditScoreRangeUpper\n",
    "- CreditScoreRangeLower\n",
    "- DebtToIncomeRatio\n",
    "- EmploymentStatus\n",
    "- EmploymentStatusDuration\n",
    "- IsBorrowerHomeowner\n",
    "- LoanOriginalAmount\n",
    "- Occupation\n",
    "- PercentFunded\n",
    "- ProserPaymentsLessThanOneMonthLate\n",
    "- ProsperPaymentsOneMonthPlusLate\n",
    "- ProsperPrincipalBorrowed\n",
    "- ProsperPrincipalOutstanding\n",
    "- ProsperRating (numeric)\n",
    "- StatedMonthlyIncome\n",
    "\n",
    "Dependent Variables:\n",
    "\n",
    "- EstimatedLoss\n",
    "- EstimatedReturn"
   ]
  },
  {
   "cell_type": "code",
   "execution_count": 9,
   "metadata": {},
   "outputs": [],
   "source": [
    "loan_data = loan_data_raw[['AmountDelinquent', 'BorrowerAPR', 'BorrowerRate', 'CreditScoreRangeUpper', 'CreditScoreRangeLower',\n",
    "                           'DebtToIncomeRatio', 'EmploymentStatus', 'EmploymentStatusDuration', \n",
    "                           'IsBorrowerHomeowner', 'LoanOriginalAmount', 'Occupation', 'PercentFunded', \n",
    "                           'ProsperPaymentsLessThanOneMonthLate', 'ProsperPaymentsOneMonthPlusLate', \n",
    "                           'ProsperPrincipalBorrowed', 'ProsperPrincipalOutstanding', \n",
    "                           'ProsperRating (numeric)', 'StatedMonthlyIncome', 'EstimatedLoss', 'EstimatedReturn']].copy()"
   ]
  },
  {
   "cell_type": "markdown",
   "metadata": {},
   "source": [
    "Based on an initial view of the columns, it appears that the columns 'CreditScoreRangeUpper' and 'CreditScoreRangeLower' contain very similar data, likely provide similar information, and likely have a similar impact on other variables of interest. As a result, it may be worthwhile to create another variable that captures information from both of these variables and use that for analysis instead. This is done by creating another variable 'CreditScoreRangeAvg' that is the average of these two variables. In this way, we capture information from both columns while only needing to use one column."
   ]
  },
  {
   "cell_type": "code",
   "execution_count": 10,
   "metadata": {},
   "outputs": [],
   "source": [
    "loan_data['CreditScoreRangeAvg'] = 0\n",
    "loan_data['CreditScoreRangeAvg'] = (loan_data['CreditScoreRangeUpper'] + loan_data['CreditScoreRangeLower']) / 2"
   ]
  },
  {
   "cell_type": "code",
   "execution_count": 11,
   "metadata": {},
   "outputs": [
    {
     "data": {
      "text/html": [
       "<div>\n",
       "<style scoped>\n",
       "    .dataframe tbody tr th:only-of-type {\n",
       "        vertical-align: middle;\n",
       "    }\n",
       "\n",
       "    .dataframe tbody tr th {\n",
       "        vertical-align: top;\n",
       "    }\n",
       "\n",
       "    .dataframe thead th {\n",
       "        text-align: right;\n",
       "    }\n",
       "</style>\n",
       "<table border=\"1\" class=\"dataframe\">\n",
       "  <thead>\n",
       "    <tr style=\"text-align: right;\">\n",
       "      <th></th>\n",
       "      <th>CreditScoreRangeAvg</th>\n",
       "      <th>CreditScoreRangeUpper</th>\n",
       "      <th>CreditScoreRangeLower</th>\n",
       "    </tr>\n",
       "  </thead>\n",
       "  <tbody>\n",
       "    <tr>\n",
       "      <th>count</th>\n",
       "      <td>113346.000000</td>\n",
       "      <td>113346.000000</td>\n",
       "      <td>113346.000000</td>\n",
       "    </tr>\n",
       "    <tr>\n",
       "      <th>mean</th>\n",
       "      <td>695.067731</td>\n",
       "      <td>704.567731</td>\n",
       "      <td>685.567731</td>\n",
       "    </tr>\n",
       "    <tr>\n",
       "      <th>std</th>\n",
       "      <td>66.458275</td>\n",
       "      <td>66.458275</td>\n",
       "      <td>66.458275</td>\n",
       "    </tr>\n",
       "    <tr>\n",
       "      <th>min</th>\n",
       "      <td>9.500000</td>\n",
       "      <td>19.000000</td>\n",
       "      <td>0.000000</td>\n",
       "    </tr>\n",
       "    <tr>\n",
       "      <th>25%</th>\n",
       "      <td>669.500000</td>\n",
       "      <td>679.000000</td>\n",
       "      <td>660.000000</td>\n",
       "    </tr>\n",
       "    <tr>\n",
       "      <th>50%</th>\n",
       "      <td>689.500000</td>\n",
       "      <td>699.000000</td>\n",
       "      <td>680.000000</td>\n",
       "    </tr>\n",
       "    <tr>\n",
       "      <th>75%</th>\n",
       "      <td>729.500000</td>\n",
       "      <td>739.000000</td>\n",
       "      <td>720.000000</td>\n",
       "    </tr>\n",
       "    <tr>\n",
       "      <th>max</th>\n",
       "      <td>889.500000</td>\n",
       "      <td>899.000000</td>\n",
       "      <td>880.000000</td>\n",
       "    </tr>\n",
       "  </tbody>\n",
       "</table>\n",
       "</div>"
      ],
      "text/plain": [
       "       CreditScoreRangeAvg  CreditScoreRangeUpper  CreditScoreRangeLower\n",
       "count        113346.000000          113346.000000          113346.000000\n",
       "mean            695.067731             704.567731             685.567731\n",
       "std              66.458275              66.458275              66.458275\n",
       "min               9.500000              19.000000               0.000000\n",
       "25%             669.500000             679.000000             660.000000\n",
       "50%             689.500000             699.000000             680.000000\n",
       "75%             729.500000             739.000000             720.000000\n",
       "max             889.500000             899.000000             880.000000"
      ]
     },
     "execution_count": 11,
     "metadata": {},
     "output_type": "execute_result"
    }
   ],
   "source": [
    "loan_data[['CreditScoreRangeAvg', 'CreditScoreRangeUpper', 'CreditScoreRangeLower']].describe()"
   ]
  },
  {
   "cell_type": "code",
   "execution_count": 12,
   "metadata": {},
   "outputs": [],
   "source": [
    "loan_data.drop(columns=['CreditScoreRangeUpper', 'CreditScoreRangeLower'], inplace=True)"
   ]
  },
  {
   "cell_type": "code",
   "execution_count": 13,
   "metadata": {},
   "outputs": [
    {
     "name": "stdout",
     "output_type": "stream",
     "text": [
      "<class 'pandas.core.frame.DataFrame'>\n",
      "RangeIndex: 113937 entries, 0 to 113936\n",
      "Data columns (total 19 columns):\n",
      "AmountDelinquent                       106315 non-null float64\n",
      "BorrowerAPR                            113912 non-null float64\n",
      "BorrowerRate                           113937 non-null float64\n",
      "DebtToIncomeRatio                      105383 non-null float64\n",
      "EmploymentStatus                       111682 non-null object\n",
      "EmploymentStatusDuration               106312 non-null float64\n",
      "IsBorrowerHomeowner                    113937 non-null bool\n",
      "LoanOriginalAmount                     113937 non-null int64\n",
      "Occupation                             110349 non-null object\n",
      "PercentFunded                          113937 non-null float64\n",
      "ProsperPaymentsLessThanOneMonthLate    22085 non-null float64\n",
      "ProsperPaymentsOneMonthPlusLate        22085 non-null float64\n",
      "ProsperPrincipalBorrowed               22085 non-null float64\n",
      "ProsperPrincipalOutstanding            22085 non-null float64\n",
      "ProsperRating (numeric)                84853 non-null float64\n",
      "StatedMonthlyIncome                    113937 non-null float64\n",
      "EstimatedLoss                          84853 non-null float64\n",
      "EstimatedReturn                        84853 non-null float64\n",
      "CreditScoreRangeAvg                    113346 non-null float64\n",
      "dtypes: bool(1), float64(15), int64(1), object(2)\n",
      "memory usage: 15.8+ MB\n"
     ]
    }
   ],
   "source": [
    "loan_data.info()"
   ]
  },
  {
   "cell_type": "markdown",
   "metadata": {},
   "source": [
    "# 2. Data Exploration with Visuals"
   ]
  },
  {
   "cell_type": "markdown",
   "metadata": {},
   "source": [
    "## A. Plot Matrix\n",
    "\n",
    "To start this analysis, it may be helpful to have an overview of several different bivariate plots. The goal is to uncover any interesting bivariate relationships in data, view general distribution patterns, and observe any variables that contain similar information (as shown by a linear relationship) which is an indication of data that can and should be dropped. "
   ]
  },
  {
   "cell_type": "code",
   "execution_count": 14,
   "metadata": {},
   "outputs": [],
   "source": [
    "data_vars = ['AmountDelinquent', 'BorrowerAPR', 'BorrowerRate', 'CreditScoreRangeAvg',\n",
    "                           'DebtToIncomeRatio', 'EstimatedLoss', 'EstimatedReturn']"
   ]
  },
  {
   "cell_type": "code",
   "execution_count": 15,
   "metadata": {},
   "outputs": [
    {
     "name": "stderr",
     "output_type": "stream",
     "text": [
      "C:\\Users\\Lou\\Anaconda3\\lib\\site-packages\\numpy\\lib\\histograms.py:839: RuntimeWarning: invalid value encountered in greater_equal\n",
      "  keep = (tmp_a >= first_edge)\n",
      "C:\\Users\\Lou\\Anaconda3\\lib\\site-packages\\numpy\\lib\\histograms.py:840: RuntimeWarning: invalid value encountered in less_equal\n",
      "  keep &= (tmp_a <= last_edge)\n"
     ]
    },
    {
     "data": {
      "image/png": "[encoded data removed]",
      "text/plain": [
       "<Figure size 1260x1260 with 56 Axes>"
      ]
     },
     "metadata": {
      "needs_background": "light"
     },
     "output_type": "display_data"
    }
   ],
   "source": [
    "g = sns.PairGrid(data = loan_data, vars = data_vars)\n",
    "g.map_diag(plt.hist)\n",
    "g.map_offdiag(plt.scatter);"
   ]
  },
  {
   "cell_type": "markdown",
   "metadata": {},
   "source": [
    "Based on the plot matrix above, it appears that an abundance of data has made the plots difficult to read due to overlapping. As a result, data will be examined in further detail. However, one obvious trend is that the columns 'BorrowerAPR' and 'BorrowerRate' have a nearly linear slope, meaning that they contain very similar data. Because of this, one of the columns should be dropped. as APR typically encompasses all borrowing costs that are not necessarily reflected in a borrower's rate, it appears to be a more accurate measure of borrowing costs; therefore the 'BorrowerAPR' column will be kept. The 'BorrowerRate' column will be dropped."
   ]
  },
  {
   "cell_type": "code",
   "execution_count": 16,
   "metadata": {},
   "outputs": [],
   "source": [
    "loan_data.drop(columns='BorrowerRate', inplace=True)"
   ]
  },
  {
   "cell_type": "markdown",
   "metadata": {},
   "source": [
    "## B. Debt to Income Ratio"
   ]
  },
  {
   "cell_type": "code",
   "execution_count": 17,
   "metadata": {},
   "outputs": [
    {
     "data": {
      "text/plain": [
       "10.01    272\n",
       "1.02      12\n",
       "1.06      11\n",
       "1.01      11\n",
       "1.05      11\n",
       "        ... \n",
       "5.76       1\n",
       "3.86       1\n",
       "3.45       1\n",
       "2.31       1\n",
       "2.59       1\n",
       "Name: DebtToIncomeRatio, Length: 258, dtype: int64"
      ]
     },
     "execution_count": 17,
     "metadata": {},
     "output_type": "execute_result"
    }
   ],
   "source": [
    "loan_data[loan_data['DebtToIncomeRatio'] > 1]['DebtToIncomeRatio'].value_counts()"
   ]
  },
  {
   "cell_type": "code",
   "execution_count": 18,
   "metadata": {},
   "outputs": [
    {
     "name": "stdout",
     "output_type": "stream",
     "text": [
      "Number of loans and percent of loans with a Debt to Income Ratio greater than 1.0: 799, 0.01%\n"
     ]
    }
   ],
   "source": [
    "debt_ratio_greater_than_1_sum = loan_data[loan_data['DebtToIncomeRatio'] > 1]['DebtToIncomeRatio'].value_counts().sum() \n",
    "print('Number of loans and percent of loans with a Debt to Income Ratio greater than 1.0: ' + repr(debt_ratio_greater_than_1_sum) + ', ' + '{0:.2f}'.format(debt_ratio_greater_than_1_sum / loan_data.shape[0]) + '%')"
   ]
  },
  {
   "cell_type": "code",
   "execution_count": 19,
   "metadata": {},
   "outputs": [
    {
     "data": {
      "text/plain": [
       "0.18000    4132\n",
       "0.22000    3687\n",
       "0.17000    3616\n",
       "0.14000    3553\n",
       "0.20000    3481\n",
       "           ... \n",
       "0.13774       1\n",
       "0.04983       1\n",
       "0.15248       1\n",
       "0.19893       1\n",
       "0.06056       1\n",
       "Name: DebtToIncomeRatio, Length: 1207, dtype: int64"
      ]
     },
     "execution_count": 19,
     "metadata": {},
     "output_type": "execute_result"
    }
   ],
   "source": [
    "loan_data['DebtToIncomeRatio'].value_counts()"
   ]
  },
  {
   "cell_type": "code",
   "execution_count": 20,
   "metadata": {},
   "outputs": [
    {
     "data": {
      "text/plain": [
       "Text(0.5, 1.0, 'Figure 1. Number of Loans by Debt to Income Ratio (Complete Distribution)')"
      ]
     },
     "execution_count": 20,
     "metadata": {},
     "output_type": "execute_result"
    },
    {
     "data": {
      "image/png": "[encoded data removed]",
      "text/plain": [
       "<Figure size 432x288 with 1 Axes>"
      ]
     },
     "metadata": {
      "needs_background": "light"
     },
     "output_type": "display_data"
    }
   ],
   "source": [
    "loan_data['DebtToIncomeRatio'].hist();\n",
    "plt.title('Figure 1. Number of Loans by Debt to Income Ratio (Complete Distribution)')"
   ]
  },
  {
   "cell_type": "markdown",
   "metadata": {},
   "source": [
    "The above plot shows the histogram for debt to income ratio. It is apparent that the vast majority of the loans (over 100,000 based on the above plot out of 113,346 based on the info() call). Per the data description for the Debt to Income Ratio, any debt-to-income, any ratios over 10 are labeled 10.01, regardless of how high it is."
   ]
  },
  {
   "cell_type": "code",
   "execution_count": 21,
   "metadata": {},
   "outputs": [
    {
     "data": {
      "image/png": "[encoded data removed]",
      "text/plain": [
       "<Figure size 576x360 with 1 Axes>"
      ]
     },
     "metadata": {
      "needs_background": "light"
     },
     "output_type": "display_data"
    }
   ],
   "source": [
    "subplot = plt.figure(figsize = (8,5))\n",
    "\n",
    "bins = np.arange(0, 1.3, .05)\n",
    "\n",
    "ax = plt.subplot(1,1,1)\n",
    "\n",
    "ax = loan_data['DebtToIncomeRatio'].hist(bins = bins)\n",
    "bin_labels = [\"{:0.2f}\".format(i) for i in bins[::2]]\n",
    "ax.set_xticks(bins[::2]);\n",
    "ax.set_xticklabels(bin_labels)\n",
    "ax.set_title('Figure 2. Number of Loans by Debt to Income Ratio')\n",
    "ax.set_xlabel('Debt to Income Ratio');"
   ]
  },
  {
   "cell_type": "markdown",
   "metadata": {},
   "source": [
    "Based on the plot above, it appears that a significant amount of borrowers have a debt to income ratio between 0.10 and 0.30, with the amount of borrowers with higher ratios trailing off significantly after approximately 0.30. The distribution for debt to income ratio is right skew."
   ]
  },
  {
   "cell_type": "markdown",
   "metadata": {},
   "source": [
    "Based on the plot matrix, debt to income ratio appears to have an interesting relationship with the amount delinquent and is worth investigating with bivariate plots."
   ]
  },
  {
   "cell_type": "code",
   "execution_count": 22,
   "metadata": {},
   "outputs": [
    {
     "data": {
      "image/png": "[encoded data removed]",
      "text/plain": [
       "<Figure size 432x288 with 1 Axes>"
      ]
     },
     "metadata": {
      "needs_background": "light"
     },
     "output_type": "display_data"
    }
   ],
   "source": [
    "sns.regplot(data = loan_data, x = 'DebtToIncomeRatio', y = 'AmountDelinquent', fit_reg=False, scatter_kws = {'alpha': 0.15});"
   ]
  },
  {
   "cell_type": "markdown",
   "metadata": {},
   "source": [
    "The plot above shows that lower debt to income ratios tend to have lower delinquent amounts. This is a counterintuitive observation, so this relationship merits further analysis."
   ]
  },
  {
   "cell_type": "code",
   "execution_count": 23,
   "metadata": {},
   "outputs": [
    {
     "data": {
      "text/plain": [
       "(0, 0)"
      ]
     },
     "execution_count": 23,
     "metadata": {},
     "output_type": "execute_result"
    }
   ],
   "source": [
    "# Confirm that we do not have null or infinite data in the specified columns\n",
    "loan_data.dropna(subset=['DebtToIncomeRatio', 'AmountDelinquent'], inplace=True)\n",
    "(loan_data['DebtToIncomeRatio'].isin([np.inf, -np.inf])).sum(), loan_data['DebtToIncomeRatio'].isna().sum()"
   ]
  },
  {
   "cell_type": "code",
   "execution_count": 24,
   "metadata": {},
   "outputs": [
    {
     "data": {
      "text/plain": [
       "(0, 0)"
      ]
     },
     "execution_count": 24,
     "metadata": {},
     "output_type": "execute_result"
    }
   ],
   "source": [
    "(loan_data['AmountDelinquent'].isin([np.inf, -np.inf])).sum(), loan_data['AmountDelinquent'].isna().sum()"
   ]
  },
  {
   "cell_type": "code",
   "execution_count": 25,
   "metadata": {},
   "outputs": [
    {
     "data": {
      "text/plain": [
       "count    97905.000000\n",
       "mean         0.276037\n",
       "std          0.524517\n",
       "min          0.000000\n",
       "25%          0.150000\n",
       "50%          0.220000\n",
       "75%          0.320000\n",
       "max         10.010000\n",
       "Name: DebtToIncomeRatio, dtype: float64"
      ]
     },
     "execution_count": 25,
     "metadata": {},
     "output_type": "execute_result"
    }
   ],
   "source": [
    "loan_data['DebtToIncomeRatio'].describe()"
   ]
  },
  {
   "cell_type": "code",
   "execution_count": 26,
   "metadata": {},
   "outputs": [
    {
     "data": {
      "text/plain": [
       "(97905, 18)"
      ]
     },
     "execution_count": 26,
     "metadata": {},
     "output_type": "execute_result"
    }
   ],
   "source": [
    "loan_data.shape"
   ]
  },
  {
   "cell_type": "code",
   "execution_count": 27,
   "metadata": {},
   "outputs": [
    {
     "name": "stdout",
     "output_type": "stream",
     "text": [
      "<class 'pandas.core.frame.DataFrame'>\n",
      "Int64Index: 97905 entries, 0 to 113936\n",
      "Data columns (total 18 columns):\n",
      "AmountDelinquent                       97905 non-null float64\n",
      "BorrowerAPR                            97905 non-null float64\n",
      "DebtToIncomeRatio                      97905 non-null float64\n",
      "EmploymentStatus                       97905 non-null object\n",
      "EmploymentStatusDuration               97888 non-null float64\n",
      "IsBorrowerHomeowner                    97905 non-null bool\n",
      "LoanOriginalAmount                     97905 non-null int64\n",
      "Occupation                             96572 non-null object\n",
      "PercentFunded                          97905 non-null float64\n",
      "ProsperPaymentsLessThanOneMonthLate    19915 non-null float64\n",
      "ProsperPaymentsOneMonthPlusLate        19915 non-null float64\n",
      "ProsperPrincipalBorrowed               19915 non-null float64\n",
      "ProsperPrincipalOutstanding            19915 non-null float64\n",
      "ProsperRating (numeric)                77557 non-null float64\n",
      "StatedMonthlyIncome                    97905 non-null float64\n",
      "EstimatedLoss                          77557 non-null float64\n",
      "EstimatedReturn                        77557 non-null float64\n",
      "CreditScoreRangeAvg                    97905 non-null float64\n",
      "dtypes: bool(1), float64(14), int64(1), object(2)\n",
      "memory usage: 13.5+ MB\n"
     ]
    }
   ],
   "source": [
    "loan_data.info()"
   ]
  },
  {
   "cell_type": "code",
   "execution_count": 28,
   "metadata": {},
   "outputs": [
    {
     "data": {
      "text/plain": [
       "0    0.17\n",
       "1    0.18\n",
       "3    0.15\n",
       "4    0.26\n",
       "5    0.36\n",
       "Name: DebtToIncomeRatio, dtype: float64"
      ]
     },
     "execution_count": 28,
     "metadata": {},
     "output_type": "execute_result"
    }
   ],
   "source": [
    "loan_data['DebtToIncomeRatio'].head()"
   ]
  },
  {
   "cell_type": "code",
   "execution_count": 29,
   "metadata": {},
   "outputs": [
    {
     "data": {
      "text/plain": [
       "15525"
      ]
     },
     "execution_count": 29,
     "metadata": {},
     "output_type": "execute_result"
    }
   ],
   "source": [
    "loan_data[loan_data['AmountDelinquent'] > 0]['AmountDelinquent'].count()"
   ]
  },
  {
   "cell_type": "code",
   "execution_count": 30,
   "metadata": {},
   "outputs": [
    {
     "data": {
      "text/plain": [
       "count     97905.000000\n",
       "mean       1003.278556\n",
       "std        7154.286296\n",
       "min           0.000000\n",
       "25%           0.000000\n",
       "50%           0.000000\n",
       "75%           0.000000\n",
       "max      463881.000000\n",
       "Name: AmountDelinquent, dtype: float64"
      ]
     },
     "execution_count": 30,
     "metadata": {},
     "output_type": "execute_result"
    }
   ],
   "source": [
    "loan_data['AmountDelinquent'].describe()"
   ]
  },
  {
   "cell_type": "code",
   "execution_count": 31,
   "metadata": {},
   "outputs": [],
   "source": [
    "debt_ratio_step = 0.1\n",
    "amt_del_step = 50000"
   ]
  },
  {
   "cell_type": "code",
   "execution_count": 32,
   "metadata": {},
   "outputs": [],
   "source": [
    "debt_ratio_bins = np.arange(-0.1, loan_data['DebtToIncomeRatio'].max() + debt_ratio_step, debt_ratio_step)\n",
    "delinquent_bins = np.arange(-0.1, loan_data['AmountDelinquent'].max() + amt_del_step, amt_del_step)"
   ]
  },
  {
   "cell_type": "code",
   "execution_count": 33,
   "metadata": {},
   "outputs": [
    {
     "data": {
      "image/png": "[encoded data removed]",
      "text/plain": [
       "<Figure size 432x288 with 2 Axes>"
      ]
     },
     "metadata": {
      "needs_background": "light"
     },
     "output_type": "display_data"
    }
   ],
   "source": [
    "plt.hist2d(data = loan_data, x = 'DebtToIncomeRatio', y = 'AmountDelinquent', bins=[debt_ratio_bins, delinquent_bins], cmap='viridis_r');\n",
    "plt.colorbar();"
   ]
  },
  {
   "cell_type": "code",
   "execution_count": 34,
   "metadata": {},
   "outputs": [
    {
     "data": {
      "image/png": "[encoded data removed]",
      "text/plain": [
       "<Figure size 432x288 with 2 Axes>"
      ]
     },
     "metadata": {
      "needs_background": "light"
     },
     "output_type": "display_data"
    }
   ],
   "source": [
    "plt.hist2d(data = loan_data, x = 'DebtToIncomeRatio', y = 'AmountDelinquent', bins=[debt_ratio_bins, delinquent_bins], cmap='viridis_r', cmin=50);\n",
    "plt.colorbar();"
   ]
  },
  {
   "cell_type": "code",
   "execution_count": 35,
   "metadata": {},
   "outputs": [],
   "source": [
    "debt_ratio_bins = np.arange(-0.1, 1.5, 0.1)\n",
    "delinquent_bins = np.arange(-0.1, 10000, 500)"
   ]
  },
  {
   "cell_type": "code",
   "execution_count": 36,
   "metadata": {},
   "outputs": [
    {
     "data": {
      "image/png": "[encoded data removed]",
      "text/plain": [
       "<Figure size 432x288 with 2 Axes>"
      ]
     },
     "metadata": {
      "needs_background": "light"
     },
     "output_type": "display_data"
    }
   ],
   "source": [
    "plt.hist2d(data = loan_data, x = 'DebtToIncomeRatio', y = 'AmountDelinquent', bins=[debt_ratio_bins, delinquent_bins], cmap='viridis_r', cmin=1);\n",
    "plt.colorbar();"
   ]
  },
  {
   "cell_type": "code",
   "execution_count": 37,
   "metadata": {},
   "outputs": [],
   "source": [
    "debt_delinquent_data = loan_data.copy()"
   ]
  },
  {
   "cell_type": "code",
   "execution_count": 38,
   "metadata": {},
   "outputs": [],
   "source": [
    "debt_ratio_step = .5\n",
    "amt_del_step = 25000"
   ]
  },
  {
   "cell_type": "code",
   "execution_count": 39,
   "metadata": {},
   "outputs": [],
   "source": [
    "debt_ratio_bins = np.arange(-debt_ratio_step, loan_data['DebtToIncomeRatio'].max() + debt_ratio_step, debt_ratio_step)\n",
    "delinquent_bins = np.arange(-amt_del_step, loan_data['AmountDelinquent'].max() + amt_del_step, amt_del_step)"
   ]
  },
  {
   "cell_type": "code",
   "execution_count": 40,
   "metadata": {},
   "outputs": [
    {
     "data": {
      "text/plain": [
       "array([-0.5,  0. ,  0.5,  1. ,  1.5,  2. ,  2.5,  3. ,  3.5,  4. ,  4.5,\n",
       "        5. ,  5.5,  6. ,  6.5,  7. ,  7.5,  8. ,  8.5,  9. ,  9.5, 10. ,\n",
       "       10.5])"
      ]
     },
     "execution_count": 40,
     "metadata": {},
     "output_type": "execute_result"
    }
   ],
   "source": [
    "debt_ratio_bins"
   ]
  },
  {
   "cell_type": "code",
   "execution_count": 41,
   "metadata": {},
   "outputs": [
    {
     "data": {
      "text/plain": [
       "array([-25000.,      0.,  25000.,  50000.,  75000., 100000., 125000.,\n",
       "       150000., 175000., 200000., 225000., 250000., 275000., 300000.,\n",
       "       325000., 350000., 375000., 400000., 425000., 450000., 475000.])"
      ]
     },
     "execution_count": 41,
     "metadata": {},
     "output_type": "execute_result"
    }
   ],
   "source": [
    "delinquent_bins"
   ]
  },
  {
   "cell_type": "code",
   "execution_count": 42,
   "metadata": {},
   "outputs": [
    {
     "data": {
      "text/plain": [
       "(23, 21)"
      ]
     },
     "execution_count": 42,
     "metadata": {},
     "output_type": "execute_result"
    }
   ],
   "source": [
    "len(debt_ratio_bins), len(delinquent_bins)"
   ]
  },
  {
   "cell_type": "code",
   "execution_count": 43,
   "metadata": {},
   "outputs": [
    {
     "data": {
      "text/plain": [
       "463881.0"
      ]
     },
     "execution_count": 43,
     "metadata": {},
     "output_type": "execute_result"
    }
   ],
   "source": [
    "loan_data['AmountDelinquent'].max()"
   ]
  },
  {
   "cell_type": "code",
   "execution_count": 44,
   "metadata": {},
   "outputs": [],
   "source": [
    "debt_indices = pd.cut(debt_delinquent_data['DebtToIncomeRatio'], debt_ratio_bins, labels=False).astype(int)\n",
    "del_indices = pd.cut(debt_delinquent_data['AmountDelinquent'], delinquent_bins, labels=False).astype(int)"
   ]
  },
  {
   "cell_type": "code",
   "execution_count": 45,
   "metadata": {},
   "outputs": [
    {
     "data": {
      "text/plain": [
       "0         1\n",
       "1         0\n",
       "3         1\n",
       "4         0\n",
       "5         0\n",
       "         ..\n",
       "113932    0\n",
       "113933    1\n",
       "113934    0\n",
       "113935    0\n",
       "113936    1\n",
       "Name: AmountDelinquent, Length: 97905, dtype: int32"
      ]
     },
     "execution_count": 45,
     "metadata": {},
     "output_type": "execute_result"
    }
   ],
   "source": [
    "del_indices"
   ]
  },
  {
   "cell_type": "code",
   "execution_count": 46,
   "metadata": {},
   "outputs": [
    {
     "data": {
      "text/plain": [
       "(22, 16)"
      ]
     },
     "execution_count": 46,
     "metadata": {},
     "output_type": "execute_result"
    }
   ],
   "source": [
    "debt_del_grouped = debt_delinquent_data.groupby([debt_indices, del_indices]).size()\n",
    "debt_del_grouped = debt_del_grouped.reset_index()\n",
    "debt_del_grouped = debt_del_grouped.pivot(index = 'DebtToIncomeRatio', columns='AmountDelinquent').values\n",
    "#debt_del_grouped = debt_delinquent_data.groupby([debt_indices, del_indices])\n",
    "#x = debt_del_grouped.pivot(index=['DebtToIncomeRatio'], columns=['AmountDelinquent'])\n",
    "#x\n",
    "\n",
    "debt_del_grouped.shape"
   ]
  },
  {
   "cell_type": "code",
   "execution_count": 47,
   "metadata": {},
   "outputs": [],
   "source": [
    "weights = loan_data['AmountDelinquent']"
   ]
  },
  {
   "cell_type": "code",
   "execution_count": 48,
   "metadata": {},
   "outputs": [
    {
     "data": {
      "image/png": "[encoded data removed]",
      "text/plain": [
       "<Figure size 432x288 with 2 Axes>"
      ]
     },
     "metadata": {
      "needs_background": "light"
     },
     "output_type": "display_data"
    }
   ],
   "source": [
    "plt.hist2d(data = loan_data, x = 'DebtToIncomeRatio', y = 'AmountDelinquent', bins=[debt_ratio_bins, delinquent_bins], weights=weights, cmap='viridis_r', cmin=0.0001);\n",
    "plt.colorbar();"
   ]
  },
  {
   "cell_type": "code",
   "execution_count": 49,
   "metadata": {},
   "outputs": [
    {
     "data": {
      "text/plain": [
       "98225987.0"
      ]
     },
     "execution_count": 49,
     "metadata": {},
     "output_type": "execute_result"
    }
   ],
   "source": [
    "loan_data['AmountDelinquent'].sum()"
   ]
  },
  {
   "cell_type": "code",
   "execution_count": 50,
   "metadata": {},
   "outputs": [
    {
     "data": {
      "text/plain": [
       "54902"
      ]
     },
     "execution_count": 50,
     "metadata": {},
     "output_type": "execute_result"
    }
   ],
   "source": [
    "loan_data[(loan_data['AmountDelinquent'] < 25000) & (loan_data['DebtToIncomeRatio'] < .25)]['AmountDelinquent'].count()"
   ]
  },
  {
   "cell_type": "code",
   "execution_count": 51,
   "metadata": {},
   "outputs": [
    {
     "data": {
      "text/plain": [
       "80035367.0"
      ]
     },
     "execution_count": 51,
     "metadata": {},
     "output_type": "execute_result"
    }
   ],
   "source": [
    "loan_data[(loan_data['AmountDelinquent'] < 100000) & (loan_data['DebtToIncomeRatio'] < .50)]['AmountDelinquent'].sum()"
   ]
  },
  {
   "cell_type": "code",
   "execution_count": 83,
   "metadata": {},
   "outputs": [],
   "source": [
    "debt_ratio_step = .1\n",
    "amt_del_step = 50000"
   ]
  },
  {
   "cell_type": "code",
   "execution_count": 125,
   "metadata": {},
   "outputs": [
    {
     "name": "stdout",
     "output_type": "stream",
     "text": [
      "<class 'pandas.core.frame.DataFrame'>\n",
      "Int64Index: 14922 entries, 0 to 113936\n",
      "Data columns (total 18 columns):\n",
      "AmountDelinquent                       14922 non-null float64\n",
      "BorrowerAPR                            14922 non-null float64\n",
      "DebtToIncomeRatio                      14922 non-null float64\n",
      "EmploymentStatus                       14922 non-null object\n",
      "EmploymentStatusDuration               14920 non-null float64\n",
      "IsBorrowerHomeowner                    14922 non-null bool\n",
      "LoanOriginalAmount                     14922 non-null int64\n",
      "Occupation                             14764 non-null object\n",
      "PercentFunded                          14922 non-null float64\n",
      "ProsperPaymentsLessThanOneMonthLate    3190 non-null float64\n",
      "ProsperPaymentsOneMonthPlusLate        3190 non-null float64\n",
      "ProsperPrincipalBorrowed               3190 non-null float64\n",
      "ProsperPrincipalOutstanding            3190 non-null float64\n",
      "ProsperRating (numeric)                9831 non-null float64\n",
      "StatedMonthlyIncome                    14922 non-null float64\n",
      "EstimatedLoss                          9831 non-null float64\n",
      "EstimatedReturn                        9831 non-null float64\n",
      "CreditScoreRangeAvg                    14922 non-null float64\n",
      "dtypes: bool(1), float64(14), int64(1), object(2)\n",
      "memory usage: 2.1+ MB\n"
     ]
    }
   ],
   "source": [
    "loan_data_partial = loan_data[(loan_data['AmountDelinquent'] > 0) & (loan_data['AmountDelinquent'] < 250001) & (loan_data['DebtToIncomeRatio'] > 0) & (loan_data['DebtToIncomeRatio'] < .51)].copy()\n",
    "loan_data_partial.info()"
   ]
  },
  {
   "cell_type": "code",
   "execution_count": 126,
   "metadata": {},
   "outputs": [],
   "source": [
    "debt_ratio_bins = np.arange(-debt_ratio_step, loan_data_partial['DebtToIncomeRatio'].max() + debt_ratio_step, debt_ratio_step)\n",
    "delinquent_bins = np.arange(-amt_del_step, loan_data_partial['AmountDelinquent'].max() + amt_del_step, amt_del_step)"
   ]
  },
  {
   "cell_type": "code",
   "execution_count": 127,
   "metadata": {},
   "outputs": [],
   "source": [
    "debt_indices = pd.cut(loan_data_partial['DebtToIncomeRatio'], debt_ratio_bins, labels=False).astype(int)\n",
    "del_indices = pd.cut(loan_data_partial['AmountDelinquent'], delinquent_bins, labels=False).astype(int)"
   ]
  },
  {
   "cell_type": "code",
   "execution_count": 128,
   "metadata": {},
   "outputs": [],
   "source": [
    "loan_data_partial['debt_ratio_index'] = debt_indices\n",
    "loan_data_partial['delinquent_index'] = del_indices"
   ]
  },
  {
   "cell_type": "code",
   "execution_count": 129,
   "metadata": {},
   "outputs": [
    {
     "data": {
      "text/html": [
       "<div>\n",
       "<style scoped>\n",
       "    .dataframe tbody tr th:only-of-type {\n",
       "        vertical-align: middle;\n",
       "    }\n",
       "\n",
       "    .dataframe tbody tr th {\n",
       "        vertical-align: top;\n",
       "    }\n",
       "\n",
       "    .dataframe thead th {\n",
       "        text-align: right;\n",
       "    }\n",
       "</style>\n",
       "<table border=\"1\" class=\"dataframe\">\n",
       "  <thead>\n",
       "    <tr style=\"text-align: right;\">\n",
       "      <th></th>\n",
       "      <th>AmountDelinquent</th>\n",
       "      <th>BorrowerAPR</th>\n",
       "      <th>DebtToIncomeRatio</th>\n",
       "      <th>EmploymentStatus</th>\n",
       "      <th>EmploymentStatusDuration</th>\n",
       "      <th>IsBorrowerHomeowner</th>\n",
       "      <th>LoanOriginalAmount</th>\n",
       "      <th>Occupation</th>\n",
       "      <th>PercentFunded</th>\n",
       "      <th>ProsperPaymentsLessThanOneMonthLate</th>\n",
       "      <th>ProsperPaymentsOneMonthPlusLate</th>\n",
       "      <th>ProsperPrincipalBorrowed</th>\n",
       "      <th>ProsperPrincipalOutstanding</th>\n",
       "      <th>ProsperRating (numeric)</th>\n",
       "      <th>StatedMonthlyIncome</th>\n",
       "      <th>EstimatedLoss</th>\n",
       "      <th>EstimatedReturn</th>\n",
       "      <th>CreditScoreRangeAvg</th>\n",
       "      <th>debt_ratio_index</th>\n",
       "      <th>delinquent_index</th>\n",
       "    </tr>\n",
       "  </thead>\n",
       "  <tbody>\n",
       "    <tr>\n",
       "      <th>0</th>\n",
       "      <td>472.0</td>\n",
       "      <td>0.16516</td>\n",
       "      <td>0.17</td>\n",
       "      <td>Self-employed</td>\n",
       "      <td>2.0</td>\n",
       "      <td>True</td>\n",
       "      <td>9425</td>\n",
       "      <td>Other</td>\n",
       "      <td>1.0</td>\n",
       "      <td>NaN</td>\n",
       "      <td>NaN</td>\n",
       "      <td>NaN</td>\n",
       "      <td>NaN</td>\n",
       "      <td>NaN</td>\n",
       "      <td>3083.333333</td>\n",
       "      <td>NaN</td>\n",
       "      <td>NaN</td>\n",
       "      <td>649.5</td>\n",
       "      <td>2</td>\n",
       "      <td>1</td>\n",
       "    </tr>\n",
       "    <tr>\n",
       "      <th>3</th>\n",
       "      <td>10056.0</td>\n",
       "      <td>0.12528</td>\n",
       "      <td>0.15</td>\n",
       "      <td>Employed</td>\n",
       "      <td>113.0</td>\n",
       "      <td>True</td>\n",
       "      <td>10000</td>\n",
       "      <td>Skilled Labor</td>\n",
       "      <td>1.0</td>\n",
       "      <td>NaN</td>\n",
       "      <td>NaN</td>\n",
       "      <td>NaN</td>\n",
       "      <td>NaN</td>\n",
       "      <td>6.0</td>\n",
       "      <td>2875.000000</td>\n",
       "      <td>0.0249</td>\n",
       "      <td>0.06000</td>\n",
       "      <td>809.5</td>\n",
       "      <td>2</td>\n",
       "      <td>1</td>\n",
       "    </tr>\n",
       "    <tr>\n",
       "      <th>10</th>\n",
       "      <td>253.0</td>\n",
       "      <td>0.27462</td>\n",
       "      <td>0.12</td>\n",
       "      <td>Employed</td>\n",
       "      <td>300.0</td>\n",
       "      <td>False</td>\n",
       "      <td>13500</td>\n",
       "      <td>Fireman</td>\n",
       "      <td>1.0</td>\n",
       "      <td>NaN</td>\n",
       "      <td>NaN</td>\n",
       "      <td>NaN</td>\n",
       "      <td>NaN</td>\n",
       "      <td>4.0</td>\n",
       "      <td>7500.000000</td>\n",
       "      <td>0.0890</td>\n",
       "      <td>0.14420</td>\n",
       "      <td>649.5</td>\n",
       "      <td>2</td>\n",
       "      <td>1</td>\n",
       "    </tr>\n",
       "    <tr>\n",
       "      <th>11</th>\n",
       "      <td>2224.0</td>\n",
       "      <td>0.15033</td>\n",
       "      <td>0.27</td>\n",
       "      <td>Full-time</td>\n",
       "      <td>19.0</td>\n",
       "      <td>False</td>\n",
       "      <td>1000</td>\n",
       "      <td>Waiter/Waitress</td>\n",
       "      <td>1.0</td>\n",
       "      <td>NaN</td>\n",
       "      <td>NaN</td>\n",
       "      <td>NaN</td>\n",
       "      <td>NaN</td>\n",
       "      <td>NaN</td>\n",
       "      <td>1666.666667</td>\n",
       "      <td>NaN</td>\n",
       "      <td>NaN</td>\n",
       "      <td>649.5</td>\n",
       "      <td>3</td>\n",
       "      <td>1</td>\n",
       "    </tr>\n",
       "    <tr>\n",
       "      <th>16</th>\n",
       "      <td>2469.0</td>\n",
       "      <td>0.30748</td>\n",
       "      <td>0.15</td>\n",
       "      <td>Full-time</td>\n",
       "      <td>133.0</td>\n",
       "      <td>True</td>\n",
       "      <td>4000</td>\n",
       "      <td>Professional</td>\n",
       "      <td>1.0</td>\n",
       "      <td>0.0</td>\n",
       "      <td>0.0</td>\n",
       "      <td>10700.0</td>\n",
       "      <td>4064.87</td>\n",
       "      <td>2.0</td>\n",
       "      <td>8291.666667</td>\n",
       "      <td>0.1225</td>\n",
       "      <td>0.12480</td>\n",
       "      <td>649.5</td>\n",
       "      <td>2</td>\n",
       "      <td>1</td>\n",
       "    </tr>\n",
       "    <tr>\n",
       "      <th>21</th>\n",
       "      <td>5200.0</td>\n",
       "      <td>0.21488</td>\n",
       "      <td>0.09</td>\n",
       "      <td>Full-time</td>\n",
       "      <td>36.0</td>\n",
       "      <td>False</td>\n",
       "      <td>3000</td>\n",
       "      <td>Professional</td>\n",
       "      <td>1.0</td>\n",
       "      <td>NaN</td>\n",
       "      <td>NaN</td>\n",
       "      <td>NaN</td>\n",
       "      <td>NaN</td>\n",
       "      <td>NaN</td>\n",
       "      <td>3750.000000</td>\n",
       "      <td>NaN</td>\n",
       "      <td>NaN</td>\n",
       "      <td>629.5</td>\n",
       "      <td>1</td>\n",
       "      <td>1</td>\n",
       "    </tr>\n",
       "    <tr>\n",
       "      <th>30</th>\n",
       "      <td>42488.0</td>\n",
       "      <td>0.12782</td>\n",
       "      <td>0.11</td>\n",
       "      <td>Employed</td>\n",
       "      <td>44.0</td>\n",
       "      <td>False</td>\n",
       "      <td>10000</td>\n",
       "      <td>Other</td>\n",
       "      <td>1.0</td>\n",
       "      <td>NaN</td>\n",
       "      <td>NaN</td>\n",
       "      <td>NaN</td>\n",
       "      <td>NaN</td>\n",
       "      <td>6.0</td>\n",
       "      <td>3750.000000</td>\n",
       "      <td>0.0380</td>\n",
       "      <td>0.05170</td>\n",
       "      <td>749.5</td>\n",
       "      <td>2</td>\n",
       "      <td>1</td>\n",
       "    </tr>\n",
       "    <tr>\n",
       "      <th>34</th>\n",
       "      <td>15543.0</td>\n",
       "      <td>0.22966</td>\n",
       "      <td>0.17</td>\n",
       "      <td>Other</td>\n",
       "      <td>426.0</td>\n",
       "      <td>True</td>\n",
       "      <td>10000</td>\n",
       "      <td>NaN</td>\n",
       "      <td>1.0</td>\n",
       "      <td>NaN</td>\n",
       "      <td>NaN</td>\n",
       "      <td>NaN</td>\n",
       "      <td>NaN</td>\n",
       "      <td>4.0</td>\n",
       "      <td>4058.333333</td>\n",
       "      <td>0.0899</td>\n",
       "      <td>0.07820</td>\n",
       "      <td>649.5</td>\n",
       "      <td>2</td>\n",
       "      <td>1</td>\n",
       "    </tr>\n",
       "    <tr>\n",
       "      <th>45</th>\n",
       "      <td>2629.0</td>\n",
       "      <td>0.13227</td>\n",
       "      <td>0.13</td>\n",
       "      <td>Employed</td>\n",
       "      <td>28.0</td>\n",
       "      <td>True</td>\n",
       "      <td>25000</td>\n",
       "      <td>Executive</td>\n",
       "      <td>1.0</td>\n",
       "      <td>NaN</td>\n",
       "      <td>NaN</td>\n",
       "      <td>NaN</td>\n",
       "      <td>NaN</td>\n",
       "      <td>6.0</td>\n",
       "      <td>16000.000000</td>\n",
       "      <td>0.0299</td>\n",
       "      <td>0.06660</td>\n",
       "      <td>749.5</td>\n",
       "      <td>2</td>\n",
       "      <td>1</td>\n",
       "    </tr>\n",
       "    <tr>\n",
       "      <th>50</th>\n",
       "      <td>579.0</td>\n",
       "      <td>0.23984</td>\n",
       "      <td>0.12</td>\n",
       "      <td>Employed</td>\n",
       "      <td>43.0</td>\n",
       "      <td>True</td>\n",
       "      <td>10000</td>\n",
       "      <td>Nurse (RN)</td>\n",
       "      <td>1.0</td>\n",
       "      <td>NaN</td>\n",
       "      <td>NaN</td>\n",
       "      <td>NaN</td>\n",
       "      <td>NaN</td>\n",
       "      <td>3.0</td>\n",
       "      <td>7916.666667</td>\n",
       "      <td>0.1025</td>\n",
       "      <td>0.08578</td>\n",
       "      <td>649.5</td>\n",
       "      <td>2</td>\n",
       "      <td>1</td>\n",
       "    </tr>\n",
       "  </tbody>\n",
       "</table>\n",
       "</div>"
      ],
      "text/plain": [
       "    AmountDelinquent  BorrowerAPR  DebtToIncomeRatio EmploymentStatus  \\\n",
       "0              472.0      0.16516               0.17    Self-employed   \n",
       "3            10056.0      0.12528               0.15         Employed   \n",
       "10             253.0      0.27462               0.12         Employed   \n",
       "11            2224.0      0.15033               0.27        Full-time   \n",
       "16            2469.0      0.30748               0.15        Full-time   \n",
       "21            5200.0      0.21488               0.09        Full-time   \n",
       "30           42488.0      0.12782               0.11         Employed   \n",
       "34           15543.0      0.22966               0.17            Other   \n",
       "45            2629.0      0.13227               0.13         Employed   \n",
       "50             579.0      0.23984               0.12         Employed   \n",
       "\n",
       "    EmploymentStatusDuration  IsBorrowerHomeowner  LoanOriginalAmount  \\\n",
       "0                        2.0                 True                9425   \n",
       "3                      113.0                 True               10000   \n",
       "10                     300.0                False               13500   \n",
       "11                      19.0                False                1000   \n",
       "16                     133.0                 True                4000   \n",
       "21                      36.0                False                3000   \n",
       "30                      44.0                False               10000   \n",
       "34                     426.0                 True               10000   \n",
       "45                      28.0                 True               25000   \n",
       "50                      43.0                 True               10000   \n",
       "\n",
       "         Occupation  PercentFunded  ProsperPaymentsLessThanOneMonthLate  \\\n",
       "0             Other            1.0                                  NaN   \n",
       "3     Skilled Labor            1.0                                  NaN   \n",
       "10          Fireman            1.0                                  NaN   \n",
       "11  Waiter/Waitress            1.0                                  NaN   \n",
       "16     Professional            1.0                                  0.0   \n",
       "21     Professional            1.0                                  NaN   \n",
       "30            Other            1.0                                  NaN   \n",
       "34              NaN            1.0                                  NaN   \n",
       "45        Executive            1.0                                  NaN   \n",
       "50       Nurse (RN)            1.0                                  NaN   \n",
       "\n",
       "    ProsperPaymentsOneMonthPlusLate  ProsperPrincipalBorrowed  \\\n",
       "0                               NaN                       NaN   \n",
       "3                               NaN                       NaN   \n",
       "10                              NaN                       NaN   \n",
       "11                              NaN                       NaN   \n",
       "16                              0.0                   10700.0   \n",
       "21                              NaN                       NaN   \n",
       "30                              NaN                       NaN   \n",
       "34                              NaN                       NaN   \n",
       "45                              NaN                       NaN   \n",
       "50                              NaN                       NaN   \n",
       "\n",
       "    ProsperPrincipalOutstanding  ProsperRating (numeric)  StatedMonthlyIncome  \\\n",
       "0                           NaN                      NaN          3083.333333   \n",
       "3                           NaN                      6.0          2875.000000   \n",
       "10                          NaN                      4.0          7500.000000   \n",
       "11                          NaN                      NaN          1666.666667   \n",
       "16                      4064.87                      2.0          8291.666667   \n",
       "21                          NaN                      NaN          3750.000000   \n",
       "30                          NaN                      6.0          3750.000000   \n",
       "34                          NaN                      4.0          4058.333333   \n",
       "45                          NaN                      6.0         16000.000000   \n",
       "50                          NaN                      3.0          7916.666667   \n",
       "\n",
       "    EstimatedLoss  EstimatedReturn  CreditScoreRangeAvg  debt_ratio_index  \\\n",
       "0             NaN              NaN                649.5                 2   \n",
       "3          0.0249          0.06000                809.5                 2   \n",
       "10         0.0890          0.14420                649.5                 2   \n",
       "11            NaN              NaN                649.5                 3   \n",
       "16         0.1225          0.12480                649.5                 2   \n",
       "21            NaN              NaN                629.5                 1   \n",
       "30         0.0380          0.05170                749.5                 2   \n",
       "34         0.0899          0.07820                649.5                 2   \n",
       "45         0.0299          0.06660                749.5                 2   \n",
       "50         0.1025          0.08578                649.5                 2   \n",
       "\n",
       "    delinquent_index  \n",
       "0                  1  \n",
       "3                  1  \n",
       "10                 1  \n",
       "11                 1  \n",
       "16                 1  \n",
       "21                 1  \n",
       "30                 1  \n",
       "34                 1  \n",
       "45                 1  \n",
       "50                 1  "
      ]
     },
     "execution_count": 129,
     "metadata": {},
     "output_type": "execute_result"
    }
   ],
   "source": [
    "loan_data_partial.head(10)"
   ]
  },
  {
   "cell_type": "code",
   "execution_count": 136,
   "metadata": {},
   "outputs": [],
   "source": [
    "loan_data_partial_grouped = loan_data_partial.groupby([debt_indices, del_indices]).sum()\n",
    "#debt_del_grouped = debt_del_grouped.reset_index()\n",
    "#debt_del_grouped = debt_del_grouped.pivot(index = 'DebtToIncomeRatio', columns='AmountDelinquent').values"
   ]
  },
  {
   "cell_type": "code",
   "execution_count": 137,
   "metadata": {},
   "outputs": [],
   "source": [
    "loan_data_partial_grouped.index.set_names(names = ['DebtRatioBin', 'AmtDelinquentBin'], inplace=True)"
   ]
  },
  {
   "cell_type": "code",
   "execution_count": 138,
   "metadata": {},
   "outputs": [],
   "source": [
    "loan_data_partial_grouped = debt_del_grouped.reset_index()"
   ]
  },
  {
   "cell_type": "code",
   "execution_count": 139,
   "metadata": {},
   "outputs": [
    {
     "data": {
      "text/html": [
       "<div>\n",
       "<style scoped>\n",
       "    .dataframe tbody tr th:only-of-type {\n",
       "        vertical-align: middle;\n",
       "    }\n",
       "\n",
       "    .dataframe tbody tr th {\n",
       "        vertical-align: top;\n",
       "    }\n",
       "\n",
       "    .dataframe thead th {\n",
       "        text-align: right;\n",
       "    }\n",
       "</style>\n",
       "<table border=\"1\" class=\"dataframe\">\n",
       "  <thead>\n",
       "    <tr style=\"text-align: right;\">\n",
       "      <th></th>\n",
       "      <th>index</th>\n",
       "      <th>DebtRatioBin</th>\n",
       "      <th>AmtDelinquentBin</th>\n",
       "      <th>AmountDelinquent</th>\n",
       "      <th>BorrowerAPR</th>\n",
       "      <th>DebtToIncomeRatio</th>\n",
       "      <th>EmploymentStatusDuration</th>\n",
       "      <th>IsBorrowerHomeowner</th>\n",
       "      <th>LoanOriginalAmount</th>\n",
       "      <th>PercentFunded</th>\n",
       "      <th>ProsperPaymentsLessThanOneMonthLate</th>\n",
       "      <th>ProsperPaymentsOneMonthPlusLate</th>\n",
       "      <th>ProsperPrincipalBorrowed</th>\n",
       "      <th>ProsperPrincipalOutstanding</th>\n",
       "      <th>ProsperRating (numeric)</th>\n",
       "      <th>StatedMonthlyIncome</th>\n",
       "      <th>EstimatedLoss</th>\n",
       "      <th>EstimatedReturn</th>\n",
       "      <th>CreditScoreRangeAvg</th>\n",
       "    </tr>\n",
       "  </thead>\n",
       "  <tbody>\n",
       "    <tr>\n",
       "      <th>0</th>\n",
       "      <td>0</td>\n",
       "      <td>1</td>\n",
       "      <td>1</td>\n",
       "      <td>17107487.0</td>\n",
       "      <td>739.20698</td>\n",
       "      <td>202.77</td>\n",
       "      <td>265431.0</td>\n",
       "      <td>1331.0</td>\n",
       "      <td>13485381</td>\n",
       "      <td>2966.7106</td>\n",
       "      <td>389.0</td>\n",
       "      <td>34.0</td>\n",
       "      <td>2224476.52</td>\n",
       "      <td>613808.67</td>\n",
       "      <td>5946.0</td>\n",
       "      <td>1.765444e+07</td>\n",
       "      <td>168.4341</td>\n",
       "      <td>182.80428</td>\n",
       "      <td>1954913.0</td>\n",
       "    </tr>\n",
       "    <tr>\n",
       "      <th>1</th>\n",
       "      <td>1</td>\n",
       "      <td>1</td>\n",
       "      <td>2</td>\n",
       "      <td>5266410.0</td>\n",
       "      <td>19.40007</td>\n",
       "      <td>4.79</td>\n",
       "      <td>6776.0</td>\n",
       "      <td>59.0</td>\n",
       "      <td>473075</td>\n",
       "      <td>74.8737</td>\n",
       "      <td>15.0</td>\n",
       "      <td>2.0</td>\n",
       "      <td>171400.00</td>\n",
       "      <td>36019.88</td>\n",
       "      <td>212.0</td>\n",
       "      <td>6.193520e+05</td>\n",
       "      <td>5.6325</td>\n",
       "      <td>6.30058</td>\n",
       "      <td>50692.5</td>\n",
       "    </tr>\n",
       "    <tr>\n",
       "      <th>2</th>\n",
       "      <td>2</td>\n",
       "      <td>1</td>\n",
       "      <td>3</td>\n",
       "      <td>2613249.0</td>\n",
       "      <td>5.41745</td>\n",
       "      <td>1.51</td>\n",
       "      <td>2690.0</td>\n",
       "      <td>20.0</td>\n",
       "      <td>185558</td>\n",
       "      <td>21.8058</td>\n",
       "      <td>0.0</td>\n",
       "      <td>0.0</td>\n",
       "      <td>11000.00</td>\n",
       "      <td>0.00</td>\n",
       "      <td>79.0</td>\n",
       "      <td>1.778462e+05</td>\n",
       "      <td>1.8448</td>\n",
       "      <td>2.23204</td>\n",
       "      <td>15349.0</td>\n",
       "    </tr>\n",
       "    <tr>\n",
       "      <th>3</th>\n",
       "      <td>3</td>\n",
       "      <td>1</td>\n",
       "      <td>4</td>\n",
       "      <td>1401483.0</td>\n",
       "      <td>2.30375</td>\n",
       "      <td>0.54</td>\n",
       "      <td>1043.0</td>\n",
       "      <td>6.0</td>\n",
       "      <td>48500</td>\n",
       "      <td>8.0000</td>\n",
       "      <td>2.0</td>\n",
       "      <td>0.0</td>\n",
       "      <td>4550.00</td>\n",
       "      <td>0.02</td>\n",
       "      <td>18.0</td>\n",
       "      <td>6.078958e+04</td>\n",
       "      <td>0.6728</td>\n",
       "      <td>0.69863</td>\n",
       "      <td>5216.0</td>\n",
       "    </tr>\n",
       "    <tr>\n",
       "      <th>4</th>\n",
       "      <td>4</td>\n",
       "      <td>1</td>\n",
       "      <td>5</td>\n",
       "      <td>673328.0</td>\n",
       "      <td>0.65072</td>\n",
       "      <td>0.17</td>\n",
       "      <td>130.0</td>\n",
       "      <td>1.0</td>\n",
       "      <td>20000</td>\n",
       "      <td>3.0000</td>\n",
       "      <td>0.0</td>\n",
       "      <td>0.0</td>\n",
       "      <td>15000.00</td>\n",
       "      <td>5020.14</td>\n",
       "      <td>14.0</td>\n",
       "      <td>3.570833e+04</td>\n",
       "      <td>0.2074</td>\n",
       "      <td>0.30210</td>\n",
       "      <td>2088.5</td>\n",
       "    </tr>\n",
       "    <tr>\n",
       "      <th>5</th>\n",
       "      <td>5</td>\n",
       "      <td>2</td>\n",
       "      <td>1</td>\n",
       "      <td>24635113.0</td>\n",
       "      <td>1403.81326</td>\n",
       "      <td>873.17</td>\n",
       "      <td>541742.0</td>\n",
       "      <td>2880.0</td>\n",
       "      <td>35101274</td>\n",
       "      <td>5611.2672</td>\n",
       "      <td>957.0</td>\n",
       "      <td>79.0</td>\n",
       "      <td>6736785.45</td>\n",
       "      <td>2453815.31</td>\n",
       "      <td>13126.0</td>\n",
       "      <td>3.129686e+07</td>\n",
       "      <td>356.3164</td>\n",
       "      <td>390.10910</td>\n",
       "      <td>3731630.0</td>\n",
       "    </tr>\n",
       "    <tr>\n",
       "      <th>6</th>\n",
       "      <td>6</td>\n",
       "      <td>2</td>\n",
       "      <td>2</td>\n",
       "      <td>5801983.0</td>\n",
       "      <td>21.64412</td>\n",
       "      <td>13.65</td>\n",
       "      <td>9771.0</td>\n",
       "      <td>62.0</td>\n",
       "      <td>732135</td>\n",
       "      <td>86.8251</td>\n",
       "      <td>41.0</td>\n",
       "      <td>5.0</td>\n",
       "      <td>315425.55</td>\n",
       "      <td>72479.54</td>\n",
       "      <td>280.0</td>\n",
       "      <td>6.516735e+05</td>\n",
       "      <td>7.0563</td>\n",
       "      <td>7.84596</td>\n",
       "      <td>59966.5</td>\n",
       "    </tr>\n",
       "    <tr>\n",
       "      <th>7</th>\n",
       "      <td>7</td>\n",
       "      <td>2</td>\n",
       "      <td>3</td>\n",
       "      <td>4387475.0</td>\n",
       "      <td>8.40160</td>\n",
       "      <td>5.55</td>\n",
       "      <td>4079.0</td>\n",
       "      <td>32.0</td>\n",
       "      <td>372301</td>\n",
       "      <td>36.0000</td>\n",
       "      <td>22.0</td>\n",
       "      <td>0.0</td>\n",
       "      <td>154700.00</td>\n",
       "      <td>39587.72</td>\n",
       "      <td>138.0</td>\n",
       "      <td>2.816119e+05</td>\n",
       "      <td>3.1912</td>\n",
       "      <td>3.15777</td>\n",
       "      <td>25182.0</td>\n",
       "    </tr>\n",
       "    <tr>\n",
       "      <th>8</th>\n",
       "      <td>8</td>\n",
       "      <td>2</td>\n",
       "      <td>4</td>\n",
       "      <td>1345869.0</td>\n",
       "      <td>2.20483</td>\n",
       "      <td>1.13</td>\n",
       "      <td>771.0</td>\n",
       "      <td>7.0</td>\n",
       "      <td>70600</td>\n",
       "      <td>8.0000</td>\n",
       "      <td>0.0</td>\n",
       "      <td>0.0</td>\n",
       "      <td>0.00</td>\n",
       "      <td>0.00</td>\n",
       "      <td>22.0</td>\n",
       "      <td>5.580375e+04</td>\n",
       "      <td>0.5052</td>\n",
       "      <td>0.61607</td>\n",
       "      <td>5296.0</td>\n",
       "    </tr>\n",
       "    <tr>\n",
       "      <th>9</th>\n",
       "      <td>9</td>\n",
       "      <td>2</td>\n",
       "      <td>5</td>\n",
       "      <td>439053.0</td>\n",
       "      <td>0.43216</td>\n",
       "      <td>0.32</td>\n",
       "      <td>55.0</td>\n",
       "      <td>1.0</td>\n",
       "      <td>12500</td>\n",
       "      <td>2.0000</td>\n",
       "      <td>0.0</td>\n",
       "      <td>0.0</td>\n",
       "      <td>5000.00</td>\n",
       "      <td>1535.04</td>\n",
       "      <td>9.0</td>\n",
       "      <td>9.166667e+03</td>\n",
       "      <td>0.1320</td>\n",
       "      <td>0.16260</td>\n",
       "      <td>1379.0</td>\n",
       "    </tr>\n",
       "    <tr>\n",
       "      <th>10</th>\n",
       "      <td>10</td>\n",
       "      <td>3</td>\n",
       "      <td>1</td>\n",
       "      <td>13850353.0</td>\n",
       "      <td>915.07735</td>\n",
       "      <td>896.65</td>\n",
       "      <td>350316.0</td>\n",
       "      <td>1903.0</td>\n",
       "      <td>24940004</td>\n",
       "      <td>3578.8115</td>\n",
       "      <td>802.0</td>\n",
       "      <td>62.0</td>\n",
       "      <td>6659032.92</td>\n",
       "      <td>2492358.43</td>\n",
       "      <td>8182.0</td>\n",
       "      <td>1.726394e+07</td>\n",
       "      <td>250.4634</td>\n",
       "      <td>258.18177</td>\n",
       "      <td>2389248.0</td>\n",
       "    </tr>\n",
       "    <tr>\n",
       "      <th>11</th>\n",
       "      <td>11</td>\n",
       "      <td>3</td>\n",
       "      <td>2</td>\n",
       "      <td>3901030.0</td>\n",
       "      <td>13.71681</td>\n",
       "      <td>13.27</td>\n",
       "      <td>7028.0</td>\n",
       "      <td>43.0</td>\n",
       "      <td>406914</td>\n",
       "      <td>53.8183</td>\n",
       "      <td>89.0</td>\n",
       "      <td>5.0</td>\n",
       "      <td>195132.00</td>\n",
       "      <td>27771.43</td>\n",
       "      <td>177.0</td>\n",
       "      <td>3.176721e+05</td>\n",
       "      <td>4.8509</td>\n",
       "      <td>5.22257</td>\n",
       "      <td>36993.0</td>\n",
       "    </tr>\n",
       "    <tr>\n",
       "      <th>12</th>\n",
       "      <td>12</td>\n",
       "      <td>3</td>\n",
       "      <td>3</td>\n",
       "      <td>1491937.0</td>\n",
       "      <td>3.00643</td>\n",
       "      <td>3.11</td>\n",
       "      <td>1095.0</td>\n",
       "      <td>8.0</td>\n",
       "      <td>161800</td>\n",
       "      <td>13.0000</td>\n",
       "      <td>11.0</td>\n",
       "      <td>1.0</td>\n",
       "      <td>91300.00</td>\n",
       "      <td>3346.57</td>\n",
       "      <td>52.0</td>\n",
       "      <td>9.047142e+04</td>\n",
       "      <td>1.0713</td>\n",
       "      <td>1.23373</td>\n",
       "      <td>8983.5</td>\n",
       "    </tr>\n",
       "    <tr>\n",
       "      <th>13</th>\n",
       "      <td>13</td>\n",
       "      <td>3</td>\n",
       "      <td>4</td>\n",
       "      <td>506007.0</td>\n",
       "      <td>0.79323</td>\n",
       "      <td>0.78</td>\n",
       "      <td>354.0</td>\n",
       "      <td>3.0</td>\n",
       "      <td>17000</td>\n",
       "      <td>3.0000</td>\n",
       "      <td>1.0</td>\n",
       "      <td>0.0</td>\n",
       "      <td>19000.00</td>\n",
       "      <td>3493.97</td>\n",
       "      <td>9.0</td>\n",
       "      <td>2.983333e+04</td>\n",
       "      <td>0.3024</td>\n",
       "      <td>0.29433</td>\n",
       "      <td>2008.5</td>\n",
       "    </tr>\n",
       "    <tr>\n",
       "      <th>14</th>\n",
       "      <td>14</td>\n",
       "      <td>3</td>\n",
       "      <td>5</td>\n",
       "      <td>230291.0</td>\n",
       "      <td>0.32538</td>\n",
       "      <td>0.23</td>\n",
       "      <td>388.0</td>\n",
       "      <td>0.0</td>\n",
       "      <td>4000</td>\n",
       "      <td>1.0000</td>\n",
       "      <td>0.0</td>\n",
       "      <td>0.0</td>\n",
       "      <td>4000.00</td>\n",
       "      <td>3149.93</td>\n",
       "      <td>2.0</td>\n",
       "      <td>1.041667e+04</td>\n",
       "      <td>0.1375</td>\n",
       "      <td>0.11370</td>\n",
       "      <td>609.5</td>\n",
       "    </tr>\n",
       "    <tr>\n",
       "      <th>15</th>\n",
       "      <td>15</td>\n",
       "      <td>4</td>\n",
       "      <td>1</td>\n",
       "      <td>5771414.0</td>\n",
       "      <td>458.34288</td>\n",
       "      <td>607.92</td>\n",
       "      <td>171448.0</td>\n",
       "      <td>900.0</td>\n",
       "      <td>11861431</td>\n",
       "      <td>1746.4908</td>\n",
       "      <td>384.0</td>\n",
       "      <td>23.0</td>\n",
       "      <td>3258266.82</td>\n",
       "      <td>1316448.87</td>\n",
       "      <td>3762.0</td>\n",
       "      <td>7.268570e+06</td>\n",
       "      <td>128.3295</td>\n",
       "      <td>126.99118</td>\n",
       "      <td>1167455.5</td>\n",
       "    </tr>\n",
       "    <tr>\n",
       "      <th>16</th>\n",
       "      <td>16</td>\n",
       "      <td>4</td>\n",
       "      <td>2</td>\n",
       "      <td>1127730.0</td>\n",
       "      <td>4.33117</td>\n",
       "      <td>5.75</td>\n",
       "      <td>1490.0</td>\n",
       "      <td>13.0</td>\n",
       "      <td>158501</td>\n",
       "      <td>17.0000</td>\n",
       "      <td>0.0</td>\n",
       "      <td>0.0</td>\n",
       "      <td>20501.00</td>\n",
       "      <td>13054.93</td>\n",
       "      <td>56.0</td>\n",
       "      <td>8.756900e+04</td>\n",
       "      <td>1.5333</td>\n",
       "      <td>1.65943</td>\n",
       "      <td>11781.5</td>\n",
       "    </tr>\n",
       "    <tr>\n",
       "      <th>17</th>\n",
       "      <td>17</td>\n",
       "      <td>4</td>\n",
       "      <td>3</td>\n",
       "      <td>228474.0</td>\n",
       "      <td>0.59895</td>\n",
       "      <td>0.66</td>\n",
       "      <td>154.0</td>\n",
       "      <td>1.0</td>\n",
       "      <td>14500</td>\n",
       "      <td>2.0000</td>\n",
       "      <td>0.0</td>\n",
       "      <td>0.0</td>\n",
       "      <td>0.00</td>\n",
       "      <td>0.00</td>\n",
       "      <td>5.0</td>\n",
       "      <td>6.333333e+03</td>\n",
       "      <td>0.2345</td>\n",
       "      <td>0.24242</td>\n",
       "      <td>1299.0</td>\n",
       "    </tr>\n",
       "    <tr>\n",
       "      <th>18</th>\n",
       "      <td>18</td>\n",
       "      <td>4</td>\n",
       "      <td>4</td>\n",
       "      <td>326389.0</td>\n",
       "      <td>0.57939</td>\n",
       "      <td>0.72</td>\n",
       "      <td>126.0</td>\n",
       "      <td>2.0</td>\n",
       "      <td>11000</td>\n",
       "      <td>2.0000</td>\n",
       "      <td>0.0</td>\n",
       "      <td>0.0</td>\n",
       "      <td>26600.00</td>\n",
       "      <td>818.77</td>\n",
       "      <td>5.0</td>\n",
       "      <td>5.816667e+03</td>\n",
       "      <td>0.2424</td>\n",
       "      <td>0.22530</td>\n",
       "      <td>1279.0</td>\n",
       "    </tr>\n",
       "    <tr>\n",
       "      <th>19</th>\n",
       "      <td>19</td>\n",
       "      <td>5</td>\n",
       "      <td>1</td>\n",
       "      <td>2049972.0</td>\n",
       "      <td>180.92343</td>\n",
       "      <td>292.43</td>\n",
       "      <td>59808.0</td>\n",
       "      <td>330.0</td>\n",
       "      <td>3821266</td>\n",
       "      <td>649.8437</td>\n",
       "      <td>166.0</td>\n",
       "      <td>7.0</td>\n",
       "      <td>1379601.71</td>\n",
       "      <td>565972.04</td>\n",
       "      <td>1187.0</td>\n",
       "      <td>2.242843e+06</td>\n",
       "      <td>51.1102</td>\n",
       "      <td>46.53865</td>\n",
       "      <td>431504.5</td>\n",
       "    </tr>\n",
       "    <tr>\n",
       "      <th>20</th>\n",
       "      <td>20</td>\n",
       "      <td>5</td>\n",
       "      <td>2</td>\n",
       "      <td>658823.0</td>\n",
       "      <td>2.73674</td>\n",
       "      <td>4.28</td>\n",
       "      <td>689.0</td>\n",
       "      <td>8.0</td>\n",
       "      <td>72500</td>\n",
       "      <td>10.0000</td>\n",
       "      <td>0.0</td>\n",
       "      <td>0.0</td>\n",
       "      <td>9500.00</td>\n",
       "      <td>8426.35</td>\n",
       "      <td>25.0</td>\n",
       "      <td>3.650833e+04</td>\n",
       "      <td>1.0472</td>\n",
       "      <td>0.95863</td>\n",
       "      <td>7155.0</td>\n",
       "    </tr>\n",
       "    <tr>\n",
       "      <th>21</th>\n",
       "      <td>21</td>\n",
       "      <td>5</td>\n",
       "      <td>3</td>\n",
       "      <td>101212.0</td>\n",
       "      <td>0.29081</td>\n",
       "      <td>0.41</td>\n",
       "      <td>20.0</td>\n",
       "      <td>1.0</td>\n",
       "      <td>10000</td>\n",
       "      <td>1.0000</td>\n",
       "      <td>0.0</td>\n",
       "      <td>0.0</td>\n",
       "      <td>0.00</td>\n",
       "      <td>0.00</td>\n",
       "      <td>2.0</td>\n",
       "      <td>9.791667e+03</td>\n",
       "      <td>0.1375</td>\n",
       "      <td>0.09402</td>\n",
       "      <td>689.5</td>\n",
       "    </tr>\n",
       "  </tbody>\n",
       "</table>\n",
       "</div>"
      ],
      "text/plain": [
       "    index  DebtRatioBin  AmtDelinquentBin  AmountDelinquent  BorrowerAPR  \\\n",
       "0       0             1                 1        17107487.0    739.20698   \n",
       "1       1             1                 2         5266410.0     19.40007   \n",
       "2       2             1                 3         2613249.0      5.41745   \n",
       "3       3             1                 4         1401483.0      2.30375   \n",
       "4       4             1                 5          673328.0      0.65072   \n",
       "5       5             2                 1        24635113.0   1403.81326   \n",
       "6       6             2                 2         5801983.0     21.64412   \n",
       "7       7             2                 3         4387475.0      8.40160   \n",
       "8       8             2                 4         1345869.0      2.20483   \n",
       "9       9             2                 5          439053.0      0.43216   \n",
       "10     10             3                 1        13850353.0    915.07735   \n",
       "11     11             3                 2         3901030.0     13.71681   \n",
       "12     12             3                 3         1491937.0      3.00643   \n",
       "13     13             3                 4          506007.0      0.79323   \n",
       "14     14             3                 5          230291.0      0.32538   \n",
       "15     15             4                 1         5771414.0    458.34288   \n",
       "16     16             4                 2         1127730.0      4.33117   \n",
       "17     17             4                 3          228474.0      0.59895   \n",
       "18     18             4                 4          326389.0      0.57939   \n",
       "19     19             5                 1         2049972.0    180.92343   \n",
       "20     20             5                 2          658823.0      2.73674   \n",
       "21     21             5                 3          101212.0      0.29081   \n",
       "\n",
       "    DebtToIncomeRatio  EmploymentStatusDuration  IsBorrowerHomeowner  \\\n",
       "0              202.77                  265431.0               1331.0   \n",
       "1                4.79                    6776.0                 59.0   \n",
       "2                1.51                    2690.0                 20.0   \n",
       "3                0.54                    1043.0                  6.0   \n",
       "4                0.17                     130.0                  1.0   \n",
       "5              873.17                  541742.0               2880.0   \n",
       "6               13.65                    9771.0                 62.0   \n",
       "7                5.55                    4079.0                 32.0   \n",
       "8                1.13                     771.0                  7.0   \n",
       "9                0.32                      55.0                  1.0   \n",
       "10             896.65                  350316.0               1903.0   \n",
       "11              13.27                    7028.0                 43.0   \n",
       "12               3.11                    1095.0                  8.0   \n",
       "13               0.78                     354.0                  3.0   \n",
       "14               0.23                     388.0                  0.0   \n",
       "15             607.92                  171448.0                900.0   \n",
       "16               5.75                    1490.0                 13.0   \n",
       "17               0.66                     154.0                  1.0   \n",
       "18               0.72                     126.0                  2.0   \n",
       "19             292.43                   59808.0                330.0   \n",
       "20               4.28                     689.0                  8.0   \n",
       "21               0.41                      20.0                  1.0   \n",
       "\n",
       "    LoanOriginalAmount  PercentFunded  ProsperPaymentsLessThanOneMonthLate  \\\n",
       "0             13485381      2966.7106                                389.0   \n",
       "1               473075        74.8737                                 15.0   \n",
       "2               185558        21.8058                                  0.0   \n",
       "3                48500         8.0000                                  2.0   \n",
       "4                20000         3.0000                                  0.0   \n",
       "5             35101274      5611.2672                                957.0   \n",
       "6               732135        86.8251                                 41.0   \n",
       "7               372301        36.0000                                 22.0   \n",
       "8                70600         8.0000                                  0.0   \n",
       "9                12500         2.0000                                  0.0   \n",
       "10            24940004      3578.8115                                802.0   \n",
       "11              406914        53.8183                                 89.0   \n",
       "12              161800        13.0000                                 11.0   \n",
       "13               17000         3.0000                                  1.0   \n",
       "14                4000         1.0000                                  0.0   \n",
       "15            11861431      1746.4908                                384.0   \n",
       "16              158501        17.0000                                  0.0   \n",
       "17               14500         2.0000                                  0.0   \n",
       "18               11000         2.0000                                  0.0   \n",
       "19             3821266       649.8437                                166.0   \n",
       "20               72500        10.0000                                  0.0   \n",
       "21               10000         1.0000                                  0.0   \n",
       "\n",
       "    ProsperPaymentsOneMonthPlusLate  ProsperPrincipalBorrowed  \\\n",
       "0                              34.0                2224476.52   \n",
       "1                               2.0                 171400.00   \n",
       "2                               0.0                  11000.00   \n",
       "3                               0.0                   4550.00   \n",
       "4                               0.0                  15000.00   \n",
       "5                              79.0                6736785.45   \n",
       "6                               5.0                 315425.55   \n",
       "7                               0.0                 154700.00   \n",
       "8                               0.0                      0.00   \n",
       "9                               0.0                   5000.00   \n",
       "10                             62.0                6659032.92   \n",
       "11                              5.0                 195132.00   \n",
       "12                              1.0                  91300.00   \n",
       "13                              0.0                  19000.00   \n",
       "14                              0.0                   4000.00   \n",
       "15                             23.0                3258266.82   \n",
       "16                              0.0                  20501.00   \n",
       "17                              0.0                      0.00   \n",
       "18                              0.0                  26600.00   \n",
       "19                              7.0                1379601.71   \n",
       "20                              0.0                   9500.00   \n",
       "21                              0.0                      0.00   \n",
       "\n",
       "    ProsperPrincipalOutstanding  ProsperRating (numeric)  StatedMonthlyIncome  \\\n",
       "0                     613808.67                   5946.0         1.765444e+07   \n",
       "1                      36019.88                    212.0         6.193520e+05   \n",
       "2                          0.00                     79.0         1.778462e+05   \n",
       "3                          0.02                     18.0         6.078958e+04   \n",
       "4                       5020.14                     14.0         3.570833e+04   \n",
       "5                    2453815.31                  13126.0         3.129686e+07   \n",
       "6                      72479.54                    280.0         6.516735e+05   \n",
       "7                      39587.72                    138.0         2.816119e+05   \n",
       "8                          0.00                     22.0         5.580375e+04   \n",
       "9                       1535.04                      9.0         9.166667e+03   \n",
       "10                   2492358.43                   8182.0         1.726394e+07   \n",
       "11                     27771.43                    177.0         3.176721e+05   \n",
       "12                      3346.57                     52.0         9.047142e+04   \n",
       "13                      3493.97                      9.0         2.983333e+04   \n",
       "14                      3149.93                      2.0         1.041667e+04   \n",
       "15                   1316448.87                   3762.0         7.268570e+06   \n",
       "16                     13054.93                     56.0         8.756900e+04   \n",
       "17                         0.00                      5.0         6.333333e+03   \n",
       "18                       818.77                      5.0         5.816667e+03   \n",
       "19                    565972.04                   1187.0         2.242843e+06   \n",
       "20                      8426.35                     25.0         3.650833e+04   \n",
       "21                         0.00                      2.0         9.791667e+03   \n",
       "\n",
       "    EstimatedLoss  EstimatedReturn  CreditScoreRangeAvg  \n",
       "0        168.4341        182.80428            1954913.0  \n",
       "1          5.6325          6.30058              50692.5  \n",
       "2          1.8448          2.23204              15349.0  \n",
       "3          0.6728          0.69863               5216.0  \n",
       "4          0.2074          0.30210               2088.5  \n",
       "5        356.3164        390.10910            3731630.0  \n",
       "6          7.0563          7.84596              59966.5  \n",
       "7          3.1912          3.15777              25182.0  \n",
       "8          0.5052          0.61607               5296.0  \n",
       "9          0.1320          0.16260               1379.0  \n",
       "10       250.4634        258.18177            2389248.0  \n",
       "11         4.8509          5.22257              36993.0  \n",
       "12         1.0713          1.23373               8983.5  \n",
       "13         0.3024          0.29433               2008.5  \n",
       "14         0.1375          0.11370                609.5  \n",
       "15       128.3295        126.99118            1167455.5  \n",
       "16         1.5333          1.65943              11781.5  \n",
       "17         0.2345          0.24242               1299.0  \n",
       "18         0.2424          0.22530               1279.0  \n",
       "19        51.1102         46.53865             431504.5  \n",
       "20         1.0472          0.95863               7155.0  \n",
       "21         0.1375          0.09402                689.5  "
      ]
     },
     "execution_count": 139,
     "metadata": {},
     "output_type": "execute_result"
    }
   ],
   "source": [
    "loan_data_partial_grouped = loan_data_partial_grouped.drop(columns=['debt_ratio_index', 'delinquent_index'])\n",
    "loan_data_partial_grouped"
   ]
  },
  {
   "cell_type": "code",
   "execution_count": 121,
   "metadata": {},
   "outputs": [
    {
     "data": {
      "text/plain": [
       "count    2.200000e+01\n",
       "mean     4.268867e+06\n",
       "std      6.322727e+06\n",
       "min      1.012120e+05\n",
       "25%      5.442110e+05\n",
       "50%      1.446710e+06\n",
       "75%      5.046676e+06\n",
       "max      2.463511e+07\n",
       "Name: AmountDelinquent, dtype: float64"
      ]
     },
     "execution_count": 121,
     "metadata": {},
     "output_type": "execute_result"
    }
   ],
   "source": [
    "loan_data_partial_grouped['AmountDelinquent'].describe()"
   ]
  },
  {
   "cell_type": "code",
   "execution_count": 122,
   "metadata": {},
   "outputs": [
    {
     "data": {
      "text/plain": [
       "0.9561123778781678"
      ]
     },
     "execution_count": 122,
     "metadata": {},
     "output_type": "execute_result"
    }
   ],
   "source": [
    "loan_data_partial_grouped['AmountDelinquent'].sum() / loan_data['AmountDelinquent'].sum()"
   ]
  },
  {
   "cell_type": "code",
   "execution_count": 191,
   "metadata": {
    "scrolled": true
   },
   "outputs": [
    {
     "data": {
      "image/png": "[encoded data removed]",
      "text/plain": [
       "<Figure size 720x360 with 1 Axes>"
      ]
     },
     "metadata": {
      "needs_background": "light"
     },
     "output_type": "display_data"
    }
   ],
   "source": [
    "plt.figure(figsize=(10,5))\n",
    "g = sns.barplot(data = loan_data_partial_grouped, x='DebtRatioBin', hue='AmtDelinquentBin', y='AmountDelinquent', ci=None);\n",
    "g.legend(loc=1)\n",
    "\n",
    "x_labels = []\n",
    "legend_labels = []\n",
    "\n",
    "# Create labels for Debt to Income Ratio ranges along x-axis\n",
    "for i in range(loan_data_partial_grouped['DebtRatioBin'].min(), loan_data_partial_grouped['DebtRatioBin'].max() + 1):\n",
    "    if i == loan_data_partial_grouped['DebtRatioBin'].min():\n",
    "        label_min = debt_ratio_bins[i]\n",
    "    else:\n",
    "        label_min = debt_ratio_bins[i] + 0.01 \n",
    "    label_max = debt_ratio_bins[i + 1]\n",
    "    label = str('{0:.2f}'.format(label_min)) + ' - ' + str('{0:.2f}'.format(label_max))\n",
    "    x_labels.append(label)\n",
    "\n",
    "# Modify labels so they show commas and whole numbers\n",
    "y_labels = ['${:,.0f}'.format(t) for t in g.get_yticks()]    \n",
    "\n",
    "# Create labels for Amount Delinquent ranges for legend\n",
    "for i in range(loan_data_partial_grouped['AmtDelinquentBin'].min(), loan_data_partial_grouped['AmtDelinquentBin'].max() + 1):\n",
    "    if i == loan_data_partial_grouped['AmtDelinquentBin'].min():\n",
    "        label_min = delinquent_bins[i]\n",
    "    else: \n",
    "        label_min = delinquent_bins[i] + 1   \n",
    "    label_max = delinquent_bins[i + 1]\n",
    "    label = str('{:,.0f}'.format(label_min)) + ' - ' + str('{:,.0f}'.format(label_max))\n",
    "    legend_labels.append(label)    \n",
    "    \n",
    "g.set(xticklabels=x_labels, yticklabels=y_labels)\n",
    "g.set(xlabel='Debt to Income Ratio', ylabel='Total Amount Delinquent');\n",
    "plt.legend(legend_labels, loc=1);"
   ]
  },
  {
   "cell_type": "code",
   "execution_count": 158,
   "metadata": {},
   "outputs": [
    {
     "data": {
      "text/plain": [
       "array([       0.,  5000000., 10000000., 15000000., 20000000., 25000000.,\n",
       "       30000000.])"
      ]
     },
     "execution_count": 158,
     "metadata": {},
     "output_type": "execute_result"
    }
   ],
   "source": [
    "g.get_yticks()"
   ]
  },
  {
   "cell_type": "code",
   "execution_count": 149,
   "metadata": {},
   "outputs": [
    {
     "data": {
      "text/plain": [
       "0.2"
      ]
     },
     "execution_count": 149,
     "metadata": {},
     "output_type": "execute_result"
    }
   ],
   "source": [
    "loan_data_partial[loan_data_partial['debt_ratio_index'] == 2]['DebtToIncomeRatio'].max()"
   ]
  },
  {
   "cell_type": "code",
   "execution_count": 68,
   "metadata": {},
   "outputs": [],
   "source": [
    "#Function to return basic descriptive data based on debt to income ratio bins\n",
    "def amt_delinquent_data(ratio_index):\n",
    "    return {'count' : loan_data_partial[loan_data_partial['debt_ratio_index'] == ratio_index]['AmountDelinquent'].count(), \n",
    "        'sum' : loan_data_partial[loan_data_partial['debt_ratio_index'] == ratio_index]['AmountDelinquent'].sum(), \n",
    "        'mean' : loan_data_partial[loan_data_partial['debt_ratio_index'] == ratio_index]['AmountDelinquent'].mean(),\n",
    "        'min' : loan_data_partial[loan_data_partial['debt_ratio_index'] == ratio_index]['AmountDelinquent'].min(), \n",
    "        'max' : loan_data_partial[loan_data_partial['debt_ratio_index'] == ratio_index]['AmountDelinquent'].max()} "
   ]
  },
  {
   "cell_type": "code",
   "execution_count": 70,
   "metadata": {},
   "outputs": [
    {
     "name": "stdout",
     "output_type": "stream",
     "text": [
      "27061957.0 8780.64795587281 3082\n",
      "36609493.0 6363.5482357031115 5753\n",
      "19979618.0 5466.37975376197 3655\n",
      "7454007.0 4211.303389830508 1770\n",
      "2810007.0 4244.723564954683 662\n"
     ]
    }
   ],
   "source": [
    "#Used as a sanity check to ensure that plots are consistent with data\n",
    "for i in range(1,6):\n",
    "    print(amt_delinquent_data(i)['sum'], amt_delinquent_data(i)['mean'], amt_delinquent_data(i)['count'])"
   ]
  },
  {
   "cell_type": "code",
   "execution_count": null,
   "metadata": {},
   "outputs": [],
   "source": [
    "debt_del_grouped.ffill()\n",
    "debt_del_grouped = debt_del_grouped.reindex(pd.RangeIndex(len(debt_ratio_bins) + 1))\n",
    "debt_del_grouped.fillna(0, inplace=True)\n",
    "debt_del_grouped.index\n",
    "#debt_del_grouped.drop(columns=['count'])"
   ]
  },
  {
   "cell_type": "code",
   "execution_count": null,
   "metadata": {},
   "outputs": [],
   "source": [
    "debt_indices.max()"
   ]
  },
  {
   "cell_type": "code",
   "execution_count": null,
   "metadata": {},
   "outputs": [],
   "source": [
    "debt_del_grouped.columns[-1][1]"
   ]
  },
  {
   "cell_type": "code",
   "execution_count": null,
   "metadata": {},
   "outputs": [],
   "source": [
    "s = debt_del_grouped['sum']\n",
    "s"
   ]
  },
  {
   "cell_type": "code",
   "execution_count": null,
   "metadata": {},
   "outputs": [],
   "source": [
    "for i in range(s.columns[-1] + 1, len(delinquent_bins) + 2):\n",
    "    s.loc[i] = 0"
   ]
  },
  {
   "cell_type": "code",
   "execution_count": null,
   "metadata": {},
   "outputs": [],
   "source": [
    "cols = np.arange(0, len(delinquent_bins) + 2)\n",
    "cols\n",
    "\n",
    "for c in cols:\n",
    "    if c not in(s.columns):\n",
    "        s.loc[c] = 0"
   ]
  },
  {
   "cell_type": "code",
   "execution_count": null,
   "metadata": {},
   "outputs": [],
   "source": [
    "s"
   ]
  },
  {
   "cell_type": "code",
   "execution_count": null,
   "metadata": {},
   "outputs": [],
   "source": [
    "s = s.sort_index(axis=1)\n",
    "s"
   ]
  },
  {
   "cell_type": "code",
   "execution_count": null,
   "metadata": {},
   "outputs": [],
   "source": [
    "debt_del_grouped['sum']"
   ]
  },
  {
   "cell_type": "code",
   "execution_count": null,
   "metadata": {},
   "outputs": [],
   "source": [
    "s = s.drop(s.loc[102])"
   ]
  },
  {
   "cell_type": "code",
   "execution_count": null,
   "metadata": {},
   "outputs": [],
   "source": [
    "s = s.drop(columns=13)"
   ]
  },
  {
   "cell_type": "code",
   "execution_count": null,
   "metadata": {},
   "outputs": [],
   "source": [
    "s"
   ]
  },
  {
   "cell_type": "code",
   "execution_count": null,
   "metadata": {},
   "outputs": [],
   "source": [
    "plt.hist2d(data = loan_data, x = 'AmountDelinquent', y = 'AmountDelinquent', bins=[debt_ratio_bins, delinquent_bins], cmap='viridis_r', cmin=1, weights=s);\n",
    "plt.colorbar();"
   ]
  },
  {
   "cell_type": "code",
   "execution_count": null,
   "metadata": {},
   "outputs": [],
   "source": [
    "d = debt_del_grouped.reset_index()\n",
    "d['sum']"
   ]
  },
  {
   "cell_type": "code",
   "execution_count": null,
   "metadata": {},
   "outputs": [],
   "source": [
    "plt.hist2d(data = loan_data, x = 'DebtToIncomeRatio', y = 'AmountDelinquent', bins=[debt_ratio_bins, delinquent_bins], weights='debt_del_grouped', cmap='viridis_r');\n",
    "plt.colorbar();"
   ]
  },
  {
   "cell_type": "code",
   "execution_count": null,
   "metadata": {},
   "outputs": [],
   "source": [
    "x = pd.pivot_table(debt_del_grouped, index = ['DebtToIncomeRatio', 'AmountDelinquent'], values='sum')\n",
    "x.reset_index()"
   ]
  },
  {
   "cell_type": "code",
   "execution_count": null,
   "metadata": {},
   "outputs": [],
   "source": [
    "loan_data['AmountDelinquent'].sum(), debt_delinquent_data['AmountDelinquent'].sum(), '{:0.2f}'.format(100 * (debt_delinquent_data['AmountDelinquent'].sum() / loan_data['AmountDelinquent'].sum()))"
   ]
  },
  {
   "cell_type": "code",
   "execution_count": null,
   "metadata": {},
   "outputs": [],
   "source": [
    "weights = np.zeros((len(debt_ratio_bins) + 1, len(delinquent_bins) + 1))\n",
    "weights.shape"
   ]
  },
  {
   "cell_type": "code",
   "execution_count": null,
   "metadata": {},
   "outputs": [],
   "source": [
    "type(debt_del_grouped)"
   ]
  },
  {
   "cell_type": "code",
   "execution_count": null,
   "metadata": {},
   "outputs": [],
   "source": [
    "for i in range(0, weights.shape[0]):\n",
    "    for j in range(0, weights.shape[1]):\n",
    "        \n",
    "        weights[i,j] = debt_del_grouped[(debt_del_grouped['DebtToIncomeRatio'] == i) & (debt_del_grouped['AmountDelinquent'] == j)]['sum']"
   ]
  },
  {
   "cell_type": "code",
   "execution_count": null,
   "metadata": {},
   "outputs": [],
   "source": [
    "debt_delinquent_data"
   ]
  },
  {
   "cell_type": "code",
   "execution_count": null,
   "metadata": {},
   "outputs": [],
   "source": [
    "plt.hist2d(data = loan_data, x = 'DebtToIncomeRatio', y = 'AmountDelinquent', bins=[debt_ratio_bins, delinquent_bins], cmap='viridis_r', cmin=1);\n",
    "plt.colorbar();"
   ]
  },
  {
   "cell_type": "code",
   "execution_count": null,
   "metadata": {},
   "outputs": [],
   "source": []
  },
  {
   "cell_type": "code",
   "execution_count": null,
   "metadata": {},
   "outputs": [],
   "source": [
    "debt_delinquent_data = loan_data.copy()\n",
    "\n",
    "drop_debt_idx = debt_delinquent_data[debt_delinquent_data['DebtToIncomeRatio'] > 1].index\n",
    "debt_delinquent_data.drop(drop_debt_idx, inplace=True)\n",
    "\n",
    "drop_delinquent_idx = debt_delinquent_data[debt_delinquent_data['AmountDelinquent'] > 4000].index\n",
    "debt_delinquent_data.drop(drop_delinquent_idx, inplace=True)\n",
    "\n",
    "debt_delinquent_data.info()"
   ]
  },
  {
   "cell_type": "code",
   "execution_count": null,
   "metadata": {},
   "outputs": [],
   "source": []
  },
  {
   "cell_type": "code",
   "execution_count": null,
   "metadata": {},
   "outputs": [],
   "source": [
    "#sns.countplot(data = debt_delinquent_data, x = 'DebtToIncomeRatio', hue='AmountDelinquent')"
   ]
  },
  {
   "cell_type": "code",
   "execution_count": null,
   "metadata": {},
   "outputs": [],
   "source": []
  },
  {
   "cell_type": "code",
   "execution_count": null,
   "metadata": {},
   "outputs": [],
   "source": [
    "debt_indices"
   ]
  },
  {
   "cell_type": "code",
   "execution_count": null,
   "metadata": {},
   "outputs": [],
   "source": []
  },
  {
   "cell_type": "code",
   "execution_count": null,
   "metadata": {},
   "outputs": [],
   "source": [
    "#debt_del_grouped = debt_del_grouped.pivot(index='DebtToIncomeRatio', columns='AmountDelinquent', values='Count').values"
   ]
  },
  {
   "cell_type": "code",
   "execution_count": null,
   "metadata": {},
   "outputs": [],
   "source": [
    "debt_del_grouped[0:5]"
   ]
  },
  {
   "cell_type": "code",
   "execution_count": null,
   "metadata": {},
   "outputs": [],
   "source": [
    "fig = plt.figure(figsize=(10,5))\n",
    "sns.barplot(data = debt_del_grouped, x = 'DebtToIncomeRatio', y = 'Count', hue = 'AmountDelinquent');"
   ]
  },
  {
   "cell_type": "code",
   "execution_count": null,
   "metadata": {},
   "outputs": [],
   "source": []
  },
  {
   "cell_type": "code",
   "execution_count": null,
   "metadata": {},
   "outputs": [],
   "source": [
    "loan_data['AmountDelinquent'].shape[0], debt_delinquent_data['AmountDelinquent'].shape[0]"
   ]
  },
  {
   "cell_type": "code",
   "execution_count": null,
   "metadata": {},
   "outputs": [],
   "source": [
    "loan_data_bin_counts = loan_data.groupby(bin_indices).size()\n",
    "loan_data_bin_counts.value_counts()\n",
    "#loan_data['EstimatedReturn'].isna().sum()"
   ]
  },
  {
   "cell_type": "code",
   "execution_count": null,
   "metadata": {},
   "outputs": [],
   "source": []
  },
  {
   "cell_type": "code",
   "execution_count": null,
   "metadata": {},
   "outputs": [],
   "source": [
    "drc = debt_ratio_counts.pivot(index = 'DebtToIncomeRatio', columns='AmountDelinquent', values=0)"
   ]
  },
  {
   "cell_type": "code",
   "execution_count": null,
   "metadata": {},
   "outputs": [],
   "source": [
    "drc.fillna(0, inplace=True)"
   ]
  },
  {
   "cell_type": "code",
   "execution_count": null,
   "metadata": {},
   "outputs": [],
   "source": [
    "drc"
   ]
  },
  {
   "cell_type": "code",
   "execution_count": null,
   "metadata": {},
   "outputs": [],
   "source": []
  },
  {
   "cell_type": "code",
   "execution_count": null,
   "metadata": {},
   "outputs": [],
   "source": []
  },
  {
   "cell_type": "code",
   "execution_count": null,
   "metadata": {},
   "outputs": [],
   "source": []
  },
  {
   "cell_type": "code",
   "execution_count": null,
   "metadata": {},
   "outputs": [],
   "source": []
  },
  {
   "cell_type": "code",
   "execution_count": null,
   "metadata": {},
   "outputs": [],
   "source": [
    "debt_ratio_counts = loan_data.groupby([bin_indices, del_indices]).size()"
   ]
  },
  {
   "cell_type": "code",
   "execution_count": null,
   "metadata": {},
   "outputs": [],
   "source": [
    "debt_ratio_counts.head()"
   ]
  },
  {
   "cell_type": "code",
   "execution_count": null,
   "metadata": {},
   "outputs": [],
   "source": []
  },
  {
   "cell_type": "code",
   "execution_count": null,
   "metadata": {},
   "outputs": [],
   "source": [
    "debt_ratio_counts = debt_ratio_counts.reset_index()\n",
    "debt_ratio_counts"
   ]
  },
  {
   "cell_type": "code",
   "execution_count": null,
   "metadata": {},
   "outputs": [],
   "source": []
  },
  {
   "cell_type": "code",
   "execution_count": null,
   "metadata": {},
   "outputs": [],
   "source": []
  },
  {
   "cell_type": "code",
   "execution_count": null,
   "metadata": {},
   "outputs": [],
   "source": [
    "loan_data_debt_"
   ]
  },
  {
   "cell_type": "code",
   "execution_count": null,
   "metadata": {},
   "outputs": [],
   "source": [
    "\n",
    "#cut_labels = ['{:0.2f}'.format(b) for b in cut_bins]\n",
    "bin_indices = pd.cut(loan_data['DebtToIncomeRatio'], debt_ratio_bins, labels=False).astype(int)\n",
    "del_indices = pd.cut(loan_data['AmountDelinquent'], delinquent_bins, labels=False).astype(int)\n",
    "\n",
    "debt_ratio_counts = loan_data.groupby([bin_indices, del_indices]).size()"
   ]
  },
  {
   "cell_type": "code",
   "execution_count": null,
   "metadata": {},
   "outputs": [],
   "source": [
    "bin_indices = pd.cut(loan_data['DebtToIncomeRatio'], debt_ratio_bins, labels=False).astype(int)\n",
    "del_indices = pd.cut(loan_data['AmountDelinquent'], delinquent_bins, labels=False).astype(int)\n",
    "\n",
    "#debt_ratio_counts = loan_data.groupby([bin_indices, del_indices]).size()"
   ]
  },
  {
   "cell_type": "code",
   "execution_count": null,
   "metadata": {},
   "outputs": [],
   "source": []
  }
 ],
 "metadata": {
  "kernelspec": {
   "display_name": "Python 3",
   "language": "python",
   "name": "python3"
  },
  "language_info": {
   "codemirror_mode": {
    "name": "ipython",
    "version": 3
   },
   "file_extension": ".py",
   "mimetype": "text/x-python",
   "name": "python",
   "nbconvert_exporter": "python",
   "pygments_lexer": "ipython3",
   "version": "3.7.5"
  }
 },
 "nbformat": 4,
 "nbformat_minor": 2
}
